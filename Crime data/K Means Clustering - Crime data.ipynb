{
 "cells": [
  {
   "cell_type": "markdown",
   "id": "9ef60dea",
   "metadata": {},
   "source": [
    "**K-Means CLUSTERING!! - 360DIGITMG**\n",
    "\n",
    "Clustering algorithms are unsupervised machine learning algorithms so there is no label associated with data points.\n",
    "Clustering algorithms look for similarities or dissimilarities among data points so that similar ones can be grouped together.\n",
    "\n",
    "K-means algorithm identifies k number of centroids, and then allocates every data point to the nearest cluster, while keeping the centroids as small as possible. The ‘means’ in the K-means refers to averaging of the data; that is, finding the centroid.\n",
    "\n",
    "To process the learning data, the K-means algorithm in data mining starts with a first group of randomly selected centroids, which are used as the beginning points for every cluster, and then performs iterative (repetitive) calculations to optimize the positions of the centroids\n",
    "\n",
    "It halts creating and optimizing clusters when either:\n",
    "\n",
    "    1. The centroids have stabilized — there is no change in their values because the clustering has been successful.\n",
    "    2. The defined number of iterations has been achieved."
   ]
  },
  {
   "cell_type": "markdown",
   "id": "8358c469",
   "metadata": {},
   "source": [
    "K-Means Clustering problem 1:\n",
    "    Perform clustering for the crime data and identify the number of clusters formed and draw inferences. Refer to \n",
    "    crime_data.csv dataset."
   ]
  },
  {
   "cell_type": "markdown",
   "id": "3ee8e580",
   "metadata": {},
   "source": [
    "As a first step towards your solution, we need to understand the data and hence we load the same and the libbraries required"
   ]
  },
  {
   "cell_type": "code",
   "execution_count": 1,
   "id": "4e306cfd",
   "metadata": {},
   "outputs": [],
   "source": [
    "import pandas as pd               # for Data Manipulation\n",
    "import matplotlib.pyplot as plt   # for Visualization\n",
    "import numpy as np                #for Mathematical calculations\n",
    "import seaborn as sns             #for Advanced visualizations\n",
    "\n",
    "crime = pd.read_csv(\"crime_data.csv\")"
   ]
  },
  {
   "cell_type": "code",
   "execution_count": 2,
   "id": "7c48fff7",
   "metadata": {},
   "outputs": [
    {
     "data": {
      "text/html": [
       "<div>\n",
       "<style scoped>\n",
       "    .dataframe tbody tr th:only-of-type {\n",
       "        vertical-align: middle;\n",
       "    }\n",
       "\n",
       "    .dataframe tbody tr th {\n",
       "        vertical-align: top;\n",
       "    }\n",
       "\n",
       "    .dataframe thead th {\n",
       "        text-align: right;\n",
       "    }\n",
       "</style>\n",
       "<table border=\"1\" class=\"dataframe\">\n",
       "  <thead>\n",
       "    <tr style=\"text-align: right;\">\n",
       "      <th></th>\n",
       "      <th>Unnamed: 0</th>\n",
       "      <th>Murder</th>\n",
       "      <th>Assault</th>\n",
       "      <th>UrbanPop</th>\n",
       "      <th>Rape</th>\n",
       "    </tr>\n",
       "  </thead>\n",
       "  <tbody>\n",
       "    <tr>\n",
       "      <th>0</th>\n",
       "      <td>Alabama</td>\n",
       "      <td>13.2</td>\n",
       "      <td>236</td>\n",
       "      <td>58</td>\n",
       "      <td>21.2</td>\n",
       "    </tr>\n",
       "    <tr>\n",
       "      <th>1</th>\n",
       "      <td>Alaska</td>\n",
       "      <td>10.0</td>\n",
       "      <td>263</td>\n",
       "      <td>48</td>\n",
       "      <td>44.5</td>\n",
       "    </tr>\n",
       "    <tr>\n",
       "      <th>2</th>\n",
       "      <td>Arizona</td>\n",
       "      <td>8.1</td>\n",
       "      <td>294</td>\n",
       "      <td>80</td>\n",
       "      <td>31.0</td>\n",
       "    </tr>\n",
       "    <tr>\n",
       "      <th>3</th>\n",
       "      <td>Arkansas</td>\n",
       "      <td>8.8</td>\n",
       "      <td>190</td>\n",
       "      <td>50</td>\n",
       "      <td>19.5</td>\n",
       "    </tr>\n",
       "    <tr>\n",
       "      <th>4</th>\n",
       "      <td>California</td>\n",
       "      <td>9.0</td>\n",
       "      <td>276</td>\n",
       "      <td>91</td>\n",
       "      <td>40.6</td>\n",
       "    </tr>\n",
       "  </tbody>\n",
       "</table>\n",
       "</div>"
      ],
      "text/plain": [
       "   Unnamed: 0  Murder  Assault  UrbanPop  Rape\n",
       "0     Alabama    13.2      236        58  21.2\n",
       "1      Alaska    10.0      263        48  44.5\n",
       "2     Arizona     8.1      294        80  31.0\n",
       "3    Arkansas     8.8      190        50  19.5\n",
       "4  California     9.0      276        91  40.6"
      ]
     },
     "execution_count": 2,
     "metadata": {},
     "output_type": "execute_result"
    }
   ],
   "source": [
    "crime.head()"
   ]
  },
  {
   "cell_type": "code",
   "execution_count": 3,
   "id": "67a26ac5",
   "metadata": {},
   "outputs": [],
   "source": [
    "# We see the columns in the dataset\n",
    "crime['State'] = crime.iloc[:,0]\n",
    "crime = crime.iloc[:, [5,1,2,3,4]]"
   ]
  },
  {
   "cell_type": "code",
   "execution_count": 4,
   "id": "0ea44627",
   "metadata": {},
   "outputs": [
    {
     "data": {
      "text/html": [
       "<div>\n",
       "<style scoped>\n",
       "    .dataframe tbody tr th:only-of-type {\n",
       "        vertical-align: middle;\n",
       "    }\n",
       "\n",
       "    .dataframe tbody tr th {\n",
       "        vertical-align: top;\n",
       "    }\n",
       "\n",
       "    .dataframe thead th {\n",
       "        text-align: right;\n",
       "    }\n",
       "</style>\n",
       "<table border=\"1\" class=\"dataframe\">\n",
       "  <thead>\n",
       "    <tr style=\"text-align: right;\">\n",
       "      <th></th>\n",
       "      <th>State</th>\n",
       "      <th>Murder</th>\n",
       "      <th>Assault</th>\n",
       "      <th>UrbanPop</th>\n",
       "      <th>Rape</th>\n",
       "    </tr>\n",
       "  </thead>\n",
       "  <tbody>\n",
       "    <tr>\n",
       "      <th>0</th>\n",
       "      <td>Alabama</td>\n",
       "      <td>13.2</td>\n",
       "      <td>236</td>\n",
       "      <td>58</td>\n",
       "      <td>21.2</td>\n",
       "    </tr>\n",
       "    <tr>\n",
       "      <th>1</th>\n",
       "      <td>Alaska</td>\n",
       "      <td>10.0</td>\n",
       "      <td>263</td>\n",
       "      <td>48</td>\n",
       "      <td>44.5</td>\n",
       "    </tr>\n",
       "    <tr>\n",
       "      <th>2</th>\n",
       "      <td>Arizona</td>\n",
       "      <td>8.1</td>\n",
       "      <td>294</td>\n",
       "      <td>80</td>\n",
       "      <td>31.0</td>\n",
       "    </tr>\n",
       "    <tr>\n",
       "      <th>3</th>\n",
       "      <td>Arkansas</td>\n",
       "      <td>8.8</td>\n",
       "      <td>190</td>\n",
       "      <td>50</td>\n",
       "      <td>19.5</td>\n",
       "    </tr>\n",
       "    <tr>\n",
       "      <th>4</th>\n",
       "      <td>California</td>\n",
       "      <td>9.0</td>\n",
       "      <td>276</td>\n",
       "      <td>91</td>\n",
       "      <td>40.6</td>\n",
       "    </tr>\n",
       "  </tbody>\n",
       "</table>\n",
       "</div>"
      ],
      "text/plain": [
       "        State  Murder  Assault  UrbanPop  Rape\n",
       "0     Alabama    13.2      236        58  21.2\n",
       "1      Alaska    10.0      263        48  44.5\n",
       "2     Arizona     8.1      294        80  31.0\n",
       "3    Arkansas     8.8      190        50  19.5\n",
       "4  California     9.0      276        91  40.6"
      ]
     },
     "execution_count": 4,
     "metadata": {},
     "output_type": "execute_result"
    }
   ],
   "source": [
    "crime.head()"
   ]
  },
  {
   "cell_type": "markdown",
   "id": "cf3630e4",
   "metadata": {},
   "source": [
    "**Data Description:**\n",
    "\n",
    "The file Crime_data contains information on states that have the crime rate as per the given features, we need to make clusters based on these crime rates in the dataset:\n",
    "\n",
    "State -- State in which the crime rate is being depicted\n",
    "\n",
    "Murder -- Murder rate in the state\n",
    "\n",
    "Assault -- Assault rate in the state\n",
    "\n",
    "UrbanPop -- UrbanPop rate in the state\n",
    "\n",
    "Rape -- cases of rape in the state"
   ]
  },
  {
   "cell_type": "code",
   "execution_count": 5,
   "id": "7ba66168",
   "metadata": {},
   "outputs": [
    {
     "data": {
      "text/plain": [
       "State       0\n",
       "Murder      0\n",
       "Assault     0\n",
       "UrbanPop    0\n",
       "Rape        0\n",
       "dtype: int64"
      ]
     },
     "execution_count": 5,
     "metadata": {},
     "output_type": "execute_result"
    }
   ],
   "source": [
    "# As a part of the Data cleansing we check the data for any missing/ na values\n",
    "crime.isna().sum()"
   ]
  },
  {
   "cell_type": "code",
   "execution_count": 6,
   "id": "fc3b6dfa",
   "metadata": {},
   "outputs": [
    {
     "data": {
      "text/plain": [
       "0"
      ]
     },
     "execution_count": 6,
     "metadata": {},
     "output_type": "execute_result"
    }
   ],
   "source": [
    "# Additionally we check the data for any duplicate values, now this can be an optional check depending on the data being used\n",
    "crime1 = crime.duplicated()\n",
    "sum(crime1)"
   ]
  },
  {
   "cell_type": "markdown",
   "id": "5978f7c4",
   "metadata": {},
   "source": [
    "Outlier Treatment!!!\n",
    "\n",
    "Now we all know that data can have outliers which are the values that may effect the analysis in a big way. \n",
    "\n",
    "In other words Outliers are the values that differ from the rest of the data.In order to do so we use the Boxplots, wherein \n",
    "we can see the outliers being outshined out of the plot."
   ]
  },
  {
   "cell_type": "code",
   "execution_count": 7,
   "id": "675082ea",
   "metadata": {},
   "outputs": [
    {
     "data": {
      "image/png": "[encoded data removed]",
      "text/plain": [
       "<Figure size 432x288 with 1 Axes>"
      ]
     },
     "metadata": {
      "needs_background": "light"
     },
     "output_type": "display_data"
    }
   ],
   "source": [
    "# We now plot the boxplot for the data using each feature independently and check for Outliers\n",
    "plt.boxplot(crime.Murder);plt.title('Boxplot');plt.show()\n",
    "\n",
    "# We see that there are Outliers present for \"Balance\" Feature"
   ]
  },
  {
   "cell_type": "code",
   "execution_count": 8,
   "id": "d67775e1",
   "metadata": {},
   "outputs": [
    {
     "data": {
      "image/png": "[encoded data removed]",
      "text/plain": [
       "<Figure size 432x288 with 1 Axes>"
      ]
     },
     "metadata": {
      "needs_background": "light"
     },
     "output_type": "display_data"
    }
   ],
   "source": [
    "plt.boxplot(crime.Assault);plt.title('Boxplot');plt.show()  # outliers present"
   ]
  },
  {
   "cell_type": "code",
   "execution_count": 9,
   "id": "43ed8c02",
   "metadata": {},
   "outputs": [
    {
     "data": {
      "image/png": "[encoded data removed]",
      "text/plain": [
       "<Figure size 432x288 with 1 Axes>"
      ]
     },
     "metadata": {
      "needs_background": "light"
     },
     "output_type": "display_data"
    }
   ],
   "source": [
    "plt.boxplot(crime.UrbanPop);plt.title('Boxplot');plt.show()  # No outliers "
   ]
  },
  {
   "cell_type": "code",
   "execution_count": 10,
   "id": "38273ad1",
   "metadata": {},
   "outputs": [
    {
     "data": {
      "image/png": "[encoded data removed]",
      "text/plain": [
       "<Figure size 432x288 with 1 Axes>"
      ]
     },
     "metadata": {
      "needs_background": "light"
     },
     "output_type": "display_data"
    }
   ],
   "source": [
    "plt.boxplot(crime.Rape);plt.title('Boxplot');plt.show()  # outliers present"
   ]
  },
  {
   "cell_type": "markdown",
   "id": "b752b310",
   "metadata": {},
   "source": [
    "Now in order to deal with the outliers we can use one of \"3R Techniques\" viz:\n",
    "       1. Rectify\n",
    "       2. Retain\n",
    "       3. Remove\n",
    "\n",
    "In our example we choose let say to keep or retain the data, but how should we keep outliers in the data and work forward?\n",
    "We use the Winsorization techniue!!! This technique helps modify the sample distribution of random variables by \n",
    "removing the outliers and replacing them with the values that constitute the 5th percentile and 95th percentile values,\n",
    "i.e, all data below 5th percentile gets replaced with the value of the 5th percentile and all the values above \n",
    "95th percentile, with the 95th percentile value."
   ]
  },
  {
   "cell_type": "code",
   "execution_count": 11,
   "id": "3d5bded8",
   "metadata": {},
   "outputs": [
    {
     "data": {
      "image/png": "[encoded data removed]",
      "text/plain": [
       "<Figure size 432x288 with 1 Axes>"
      ]
     },
     "metadata": {
      "needs_background": "light"
     },
     "output_type": "display_data"
    }
   ],
   "source": [
    "from scipy.stats.mstats import winsorize\n",
    "\n",
    "crime['Rape'] = winsorize(crime.Rape, limits=[0.07, 0.093])   \n",
    "plt.boxplot(crime['Rape']);plt.title('Boxplot');plt.show()\n"
   ]
  },
  {
   "cell_type": "code",
   "execution_count": 12,
   "id": "473da749",
   "metadata": {},
   "outputs": [
    {
     "data": {
      "text/plain": [
       "State       False\n",
       "Murder      False\n",
       "Assault     False\n",
       "UrbanPop    False\n",
       "Rape        False\n",
       "dtype: bool"
      ]
     },
     "execution_count": 12,
     "metadata": {},
     "output_type": "execute_result"
    }
   ],
   "source": [
    "# Now we check the data for zero variance values\n",
    "(crime == 0).all()"
   ]
  },
  {
   "cell_type": "code",
   "execution_count": 13,
   "id": "65578b45",
   "metadata": {},
   "outputs": [
    {
     "data": {
      "text/plain": [
       "<bound method NDFrame.describe of              State  Murder  Assault  UrbanPop  Rape\n",
       "0          Alabama    13.2      236        58  21.2\n",
       "1           Alaska    10.0      263        48  35.1\n",
       "2          Arizona     8.1      294        80  31.0\n",
       "3         Arkansas     8.8      190        50  19.5\n",
       "4       California     9.0      276        91  35.1\n",
       "5         Colorado     7.9      204        78  35.1\n",
       "6      Connecticut     3.3      110        77  11.1\n",
       "7         Delaware     5.9      238        72  15.8\n",
       "8          Florida    15.4      335        80  31.9\n",
       "9          Georgia    17.4      211        60  25.8\n",
       "10          Hawaii     5.3       46        83  20.2\n",
       "11           Idaho     2.6      120        54  14.2\n",
       "12        Illinois    10.4      249        83  24.0\n",
       "13         Indiana     7.2      113        65  21.0\n",
       "14            Iowa     2.2       56        57  11.3\n",
       "15          Kansas     6.0      115        66  18.0\n",
       "16        Kentucky     9.7      109        52  16.3\n",
       "17       Louisiana    15.4      249        66  22.2\n",
       "18           Maine     2.1       83        51   9.3\n",
       "19        Maryland    11.3      300        67  27.8\n",
       "20   Massachusetts     4.4      149        85  16.3\n",
       "21        Michigan    12.1      255        74  35.1\n",
       "22       Minnesota     2.7       72        66  14.9\n",
       "23     Mississippi    16.1      259        44  17.1\n",
       "24        Missouri     9.0      178        70  28.2\n",
       "25         Montana     6.0      109        53  16.4\n",
       "26        Nebraska     4.3      102        62  16.5\n",
       "27          Nevada    12.2      252        81  35.1\n",
       "28   New Hampshire     2.1       57        56   9.5\n",
       "29      New Jersey     7.4      159        89  18.8\n",
       "30      New Mexico    11.4      285        70  32.1\n",
       "31        New York    11.1      254        86  26.1\n",
       "32  North Carolina    13.0      337        45  16.1\n",
       "33    North Dakota     0.8       45        44   9.3\n",
       "34            Ohio     7.3      120        75  21.4\n",
       "35        Oklahoma     6.6      151        68  20.0\n",
       "36          Oregon     4.9      159        67  29.3\n",
       "37    Pennsylvania     6.3      106        72  14.9\n",
       "38    Rhode Island     3.4      174        87   9.3\n",
       "39  South Carolina    14.4      279        48  22.5\n",
       "40    South Dakota     3.8       86        45  12.8\n",
       "41       Tennessee    13.2      188        59  26.9\n",
       "42           Texas    12.7      201        80  25.5\n",
       "43            Utah     3.2      120        80  22.9\n",
       "44         Vermont     2.2       48        32  11.2\n",
       "45        Virginia     8.5      156        63  20.7\n",
       "46      Washington     4.0      145        73  26.2\n",
       "47   West Virginia     5.7       81        39   9.3\n",
       "48       Wisconsin     2.6       53        66  10.8\n",
       "49         Wyoming     6.8      161        60  15.6>"
      ]
     },
     "execution_count": 13,
     "metadata": {},
     "output_type": "execute_result"
    }
   ],
   "source": [
    "# We see the data again now to check whether the data is in scale\n",
    "crime.describe\n",
    "\n",
    "# we notice that the data needs to be normalise, using normalization"
   ]
  },
  {
   "cell_type": "code",
   "execution_count": 14,
   "id": "ba82fec7",
   "metadata": {},
   "outputs": [],
   "source": [
    "def norm_func(i):\n",
    "    x = (i - i.min())\t/ (i.max() - i.min())\n",
    "    return (x)\n",
    "\n",
    "# Normalized data frame (considering the numerical part of data)\n",
    "df_norm = norm_func(crime.iloc[:,1:])"
   ]
  },
  {
   "cell_type": "code",
   "execution_count": 15,
   "id": "fef4ae3c",
   "metadata": {},
   "outputs": [
    {
     "name": "stderr",
     "output_type": "stream",
     "text": [
      "<ipython-input-15-e62e0e231209>:10: FutureWarning: Dropping of nuisance columns in DataFrame reductions (with 'numeric_only=None') is deprecated; in a future version this will raise TypeError.  Select only valid columns before calling the reduction.\n",
      "  crime.skew(axis = 0, skipna = True)\n",
      "<ipython-input-15-e62e0e231209>:12: FutureWarning: Dropping of nuisance columns in DataFrame reductions (with 'numeric_only=None') is deprecated; in a future version this will raise TypeError.  Select only valid columns before calling the reduction.\n",
      "  crime.kurtosis(axis = 0, skipna = True)\n"
     ]
    },
    {
     "data": {
      "text/plain": [
       "Murder     -0.827488\n",
       "Assault    -1.053848\n",
       "UrbanPop   -0.738360\n",
       "Rape       -0.883786\n",
       "dtype: float64"
      ]
     },
     "execution_count": 15,
     "metadata": {},
     "output_type": "execute_result"
    },
    {
     "data": {
      "image/png": "[encoded data removed]",
      "text/plain": [
       "<Figure size 432x288 with 1 Axes>"
      ]
     },
     "metadata": {
      "needs_background": "light"
     },
     "output_type": "display_data"
    }
   ],
   "source": [
    "##########################Univariate, Bivariate################\n",
    "plt.hist(crime[\"Murder\"])   #Univariate\n",
    "\n",
    "plt.hist(crime[\"Assault\"])\n",
    "\n",
    "plt.hist(crime[\"UrbanPop\"])\n",
    "\n",
    "plt.hist(crime[\"Rape\"])\n",
    "\n",
    "crime.skew(axis = 0, skipna = True) \n",
    "\n",
    "crime.kurtosis(axis = 0, skipna = True)"
   ]
  },
  {
   "cell_type": "markdown",
   "id": "9730eee7",
   "metadata": {},
   "source": [
    "After all the analyses we now start with the K-Means Clustering procedure\n",
    "\n",
    "K-means is a centroid-based algorithm, or a distance-based algorithm, where we calculate the distances to assign a point to a cluster. In K-Means, each cluster is associated with a centroid.\n",
    "\n",
    "The main objective of the K-Means algorithm is to minimize the sum of distances between the points and their respective cluster centroid. The first step in k-means is to pick the number of clusters, k. Then keep the iterations running until one of the below satisifes:\n",
    "\n",
    "    1. Centroids of newly formed clusters do not change\n",
    "    2. Points remain in the same cluster\n",
    "    3. Maximum number of iterations are reached\n",
    "\n",
    "In K Means clustering we need to first assign the K number of clusters which can be taken up using the thumb rule of \"Sqrt(n)/2\" or plotting the Elbow curve, aka Scree plot. "
   ]
  },
  {
   "cell_type": "code",
   "execution_count": 16,
   "id": "c9dd6f0d",
   "metadata": {},
   "outputs": [
    {
     "data": {
      "text/plain": [
       "[7.358376498536079,\n",
       " 5.532071995078602,\n",
       " 4.0407678952238815,\n",
       " 3.5539811127025747,\n",
       " 3.1628651131109455,\n",
       " 2.8417637970747243]"
      ]
     },
     "execution_count": 16,
     "metadata": {},
     "output_type": "execute_result"
    }
   ],
   "source": [
    "# calculating TWSS - Total within SS using different cluster range\n",
    "from sklearn.cluster import KMeans\n",
    "\n",
    "TWSS = []\n",
    "k = list(range(2, 8))\n",
    "\n",
    "for i in k:\n",
    "    kmeans = KMeans(n_clusters = i)\n",
    "    kmeans.fit(df_norm)\n",
    "    TWSS.append(kmeans.inertia_)\n",
    "    \n",
    "TWSS"
   ]
  },
  {
   "cell_type": "code",
   "execution_count": 17,
   "id": "9808a9f7",
   "metadata": {},
   "outputs": [
    {
     "data": {
      "text/plain": [
       "Text(0, 0.5, 'total_within_SS')"
      ]
     },
     "execution_count": 17,
     "metadata": {},
     "output_type": "execute_result"
    },
    {
     "data": {
      "image/png": "[encoded data removed]",
      "text/plain": [
       "<Figure size 432x288 with 1 Axes>"
      ]
     },
     "metadata": {
      "needs_background": "light"
     },
     "output_type": "display_data"
    }
   ],
   "source": [
    "# Plotting the Scree plot using the TWSS from above defined function\n",
    "plt.plot(k, TWSS, 'ro-');plt.xlabel(\"No_of_Clusters\");plt.ylabel(\"total_within_SS\")"
   ]
  },
  {
   "cell_type": "code",
   "execution_count": 18,
   "id": "0bab11ba",
   "metadata": {},
   "outputs": [
    {
     "data": {
      "text/plain": [
       "KMeans(n_clusters=4)"
      ]
     },
     "execution_count": 18,
     "metadata": {},
     "output_type": "execute_result"
    }
   ],
   "source": [
    "# Selecting 4 clusters from the above scree plot which is the optimum number of clusters, \n",
    "# as the curve is seemingly bent or showinf an elbow format at K = 4\n",
    "\n",
    "model = KMeans(n_clusters = 4)\n",
    "model.fit(df_norm)"
   ]
  },
  {
   "cell_type": "code",
   "execution_count": 19,
   "id": "262eb4d8",
   "metadata": {},
   "outputs": [
    {
     "data": {
      "text/plain": [
       "array([2, 1, 1, 2, 1, 1, 3, 3, 1, 2, 3, 0, 1, 3, 0, 3, 0, 2, 0, 1, 3, 1,\n",
       "       0, 2, 1, 0, 0, 1, 0, 3, 1, 1, 2, 0, 3, 3, 3, 3, 3, 2, 0, 2, 1, 3,\n",
       "       0, 3, 3, 0, 0, 3])"
      ]
     },
     "execution_count": 19,
     "metadata": {},
     "output_type": "execute_result"
    }
   ],
   "source": [
    "model.labels_ # getting the labels of clusters assigned to each row"
   ]
  },
  {
   "cell_type": "code",
   "execution_count": 20,
   "id": "7eff655d",
   "metadata": {},
   "outputs": [],
   "source": [
    "mb = pd.Series(model.labels_)  # converting numpy array into pandas series object "
   ]
  },
  {
   "cell_type": "code",
   "execution_count": 21,
   "id": "7f7afdef",
   "metadata": {},
   "outputs": [],
   "source": [
    "crime['clust'] = mb # creating a  new column and assigning it to new column "
   ]
  },
  {
   "cell_type": "code",
   "execution_count": 22,
   "id": "1a19de12",
   "metadata": {},
   "outputs": [
    {
     "data": {
      "text/html": [
       "<div>\n",
       "<style scoped>\n",
       "    .dataframe tbody tr th:only-of-type {\n",
       "        vertical-align: middle;\n",
       "    }\n",
       "\n",
       "    .dataframe tbody tr th {\n",
       "        vertical-align: top;\n",
       "    }\n",
       "\n",
       "    .dataframe thead th {\n",
       "        text-align: right;\n",
       "    }\n",
       "</style>\n",
       "<table border=\"1\" class=\"dataframe\">\n",
       "  <thead>\n",
       "    <tr style=\"text-align: right;\">\n",
       "      <th></th>\n",
       "      <th>State</th>\n",
       "      <th>Murder</th>\n",
       "      <th>Assault</th>\n",
       "      <th>UrbanPop</th>\n",
       "      <th>Rape</th>\n",
       "      <th>clust</th>\n",
       "    </tr>\n",
       "  </thead>\n",
       "  <tbody>\n",
       "    <tr>\n",
       "      <th>0</th>\n",
       "      <td>Alabama</td>\n",
       "      <td>13.2</td>\n",
       "      <td>236</td>\n",
       "      <td>58</td>\n",
       "      <td>21.2</td>\n",
       "      <td>2</td>\n",
       "    </tr>\n",
       "    <tr>\n",
       "      <th>1</th>\n",
       "      <td>Alaska</td>\n",
       "      <td>10.0</td>\n",
       "      <td>263</td>\n",
       "      <td>48</td>\n",
       "      <td>35.1</td>\n",
       "      <td>1</td>\n",
       "    </tr>\n",
       "    <tr>\n",
       "      <th>2</th>\n",
       "      <td>Arizona</td>\n",
       "      <td>8.1</td>\n",
       "      <td>294</td>\n",
       "      <td>80</td>\n",
       "      <td>31.0</td>\n",
       "      <td>1</td>\n",
       "    </tr>\n",
       "    <tr>\n",
       "      <th>3</th>\n",
       "      <td>Arkansas</td>\n",
       "      <td>8.8</td>\n",
       "      <td>190</td>\n",
       "      <td>50</td>\n",
       "      <td>19.5</td>\n",
       "      <td>2</td>\n",
       "    </tr>\n",
       "    <tr>\n",
       "      <th>4</th>\n",
       "      <td>California</td>\n",
       "      <td>9.0</td>\n",
       "      <td>276</td>\n",
       "      <td>91</td>\n",
       "      <td>35.1</td>\n",
       "      <td>1</td>\n",
       "    </tr>\n",
       "  </tbody>\n",
       "</table>\n",
       "</div>"
      ],
      "text/plain": [
       "        State  Murder  Assault  UrbanPop  Rape  clust\n",
       "0     Alabama    13.2      236        58  21.2      2\n",
       "1      Alaska    10.0      263        48  35.1      1\n",
       "2     Arizona     8.1      294        80  31.0      1\n",
       "3    Arkansas     8.8      190        50  19.5      2\n",
       "4  California     9.0      276        91  35.1      1"
      ]
     },
     "execution_count": 22,
     "metadata": {},
     "output_type": "execute_result"
    }
   ],
   "source": [
    "crime.head()"
   ]
  },
  {
   "cell_type": "code",
   "execution_count": 23,
   "id": "763272e3",
   "metadata": {},
   "outputs": [
    {
     "data": {
      "text/html": [
       "<div>\n",
       "<style scoped>\n",
       "    .dataframe tbody tr th:only-of-type {\n",
       "        vertical-align: middle;\n",
       "    }\n",
       "\n",
       "    .dataframe tbody tr th {\n",
       "        vertical-align: top;\n",
       "    }\n",
       "\n",
       "    .dataframe thead th {\n",
       "        text-align: right;\n",
       "    }\n",
       "</style>\n",
       "<table border=\"1\" class=\"dataframe\">\n",
       "  <thead>\n",
       "    <tr style=\"text-align: right;\">\n",
       "      <th></th>\n",
       "      <th>clust</th>\n",
       "      <th>State</th>\n",
       "      <th>Murder</th>\n",
       "      <th>Assault</th>\n",
       "      <th>UrbanPop</th>\n",
       "      <th>Rape</th>\n",
       "    </tr>\n",
       "  </thead>\n",
       "  <tbody>\n",
       "    <tr>\n",
       "      <th>0</th>\n",
       "      <td>2</td>\n",
       "      <td>Alabama</td>\n",
       "      <td>13.2</td>\n",
       "      <td>236</td>\n",
       "      <td>58</td>\n",
       "      <td>21.2</td>\n",
       "    </tr>\n",
       "    <tr>\n",
       "      <th>1</th>\n",
       "      <td>1</td>\n",
       "      <td>Alaska</td>\n",
       "      <td>10.0</td>\n",
       "      <td>263</td>\n",
       "      <td>48</td>\n",
       "      <td>35.1</td>\n",
       "    </tr>\n",
       "    <tr>\n",
       "      <th>2</th>\n",
       "      <td>1</td>\n",
       "      <td>Arizona</td>\n",
       "      <td>8.1</td>\n",
       "      <td>294</td>\n",
       "      <td>80</td>\n",
       "      <td>31.0</td>\n",
       "    </tr>\n",
       "    <tr>\n",
       "      <th>3</th>\n",
       "      <td>2</td>\n",
       "      <td>Arkansas</td>\n",
       "      <td>8.8</td>\n",
       "      <td>190</td>\n",
       "      <td>50</td>\n",
       "      <td>19.5</td>\n",
       "    </tr>\n",
       "    <tr>\n",
       "      <th>4</th>\n",
       "      <td>1</td>\n",
       "      <td>California</td>\n",
       "      <td>9.0</td>\n",
       "      <td>276</td>\n",
       "      <td>91</td>\n",
       "      <td>35.1</td>\n",
       "    </tr>\n",
       "  </tbody>\n",
       "</table>\n",
       "</div>"
      ],
      "text/plain": [
       "   clust       State  Murder  Assault  UrbanPop  Rape\n",
       "0      2     Alabama    13.2      236        58  21.2\n",
       "1      1      Alaska    10.0      263        48  35.1\n",
       "2      1     Arizona     8.1      294        80  31.0\n",
       "3      2    Arkansas     8.8      190        50  19.5\n",
       "4      1  California     9.0      276        91  35.1"
      ]
     },
     "execution_count": 23,
     "metadata": {},
     "output_type": "execute_result"
    }
   ],
   "source": [
    "crime = crime.iloc[:,[5,0,1,2,3,4]]\n",
    "crime.head()"
   ]
  },
  {
   "cell_type": "code",
   "execution_count": 24,
   "id": "2d45f153",
   "metadata": {},
   "outputs": [],
   "source": [
    "# We can clearly see that we have the labels in the dataset in the form of a column called \"clust\", symbolizing the clusters"
   ]
  },
  {
   "cell_type": "code",
   "execution_count": 26,
   "id": "ffb0f9c9",
   "metadata": {},
   "outputs": [
    {
     "data": {
      "text/html": [
       "<div>\n",
       "<style scoped>\n",
       "    .dataframe tbody tr th:only-of-type {\n",
       "        vertical-align: middle;\n",
       "    }\n",
       "\n",
       "    .dataframe tbody tr th {\n",
       "        vertical-align: top;\n",
       "    }\n",
       "\n",
       "    .dataframe thead th {\n",
       "        text-align: right;\n",
       "    }\n",
       "</style>\n",
       "<table border=\"1\" class=\"dataframe\">\n",
       "  <thead>\n",
       "    <tr style=\"text-align: right;\">\n",
       "      <th></th>\n",
       "      <th>Murder</th>\n",
       "      <th>Assault</th>\n",
       "      <th>UrbanPop</th>\n",
       "      <th>Rape</th>\n",
       "    </tr>\n",
       "    <tr>\n",
       "      <th>clust</th>\n",
       "      <th></th>\n",
       "      <th></th>\n",
       "      <th></th>\n",
       "      <th></th>\n",
       "    </tr>\n",
       "  </thead>\n",
       "  <tbody>\n",
       "    <tr>\n",
       "      <th>0</th>\n",
       "      <td>3.600000</td>\n",
       "      <td>78.538462</td>\n",
       "      <td>52.076923</td>\n",
       "      <td>12.446154</td>\n",
       "    </tr>\n",
       "    <tr>\n",
       "      <th>1</th>\n",
       "      <td>10.815385</td>\n",
       "      <td>257.384615</td>\n",
       "      <td>76.000000</td>\n",
       "      <td>30.930769</td>\n",
       "    </tr>\n",
       "    <tr>\n",
       "      <th>2</th>\n",
       "      <td>13.937500</td>\n",
       "      <td>243.625000</td>\n",
       "      <td>53.750000</td>\n",
       "      <td>21.412500</td>\n",
       "    </tr>\n",
       "    <tr>\n",
       "      <th>3</th>\n",
       "      <td>5.656250</td>\n",
       "      <td>138.875000</td>\n",
       "      <td>73.875000</td>\n",
       "      <td>18.843750</td>\n",
       "    </tr>\n",
       "  </tbody>\n",
       "</table>\n",
       "</div>"
      ],
      "text/plain": [
       "          Murder     Assault   UrbanPop       Rape\n",
       "clust                                             \n",
       "0       3.600000   78.538462  52.076923  12.446154\n",
       "1      10.815385  257.384615  76.000000  30.930769\n",
       "2      13.937500  243.625000  53.750000  21.412500\n",
       "3       5.656250  138.875000  73.875000  18.843750"
      ]
     },
     "execution_count": 26,
     "metadata": {},
     "output_type": "execute_result"
    }
   ],
   "source": [
    "# In order to see the clusters we aggregate the records within the clusters and group them by the clusters to visualize the \n",
    "# 4 nos of clear cluster formed\n",
    "crime.iloc[:, 1:6].groupby(crime.clust).mean()"
   ]
  },
  {
   "cell_type": "markdown",
   "id": "21cc32b1",
   "metadata": {},
   "source": [
    "We can now clearly see the 4 number of clusters formed, which can be described as under\n",
    "\n",
    " 1. Cluster3, \"2\" = Defines the group of states that are high on crime in either if the categories described and need immediate action on high alert.\n",
    "                      \n",
    " 2. Cluster2, \"1\" = Defines the group of states that have comparatively high crime rate and would require action as well\n",
    "   \n",
    " 3. Cluster4, \"3\" = Defines the group of states that are medium on crime rate while the Urbanpop i on high and need action on a alert side\n",
    "                      \n",
    " 4. Cluster1, \"0\" = Defines the group of state that are low on crime rate and would require lesser of an action to be taken, but of course not to be neglected at any cost."
   ]
  }
 ],
 "metadata": {
  "kernelspec": {
   "display_name": "Python 3",
   "language": "python",
   "name": "python3"
  },
  "language_info": {
   "codemirror_mode": {
    "name": "ipython",
    "version": 3
   },
   "file_extension": ".py",
   "mimetype": "text/x-python",
   "name": "python",
   "nbconvert_exporter": "python",
   "pygments_lexer": "ipython3",
   "version": "3.8.10"
  }
 },
 "nbformat": 4,
 "nbformat_minor": 5
}
