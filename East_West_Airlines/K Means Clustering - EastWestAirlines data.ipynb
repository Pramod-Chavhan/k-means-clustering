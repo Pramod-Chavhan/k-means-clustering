{
 "cells": [
  {
   "cell_type": "markdown",
   "id": "9ef60dea",
   "metadata": {},
   "source": [
    "**K-Means CLUSTERING!! - 360DIGITMG**\n",
    "\n",
    "Clustering algorithms are unsupervised machine learning algorithms so there is no label associated with data points.\n",
    "Clustering algorithms look for similarities or dissimilarities among data points so that similar ones can be grouped together.\n",
    "\n",
    "K-means algorithm identifies k number of centroids, and then allocates every data point to the nearest cluster, while keeping the centroids as small as possible. The ‘means’ in the K-means refers to averaging of the data; that is, finding the centroid.\n",
    "\n",
    "To process the learning data, the K-means algorithm in data mining starts with a first group of randomly selected centroids, which are used as the beginning points for every cluster, and then performs iterative (repetitive) calculations to optimize the positions of the centroids\n",
    "\n",
    "It halts creating and optimizing clusters when either:\n",
    "\n",
    "    1. The centroids have stabilized — there is no change in their values because the clustering has been successful.\n",
    "    2. The defined number of iterations has been achieved."
   ]
  },
  {
   "cell_type": "markdown",
   "id": "8358c469",
   "metadata": {},
   "source": [
    "K-Means Clustering problem 1:\n",
    "    Perform K means clustering on the airlines dataset to obtain optimum number of clusters. Draw the inferences from the \n",
    "    clusters obtained. Refer to EastWestAirlines.xlsx dataset."
   ]
  },
  {
   "cell_type": "markdown",
   "id": "3ee8e580",
   "metadata": {},
   "source": [
    "As a first step towards your solution, we need to understand the data and hence we load the same and the libbraries required"
   ]
  },
  {
   "cell_type": "code",
   "execution_count": 1,
   "id": "4e306cfd",
   "metadata": {},
   "outputs": [],
   "source": [
    "import pandas as pd               # for Data Manipulation\n",
    "import matplotlib.pyplot as plt   # for Visualization\n",
    "import numpy as np                #for Mathematical calculations\n",
    "import seaborn as sns             #for Advanced visualizations\n",
    "\n",
    "air = pd.read_excel(\"EastWestAirlines.xlsx\",\"data\")"
   ]
  },
  {
   "cell_type": "code",
   "execution_count": 2,
   "id": "7c48fff7",
   "metadata": {},
   "outputs": [
    {
     "data": {
      "text/html": [
       "<div>\n",
       "<style scoped>\n",
       "    .dataframe tbody tr th:only-of-type {\n",
       "        vertical-align: middle;\n",
       "    }\n",
       "\n",
       "    .dataframe tbody tr th {\n",
       "        vertical-align: top;\n",
       "    }\n",
       "\n",
       "    .dataframe thead th {\n",
       "        text-align: right;\n",
       "    }\n",
       "</style>\n",
       "<table border=\"1\" class=\"dataframe\">\n",
       "  <thead>\n",
       "    <tr style=\"text-align: right;\">\n",
       "      <th></th>\n",
       "      <th>ID#</th>\n",
       "      <th>Balance</th>\n",
       "      <th>Qual_miles</th>\n",
       "      <th>cc1_miles</th>\n",
       "      <th>cc2_miles</th>\n",
       "      <th>cc3_miles</th>\n",
       "      <th>Bonus_miles</th>\n",
       "      <th>Bonus_trans</th>\n",
       "      <th>Flight_miles_12mo</th>\n",
       "      <th>Flight_trans_12</th>\n",
       "      <th>Days_since_enroll</th>\n",
       "      <th>Award?</th>\n",
       "    </tr>\n",
       "  </thead>\n",
       "  <tbody>\n",
       "    <tr>\n",
       "      <th>0</th>\n",
       "      <td>1</td>\n",
       "      <td>28143</td>\n",
       "      <td>0</td>\n",
       "      <td>1</td>\n",
       "      <td>1</td>\n",
       "      <td>1</td>\n",
       "      <td>174</td>\n",
       "      <td>1</td>\n",
       "      <td>0</td>\n",
       "      <td>0</td>\n",
       "      <td>7000</td>\n",
       "      <td>0</td>\n",
       "    </tr>\n",
       "    <tr>\n",
       "      <th>1</th>\n",
       "      <td>2</td>\n",
       "      <td>19244</td>\n",
       "      <td>0</td>\n",
       "      <td>1</td>\n",
       "      <td>1</td>\n",
       "      <td>1</td>\n",
       "      <td>215</td>\n",
       "      <td>2</td>\n",
       "      <td>0</td>\n",
       "      <td>0</td>\n",
       "      <td>6968</td>\n",
       "      <td>0</td>\n",
       "    </tr>\n",
       "    <tr>\n",
       "      <th>2</th>\n",
       "      <td>3</td>\n",
       "      <td>41354</td>\n",
       "      <td>0</td>\n",
       "      <td>1</td>\n",
       "      <td>1</td>\n",
       "      <td>1</td>\n",
       "      <td>4123</td>\n",
       "      <td>4</td>\n",
       "      <td>0</td>\n",
       "      <td>0</td>\n",
       "      <td>7034</td>\n",
       "      <td>0</td>\n",
       "    </tr>\n",
       "    <tr>\n",
       "      <th>3</th>\n",
       "      <td>4</td>\n",
       "      <td>14776</td>\n",
       "      <td>0</td>\n",
       "      <td>1</td>\n",
       "      <td>1</td>\n",
       "      <td>1</td>\n",
       "      <td>500</td>\n",
       "      <td>1</td>\n",
       "      <td>0</td>\n",
       "      <td>0</td>\n",
       "      <td>6952</td>\n",
       "      <td>0</td>\n",
       "    </tr>\n",
       "    <tr>\n",
       "      <th>4</th>\n",
       "      <td>5</td>\n",
       "      <td>97752</td>\n",
       "      <td>0</td>\n",
       "      <td>4</td>\n",
       "      <td>1</td>\n",
       "      <td>1</td>\n",
       "      <td>43300</td>\n",
       "      <td>26</td>\n",
       "      <td>2077</td>\n",
       "      <td>4</td>\n",
       "      <td>6935</td>\n",
       "      <td>1</td>\n",
       "    </tr>\n",
       "    <tr>\n",
       "      <th>...</th>\n",
       "      <td>...</td>\n",
       "      <td>...</td>\n",
       "      <td>...</td>\n",
       "      <td>...</td>\n",
       "      <td>...</td>\n",
       "      <td>...</td>\n",
       "      <td>...</td>\n",
       "      <td>...</td>\n",
       "      <td>...</td>\n",
       "      <td>...</td>\n",
       "      <td>...</td>\n",
       "      <td>...</td>\n",
       "    </tr>\n",
       "    <tr>\n",
       "      <th>3994</th>\n",
       "      <td>4017</td>\n",
       "      <td>18476</td>\n",
       "      <td>0</td>\n",
       "      <td>1</td>\n",
       "      <td>1</td>\n",
       "      <td>1</td>\n",
       "      <td>8525</td>\n",
       "      <td>4</td>\n",
       "      <td>200</td>\n",
       "      <td>1</td>\n",
       "      <td>1403</td>\n",
       "      <td>1</td>\n",
       "    </tr>\n",
       "    <tr>\n",
       "      <th>3995</th>\n",
       "      <td>4018</td>\n",
       "      <td>64385</td>\n",
       "      <td>0</td>\n",
       "      <td>1</td>\n",
       "      <td>1</td>\n",
       "      <td>1</td>\n",
       "      <td>981</td>\n",
       "      <td>5</td>\n",
       "      <td>0</td>\n",
       "      <td>0</td>\n",
       "      <td>1395</td>\n",
       "      <td>1</td>\n",
       "    </tr>\n",
       "    <tr>\n",
       "      <th>3996</th>\n",
       "      <td>4019</td>\n",
       "      <td>73597</td>\n",
       "      <td>0</td>\n",
       "      <td>3</td>\n",
       "      <td>1</td>\n",
       "      <td>1</td>\n",
       "      <td>25447</td>\n",
       "      <td>8</td>\n",
       "      <td>0</td>\n",
       "      <td>0</td>\n",
       "      <td>1402</td>\n",
       "      <td>1</td>\n",
       "    </tr>\n",
       "    <tr>\n",
       "      <th>3997</th>\n",
       "      <td>4020</td>\n",
       "      <td>54899</td>\n",
       "      <td>0</td>\n",
       "      <td>1</td>\n",
       "      <td>1</td>\n",
       "      <td>1</td>\n",
       "      <td>500</td>\n",
       "      <td>1</td>\n",
       "      <td>500</td>\n",
       "      <td>1</td>\n",
       "      <td>1401</td>\n",
       "      <td>0</td>\n",
       "    </tr>\n",
       "    <tr>\n",
       "      <th>3998</th>\n",
       "      <td>4021</td>\n",
       "      <td>3016</td>\n",
       "      <td>0</td>\n",
       "      <td>1</td>\n",
       "      <td>1</td>\n",
       "      <td>1</td>\n",
       "      <td>0</td>\n",
       "      <td>0</td>\n",
       "      <td>0</td>\n",
       "      <td>0</td>\n",
       "      <td>1398</td>\n",
       "      <td>0</td>\n",
       "    </tr>\n",
       "  </tbody>\n",
       "</table>\n",
       "<p>3999 rows × 12 columns</p>\n",
       "</div>"
      ],
      "text/plain": [
       "       ID#  Balance  Qual_miles  cc1_miles  cc2_miles  cc3_miles  Bonus_miles  \\\n",
       "0        1    28143           0          1          1          1          174   \n",
       "1        2    19244           0          1          1          1          215   \n",
       "2        3    41354           0          1          1          1         4123   \n",
       "3        4    14776           0          1          1          1          500   \n",
       "4        5    97752           0          4          1          1        43300   \n",
       "...    ...      ...         ...        ...        ...        ...          ...   \n",
       "3994  4017    18476           0          1          1          1         8525   \n",
       "3995  4018    64385           0          1          1          1          981   \n",
       "3996  4019    73597           0          3          1          1        25447   \n",
       "3997  4020    54899           0          1          1          1          500   \n",
       "3998  4021     3016           0          1          1          1            0   \n",
       "\n",
       "      Bonus_trans  Flight_miles_12mo  Flight_trans_12  Days_since_enroll  \\\n",
       "0               1                  0                0               7000   \n",
       "1               2                  0                0               6968   \n",
       "2               4                  0                0               7034   \n",
       "3               1                  0                0               6952   \n",
       "4              26               2077                4               6935   \n",
       "...           ...                ...              ...                ...   \n",
       "3994            4                200                1               1403   \n",
       "3995            5                  0                0               1395   \n",
       "3996            8                  0                0               1402   \n",
       "3997            1                500                1               1401   \n",
       "3998            0                  0                0               1398   \n",
       "\n",
       "      Award?  \n",
       "0          0  \n",
       "1          0  \n",
       "2          0  \n",
       "3          0  \n",
       "4          1  \n",
       "...      ...  \n",
       "3994       1  \n",
       "3995       1  \n",
       "3996       1  \n",
       "3997       0  \n",
       "3998       0  \n",
       "\n",
       "[3999 rows x 12 columns]"
      ]
     },
     "execution_count": 2,
     "metadata": {},
     "output_type": "execute_result"
    }
   ],
   "source": [
    "air"
   ]
  },
  {
   "cell_type": "code",
   "execution_count": 3,
   "id": "67a26ac5",
   "metadata": {},
   "outputs": [
    {
     "data": {
      "text/plain": [
       "Index(['ID#', 'Balance', 'Qual_miles', 'cc1_miles', 'cc2_miles', 'cc3_miles',\n",
       "       'Bonus_miles', 'Bonus_trans', 'Flight_miles_12mo', 'Flight_trans_12',\n",
       "       'Days_since_enroll', 'Award?'],\n",
       "      dtype='object')"
      ]
     },
     "execution_count": 3,
     "metadata": {},
     "output_type": "execute_result"
    }
   ],
   "source": [
    "# We see the columns in the dataset\n",
    "air.columns"
   ]
  },
  {
   "cell_type": "markdown",
   "id": "fa2b79b7",
   "metadata": {},
   "source": [
    "Data Description:\n",
    "The file EastWestAirlines contains information on passengers who belong to an airline’s frequent flier program. \n",
    "For each passenger the data include information on their mileage history and on different ways they accrued or \n",
    "spent miles in the last year. The goal is to try to identify clusters of passengers that have similar characteristics \n",
    "for the purpose of targeting different segments for different types of mileage offers.\n",
    "\n",
    "ID# --Unique ID\n",
    "\n",
    "Balance--Number of miles eligible for award travel\n",
    "\n",
    "Qual_mile--Number of miles counted as qualifying for Topflight status\n",
    "\n",
    "cc1_miles -- Number of miles earned with freq. flyer credit card in the past 12 months:\n",
    "\n",
    "cc2_miles -- Number of miles earned with Rewards credit card in the past 12 months:\n",
    "\n",
    "cc3_miles -- Number of miles earned with Small Business credit card in the past 12 months:\n",
    "\n",
    "1 = under 5,000\n",
    "\n",
    "2 = 5,000 - 10,000\n",
    "\n",
    "3 = 10,001 - 25,000\n",
    "\n",
    "4 = 25,001 - 50,000\n",
    "\n",
    "5 = over 50,000\n",
    "\n",
    "Bonus_miles--Number of miles earned from non-flight bonus transactions in the past 12 months\n",
    "\n",
    "Bonus_trans--Number of non-flight bonus transactions in the past 12 months\n",
    "\n",
    "Flight_miles_12mo--Number of flight miles in the past 12 months\n",
    "\n",
    "Flight_trans_12--Number of flight transactions in the past 12 months\n",
    "\n",
    "Days_since_enrolled--Number of days since enrolled in flier program\n",
    "\n",
    "Award?--whether that person had award flight (free flight) or not"
   ]
  },
  {
   "cell_type": "code",
   "execution_count": 4,
   "id": "7ba66168",
   "metadata": {},
   "outputs": [
    {
     "data": {
      "text/plain": [
       "ID#                  0\n",
       "Balance              0\n",
       "Qual_miles           0\n",
       "cc1_miles            0\n",
       "cc2_miles            0\n",
       "cc3_miles            0\n",
       "Bonus_miles          0\n",
       "Bonus_trans          0\n",
       "Flight_miles_12mo    0\n",
       "Flight_trans_12      0\n",
       "Days_since_enroll    0\n",
       "Award?               0\n",
       "dtype: int64"
      ]
     },
     "execution_count": 4,
     "metadata": {},
     "output_type": "execute_result"
    }
   ],
   "source": [
    "# As a part of the Data cleansing we check the data for any missing/ na values\n",
    "air.isna().sum()"
   ]
  },
  {
   "cell_type": "code",
   "execution_count": 5,
   "id": "fc3b6dfa",
   "metadata": {},
   "outputs": [
    {
     "data": {
      "text/plain": [
       "0"
      ]
     },
     "execution_count": 5,
     "metadata": {},
     "output_type": "execute_result"
    }
   ],
   "source": [
    "# Additionally we check the data for any duplicate values, now this can be an optional check depending on the data being used\n",
    "air1 = air.duplicated()\n",
    "sum(air1)"
   ]
  },
  {
   "cell_type": "markdown",
   "id": "5978f7c4",
   "metadata": {},
   "source": [
    "Outlier Treatment!!!\n",
    "\n",
    "Now we all know that data can have outliers which are the values that may effect the analysis in a big way. \n",
    "\n",
    "In other words Outliers are the values that differ from the rest of the data.In order to do so we use the Boxplots, wherein \n",
    "we can see the outliers being outshined out of the plot."
   ]
  },
  {
   "cell_type": "code",
   "execution_count": 6,
   "id": "675082ea",
   "metadata": {},
   "outputs": [
    {
     "data": {
      "image/png": "[encoded data removed]",
      "text/plain": [
       "<Figure size 432x288 with 1 Axes>"
      ]
     },
     "metadata": {
      "needs_background": "light"
     },
     "output_type": "display_data"
    }
   ],
   "source": [
    "# We now plot the boxplot for the data using each feature independently and check for Outliers\n",
    "plt.boxplot(air.Balance);plt.title('Boxplot');plt.show()\n",
    "\n",
    "# We see that there are Outliers present for \"Balance\" Feature"
   ]
  },
  {
   "cell_type": "code",
   "execution_count": 7,
   "id": "d67775e1",
   "metadata": {},
   "outputs": [
    {
     "data": {
      "image/png": "[encoded data removed]",
      "text/plain": [
       "<Figure size 432x288 with 1 Axes>"
      ]
     },
     "metadata": {
      "needs_background": "light"
     },
     "output_type": "display_data"
    }
   ],
   "source": [
    "plt.boxplot(air.Qual_miles);plt.title('Boxplot');plt.show()  # outliers present"
   ]
  },
  {
   "cell_type": "code",
   "execution_count": 8,
   "id": "43ed8c02",
   "metadata": {},
   "outputs": [
    {
     "data": {
      "image/png": "[encoded data removed]",
      "text/plain": [
       "<Figure size 432x288 with 1 Axes>"
      ]
     },
     "metadata": {
      "needs_background": "light"
     },
     "output_type": "display_data"
    }
   ],
   "source": [
    "plt.boxplot(air.cc1_miles);plt.title('Boxplot');plt.show()  # No outliers "
   ]
  },
  {
   "cell_type": "code",
   "execution_count": 9,
   "id": "38273ad1",
   "metadata": {},
   "outputs": [
    {
     "data": {
      "image/png": "[encoded data removed]",
      "text/plain": [
       "<Figure size 432x288 with 1 Axes>"
      ]
     },
     "metadata": {
      "needs_background": "light"
     },
     "output_type": "display_data"
    }
   ],
   "source": [
    "plt.boxplot(air.cc2_miles);plt.title('Boxplot');plt.show()  # outliers present"
   ]
  },
  {
   "cell_type": "code",
   "execution_count": 10,
   "id": "54da1ace",
   "metadata": {},
   "outputs": [
    {
     "data": {
      "image/png": "[encoded data removed]",
      "text/plain": [
       "<Figure size 432x288 with 1 Axes>"
      ]
     },
     "metadata": {
      "needs_background": "light"
     },
     "output_type": "display_data"
    }
   ],
   "source": [
    "plt.boxplot(air.cc3_miles);plt.title('Boxplot');plt.show()  # outliers present"
   ]
  },
  {
   "cell_type": "code",
   "execution_count": 11,
   "id": "9d2f0862",
   "metadata": {},
   "outputs": [
    {
     "data": {
      "image/png": "[encoded data removed]",
      "text/plain": [
       "<Figure size 432x288 with 1 Axes>"
      ]
     },
     "metadata": {
      "needs_background": "light"
     },
     "output_type": "display_data"
    }
   ],
   "source": [
    "plt.boxplot(air.Bonus_miles);plt.title('Boxplot');plt.show()  # outliers present"
   ]
  },
  {
   "cell_type": "code",
   "execution_count": 12,
   "id": "59772311",
   "metadata": {},
   "outputs": [
    {
     "data": {
      "image/png": "[encoded data removed]",
      "text/plain": [
       "<Figure size 432x288 with 1 Axes>"
      ]
     },
     "metadata": {
      "needs_background": "light"
     },
     "output_type": "display_data"
    }
   ],
   "source": [
    "plt.boxplot(air.Bonus_trans);plt.title('Boxplot');plt.show()  # outliers present"
   ]
  },
  {
   "cell_type": "code",
   "execution_count": 13,
   "id": "ad09620f",
   "metadata": {},
   "outputs": [
    {
     "data": {
      "image/png": "[encoded data removed]",
      "text/plain": [
       "<Figure size 432x288 with 1 Axes>"
      ]
     },
     "metadata": {
      "needs_background": "light"
     },
     "output_type": "display_data"
    }
   ],
   "source": [
    "plt.boxplot(air.Flight_miles_12mo);plt.title('Boxplot');plt.show()  # outliers present"
   ]
  },
  {
   "cell_type": "code",
   "execution_count": 14,
   "id": "22078d73",
   "metadata": {},
   "outputs": [
    {
     "data": {
      "image/png": "[encoded data removed]",
      "text/plain": [
       "<Figure size 432x288 with 1 Axes>"
      ]
     },
     "metadata": {
      "needs_background": "light"
     },
     "output_type": "display_data"
    }
   ],
   "source": [
    "plt.boxplot(air.Flight_trans_12);plt.title('Boxplot');plt.show()  # outliers present"
   ]
  },
  {
   "cell_type": "markdown",
   "id": "b752b310",
   "metadata": {},
   "source": [
    "Now in order to deal with the outliers we can use one of \"3R Techniques\" viz:\n",
    "       1. Rectify\n",
    "       2. Retain\n",
    "       3. Remove\n",
    "\n",
    "In our example we choose let say to keep or retain the data, but how should we keep outliers in the data and work forward?\n",
    "We use the Winsorization techniue!!! This technique helps modify the sample distribution of random variables by \n",
    "removing the outliers and replacing them with the values that constitute the 5th percentile and 95th percentile values,\n",
    "i.e, all data below 5th percentile gets replaced with the value of the 5th percentile and all the values above \n",
    "95th percentile, with the 95th percentile value."
   ]
  },
  {
   "cell_type": "code",
   "execution_count": 15,
   "id": "3d5bded8",
   "metadata": {},
   "outputs": [
    {
     "data": {
      "image/png": "[encoded data removed]",
      "text/plain": [
       "<Figure size 432x288 with 1 Axes>"
      ]
     },
     "metadata": {
      "needs_background": "light"
     },
     "output_type": "display_data"
    },
    {
     "data": {
      "image/png": "[encoded data removed]",
      "text/plain": [
       "<Figure size 432x288 with 1 Axes>"
      ]
     },
     "metadata": {
      "needs_background": "light"
     },
     "output_type": "display_data"
    },
    {
     "data": {
      "image/png": "[encoded data removed]",
      "text/plain": [
       "<Figure size 432x288 with 1 Axes>"
      ]
     },
     "metadata": {
      "needs_background": "light"
     },
     "output_type": "display_data"
    },
    {
     "data": {
      "image/png": "[encoded data removed]",
      "text/plain": [
       "<Figure size 432x288 with 1 Axes>"
      ]
     },
     "metadata": {
      "needs_background": "light"
     },
     "output_type": "display_data"
    },
    {
     "data": {
      "image/png": "[encoded data removed]",
      "text/plain": [
       "<Figure size 432x288 with 1 Axes>"
      ]
     },
     "metadata": {
      "needs_background": "light"
     },
     "output_type": "display_data"
    },
    {
     "data": {
      "image/png": "[encoded data removed]",
      "text/plain": [
       "<Figure size 432x288 with 1 Axes>"
      ]
     },
     "metadata": {
      "needs_background": "light"
     },
     "output_type": "display_data"
    },
    {
     "data": {
      "image/png": "[encoded data removed]",
      "text/plain": [
       "<Figure size 432x288 with 1 Axes>"
      ]
     },
     "metadata": {
      "needs_background": "light"
     },
     "output_type": "display_data"
    },
    {
     "data": {
      "image/png": "[encoded data removed]",
      "text/plain": [
       "<Figure size 432x288 with 1 Axes>"
      ]
     },
     "metadata": {
      "needs_background": "light"
     },
     "output_type": "display_data"
    }
   ],
   "source": [
    "from scipy.stats.mstats import winsorize\n",
    "\n",
    "air['Balance']=winsorize(air.Balance,limits=[0.07, 0.093])   \n",
    "plt.boxplot(air['Balance']);plt.title('Boxplot');plt.show()\n",
    "\n",
    "air['Qual_miles']=winsorize(air.Qual_miles,limits=[0.06, 0.094])   \n",
    "plt.boxplot(air['Qual_miles']);plt.title('Boxplot');plt.show()\n",
    "\n",
    "air['cc2_miles']=winsorize(air.cc2_miles,limits=[0.02, 0.098])   \n",
    "plt.boxplot(air['cc2_miles']);plt.title('Boxplot');plt.show()\n",
    "\n",
    "air['cc3_miles']=winsorize(air.cc3_miles,limits=[0.01, 0.099])   \n",
    "plt.boxplot(air['cc3_miles']);plt.title('Boxplot');plt.show()\n",
    "\n",
    "air['Bonus_miles']=winsorize(air.Bonus_miles,limits=[0.08, 0.092])   \n",
    "plt.boxplot(air['Bonus_miles']);plt.title('Boxplot');plt.show()\n",
    "\n",
    "air['Bonus_trans']=winsorize(air.Bonus_trans,limits=[0.01, 0.099])   \n",
    "plt.boxplot(air['Bonus_trans']);plt.title('Boxplot');plt.show()\n",
    "\n",
    "air['Flight_miles_12mo']=winsorize(air.Flight_miles_12mo,limits=[0.15, 0.85])   \n",
    "plt.boxplot(air['Flight_miles_12mo']);plt.title('Boxplot');plt.show()\n",
    "\n",
    "air['Flight_trans_12']=winsorize(air.Flight_trans_12,limits=[0.15, 0.85])   \n",
    "plt.boxplot(air['Flight_trans_12']);plt.title('Boxplot');plt.show()"
   ]
  },
  {
   "cell_type": "code",
   "execution_count": 16,
   "id": "473da749",
   "metadata": {},
   "outputs": [
    {
     "data": {
      "text/plain": [
       "ID#                  False\n",
       "Balance              False\n",
       "Qual_miles            True\n",
       "cc1_miles            False\n",
       "cc2_miles            False\n",
       "cc3_miles            False\n",
       "Bonus_miles          False\n",
       "Bonus_trans          False\n",
       "Flight_miles_12mo     True\n",
       "Flight_trans_12       True\n",
       "Days_since_enroll    False\n",
       "Award?               False\n",
       "dtype: bool"
      ]
     },
     "execution_count": 16,
     "metadata": {},
     "output_type": "execute_result"
    }
   ],
   "source": [
    "# Now we check the data for zero variance values\n",
    "(air == 0).all()"
   ]
  },
  {
   "cell_type": "code",
   "execution_count": 17,
   "id": "1ef294c6",
   "metadata": {},
   "outputs": [
    {
     "data": {
      "text/plain": [
       "Index(['ID#', 'Balance', 'cc1_miles', 'cc2_miles', 'cc3_miles', 'Bonus_miles',\n",
       "       'Bonus_trans', 'Days_since_enroll', 'Award?'],\n",
       "      dtype='object')"
      ]
     },
     "execution_count": 17,
     "metadata": {},
     "output_type": "execute_result"
    }
   ],
   "source": [
    "# We drop the features that have zero variance values\n",
    "air1 = air\n",
    "air1.drop([\"Qual_miles\",\"Flight_miles_12mo\",\"Flight_trans_12\"], axis=1,inplace = True)\n",
    "air1.columns"
   ]
  },
  {
   "cell_type": "code",
   "execution_count": 18,
   "id": "65578b45",
   "metadata": {},
   "outputs": [
    {
     "data": {
      "text/plain": [
       "<bound method NDFrame.describe of        ID#  Balance  cc1_miles  cc2_miles  cc3_miles  Bonus_miles  \\\n",
       "0        1    28143          1          1          1          174   \n",
       "1        2    19244          1          1          1          215   \n",
       "2        3    41354          1          1          1         4123   \n",
       "3        4    14776          1          1          1          500   \n",
       "4        5    97752          4          1          1        43300   \n",
       "...    ...      ...        ...        ...        ...          ...   \n",
       "3994  4017    18476          1          1          1         8525   \n",
       "3995  4018    64385          1          1          1          981   \n",
       "3996  4019    73597          3          1          1        25447   \n",
       "3997  4020    54899          1          1          1          500   \n",
       "3998  4021     5500          1          1          1            0   \n",
       "\n",
       "      Bonus_trans  Days_since_enroll  Award?  \n",
       "0               1               7000       0  \n",
       "1               2               6968       0  \n",
       "2               4               7034       0  \n",
       "3               1               6952       0  \n",
       "4              23               6935       1  \n",
       "...           ...                ...     ...  \n",
       "3994            4               1403       1  \n",
       "3995            5               1395       1  \n",
       "3996            8               1402       1  \n",
       "3997            1               1401       0  \n",
       "3998            0               1398       0  \n",
       "\n",
       "[3999 rows x 9 columns]>"
      ]
     },
     "execution_count": 18,
     "metadata": {},
     "output_type": "execute_result"
    }
   ],
   "source": [
    "# We see the data again now to check whether the data is in scale\n",
    "air1.describe\n",
    "\n",
    "# we notice that the data needs to be normalise, using normalization"
   ]
  },
  {
   "cell_type": "code",
   "execution_count": 19,
   "id": "ba82fec7",
   "metadata": {},
   "outputs": [
    {
     "name": "stdout",
     "output_type": "stream",
     "text": [
      "[[3.44815547e-05 9.70414393e-01 3.44815547e-05 ... 3.44815547e-05\n",
      "  2.41370883e-01 0.00000000e+00]\n",
      " [9.77144636e-05 9.40208568e-01 4.88572318e-05 ... 9.77144636e-05\n",
      "  3.40437191e-01 0.00000000e+00]\n",
      " [7.11742344e-05 9.81113097e-01 2.37247448e-05 ... 9.48989792e-05\n",
      "  1.66879855e-01 0.00000000e+00]\n",
      " ...\n",
      " [5.15333231e-02 9.43691958e-01 3.84672728e-05 ... 1.02579394e-04\n",
      "  1.79770388e-02 1.28224243e-05]\n",
      " [7.30031962e-02 9.96965788e-01 1.81599991e-05 ... 1.81599991e-05\n",
      "  2.54421587e-02 0.00000000e+00]\n",
      " [5.78140301e-01 7.90791260e-01 1.43780229e-04 ... 0.00000000e+00\n",
      "  2.01004760e-01 0.00000000e+00]]\n"
     ]
    }
   ],
   "source": [
    "from sklearn import preprocessing   #package for normalize\n",
    "air_normalized = preprocessing.normalize(air1)\n",
    "print(air_normalized)"
   ]
  },
  {
   "cell_type": "code",
   "execution_count": 20,
   "id": "fef4ae3c",
   "metadata": {},
   "outputs": [
    {
     "data": {
      "text/plain": [
       "ID#                 -1.199648\n",
       "Balance             -0.399134\n",
       "cc1_miles           -0.748508\n",
       "cc2_miles            0.000000\n",
       "cc3_miles            0.000000\n",
       "Bonus_miles         -0.278368\n",
       "Bonus_trans         -1.273009\n",
       "Days_since_enroll   -0.967505\n",
       "Award?              -1.712272\n",
       "dtype: float64"
      ]
     },
     "execution_count": 20,
     "metadata": {},
     "output_type": "execute_result"
    },
    {
     "data": {
      "image/png": "[encoded data removed]",
      "text/plain": [
       "<Figure size 432x288 with 1 Axes>"
      ]
     },
     "metadata": {
      "needs_background": "light"
     },
     "output_type": "display_data"
    }
   ],
   "source": [
    "##########################Univariate, Bivariate################\n",
    "plt.hist(air1[\"Balance\"])   #Univariate\n",
    "\n",
    "plt.hist(air1[\"Days_since_enroll\"])\n",
    "\n",
    "plt.scatter(air1[\"Balance\"], air[\"Days_since_enroll\"]);plt.xlabel('Days_since_enroll');plt.ylabel('Balance')   #Bivariate\n",
    "\n",
    "air1.skew(axis = 0, skipna = True) \n",
    "\n",
    "air1.kurtosis(axis = 0, skipna = True)"
   ]
  },
  {
   "cell_type": "markdown",
   "id": "9730eee7",
   "metadata": {},
   "source": [
    "After all the analyses we now start with the K-Means Clustering procedure\n",
    "\n",
    "K-means is a centroid-based algorithm, or a distance-based algorithm, where we calculate the distances to assign a point to a cluster. In K-Means, each cluster is associated with a centroid.\n",
    "\n",
    "The main objective of the K-Means algorithm is to minimize the sum of distances between the points and their respective cluster centroid. The first step in k-means is to pick the number of clusters, k. Then keep the iterations running until one of the below satisifes:\n",
    "\n",
    "    1. Centroids of newly formed clusters do not change\n",
    "    2. Points remain in the same cluster\n",
    "    3. Maximum number of iterations are reached\n",
    "\n",
    "In K Means clustering we need to first assign the K number of clusters which can be taken up using the thumb rule of \"Sqrt(n)/2\" or plotting the Elbow curve, aka Scree plot. "
   ]
  },
  {
   "cell_type": "code",
   "execution_count": 21,
   "id": "c9dd6f0d",
   "metadata": {},
   "outputs": [
    {
     "data": {
      "text/plain": [
       "[243.5815716904683,\n",
       " 174.21050592695872,\n",
       " 126.96101643195603,\n",
       " 96.67551569543605,\n",
       " 78.09160322987088,\n",
       " 67.59042124114221]"
      ]
     },
     "execution_count": 21,
     "metadata": {},
     "output_type": "execute_result"
    }
   ],
   "source": [
    "# calculating TWSS - Total within SS using different cluster range\n",
    "from sklearn.cluster import KMeans\n",
    "\n",
    "TWSS = []\n",
    "k = list(range(2, 8))\n",
    "\n",
    "for i in k:\n",
    "    kmeans = KMeans(n_clusters = i)\n",
    "    kmeans.fit(air_normalized)\n",
    "    TWSS.append(kmeans.inertia_)\n",
    "    \n",
    "TWSS"
   ]
  },
  {
   "cell_type": "code",
   "execution_count": 22,
   "id": "9808a9f7",
   "metadata": {},
   "outputs": [
    {
     "data": {
      "text/plain": [
       "Text(0, 0.5, 'total_within_SS')"
      ]
     },
     "execution_count": 22,
     "metadata": {},
     "output_type": "execute_result"
    },
    {
     "data": {
      "image/png": "[encoded data removed]",
      "text/plain": [
       "<Figure size 432x288 with 1 Axes>"
      ]
     },
     "metadata": {
      "needs_background": "light"
     },
     "output_type": "display_data"
    }
   ],
   "source": [
    "# Plotting the Scree plot using the TWSS from above defined function\n",
    "plt.plot(k, TWSS, 'ro-');plt.xlabel(\"No_of_Clusters\");plt.ylabel(\"total_within_SS\")"
   ]
  },
  {
   "cell_type": "code",
   "execution_count": 31,
   "id": "0bab11ba",
   "metadata": {},
   "outputs": [
    {
     "data": {
      "text/plain": [
       "KMeans(n_clusters=4)"
      ]
     },
     "execution_count": 31,
     "metadata": {},
     "output_type": "execute_result"
    }
   ],
   "source": [
    "# Selecting 4 clusters from the above scree plot which is the optimum number of clusters, \n",
    "# as the curve is seemingly bent or showinf an elbow format at K = 4\n",
    "\n",
    "model = KMeans(n_clusters = 4)\n",
    "model.fit(air_normalized)"
   ]
  },
  {
   "cell_type": "code",
   "execution_count": 32,
   "id": "c479e3f2",
   "metadata": {},
   "outputs": [
    {
     "data": {
      "text/plain": [
       "array([3, 3, 3, ..., 1, 3, 0])"
      ]
     },
     "execution_count": 32,
     "metadata": {},
     "output_type": "execute_result"
    }
   ],
   "source": [
    "model.labels_ # getting the labels of clusters assigned to each row"
   ]
  },
  {
   "cell_type": "code",
   "execution_count": 33,
   "id": "4daeabc5",
   "metadata": {},
   "outputs": [],
   "source": [
    "mb = pd.Series(model.labels_)  # converting numpy array into pandas series object "
   ]
  },
  {
   "cell_type": "code",
   "execution_count": 34,
   "id": "8ccb96b0",
   "metadata": {},
   "outputs": [],
   "source": [
    "air1 = pd.read_excel(\"EastWestAirlines.xlsx\",\"data\")\n",
    "air1['clust'] = mb # creating a  new column and assigning it to new column "
   ]
  },
  {
   "cell_type": "code",
   "execution_count": 35,
   "id": "9b5adbad",
   "metadata": {},
   "outputs": [
    {
     "data": {
      "text/html": [
       "<div>\n",
       "<style scoped>\n",
       "    .dataframe tbody tr th:only-of-type {\n",
       "        vertical-align: middle;\n",
       "    }\n",
       "\n",
       "    .dataframe tbody tr th {\n",
       "        vertical-align: top;\n",
       "    }\n",
       "\n",
       "    .dataframe thead th {\n",
       "        text-align: right;\n",
       "    }\n",
       "</style>\n",
       "<table border=\"1\" class=\"dataframe\">\n",
       "  <thead>\n",
       "    <tr style=\"text-align: right;\">\n",
       "      <th></th>\n",
       "      <th>ID#</th>\n",
       "      <th>Balance</th>\n",
       "      <th>Qual_miles</th>\n",
       "      <th>cc1_miles</th>\n",
       "      <th>cc2_miles</th>\n",
       "      <th>cc3_miles</th>\n",
       "      <th>Bonus_miles</th>\n",
       "      <th>Bonus_trans</th>\n",
       "      <th>Flight_miles_12mo</th>\n",
       "      <th>Flight_trans_12</th>\n",
       "      <th>Days_since_enroll</th>\n",
       "      <th>Award?</th>\n",
       "      <th>clust</th>\n",
       "    </tr>\n",
       "  </thead>\n",
       "  <tbody>\n",
       "    <tr>\n",
       "      <th>0</th>\n",
       "      <td>1</td>\n",
       "      <td>28143</td>\n",
       "      <td>0</td>\n",
       "      <td>1</td>\n",
       "      <td>1</td>\n",
       "      <td>1</td>\n",
       "      <td>174</td>\n",
       "      <td>1</td>\n",
       "      <td>0</td>\n",
       "      <td>0</td>\n",
       "      <td>7000</td>\n",
       "      <td>0</td>\n",
       "      <td>3</td>\n",
       "    </tr>\n",
       "    <tr>\n",
       "      <th>1</th>\n",
       "      <td>2</td>\n",
       "      <td>19244</td>\n",
       "      <td>0</td>\n",
       "      <td>1</td>\n",
       "      <td>1</td>\n",
       "      <td>1</td>\n",
       "      <td>215</td>\n",
       "      <td>2</td>\n",
       "      <td>0</td>\n",
       "      <td>0</td>\n",
       "      <td>6968</td>\n",
       "      <td>0</td>\n",
       "      <td>3</td>\n",
       "    </tr>\n",
       "    <tr>\n",
       "      <th>2</th>\n",
       "      <td>3</td>\n",
       "      <td>41354</td>\n",
       "      <td>0</td>\n",
       "      <td>1</td>\n",
       "      <td>1</td>\n",
       "      <td>1</td>\n",
       "      <td>4123</td>\n",
       "      <td>4</td>\n",
       "      <td>0</td>\n",
       "      <td>0</td>\n",
       "      <td>7034</td>\n",
       "      <td>0</td>\n",
       "      <td>3</td>\n",
       "    </tr>\n",
       "    <tr>\n",
       "      <th>3</th>\n",
       "      <td>4</td>\n",
       "      <td>14776</td>\n",
       "      <td>0</td>\n",
       "      <td>1</td>\n",
       "      <td>1</td>\n",
       "      <td>1</td>\n",
       "      <td>500</td>\n",
       "      <td>1</td>\n",
       "      <td>0</td>\n",
       "      <td>0</td>\n",
       "      <td>6952</td>\n",
       "      <td>0</td>\n",
       "      <td>0</td>\n",
       "    </tr>\n",
       "    <tr>\n",
       "      <th>4</th>\n",
       "      <td>5</td>\n",
       "      <td>97752</td>\n",
       "      <td>0</td>\n",
       "      <td>4</td>\n",
       "      <td>1</td>\n",
       "      <td>1</td>\n",
       "      <td>43300</td>\n",
       "      <td>26</td>\n",
       "      <td>2077</td>\n",
       "      <td>4</td>\n",
       "      <td>6935</td>\n",
       "      <td>1</td>\n",
       "      <td>1</td>\n",
       "    </tr>\n",
       "  </tbody>\n",
       "</table>\n",
       "</div>"
      ],
      "text/plain": [
       "   ID#  Balance  Qual_miles  cc1_miles  cc2_miles  cc3_miles  Bonus_miles  \\\n",
       "0    1    28143           0          1          1          1          174   \n",
       "1    2    19244           0          1          1          1          215   \n",
       "2    3    41354           0          1          1          1         4123   \n",
       "3    4    14776           0          1          1          1          500   \n",
       "4    5    97752           0          4          1          1        43300   \n",
       "\n",
       "   Bonus_trans  Flight_miles_12mo  Flight_trans_12  Days_since_enroll  Award?  \\\n",
       "0            1                  0                0               7000       0   \n",
       "1            2                  0                0               6968       0   \n",
       "2            4                  0                0               7034       0   \n",
       "3            1                  0                0               6952       0   \n",
       "4           26               2077                4               6935       1   \n",
       "\n",
       "   clust  \n",
       "0      3  \n",
       "1      3  \n",
       "2      3  \n",
       "3      0  \n",
       "4      1  "
      ]
     },
     "execution_count": 35,
     "metadata": {},
     "output_type": "execute_result"
    }
   ],
   "source": [
    "air1.head()"
   ]
  },
  {
   "cell_type": "code",
   "execution_count": 36,
   "id": "763272e3",
   "metadata": {},
   "outputs": [
    {
     "data": {
      "text/html": [
       "<div>\n",
       "<style scoped>\n",
       "    .dataframe tbody tr th:only-of-type {\n",
       "        vertical-align: middle;\n",
       "    }\n",
       "\n",
       "    .dataframe tbody tr th {\n",
       "        vertical-align: top;\n",
       "    }\n",
       "\n",
       "    .dataframe thead th {\n",
       "        text-align: right;\n",
       "    }\n",
       "</style>\n",
       "<table border=\"1\" class=\"dataframe\">\n",
       "  <thead>\n",
       "    <tr style=\"text-align: right;\">\n",
       "      <th></th>\n",
       "      <th>clust</th>\n",
       "      <th>ID#</th>\n",
       "      <th>Balance</th>\n",
       "      <th>Qual_miles</th>\n",
       "      <th>cc1_miles</th>\n",
       "      <th>cc2_miles</th>\n",
       "      <th>cc3_miles</th>\n",
       "      <th>Bonus_miles</th>\n",
       "      <th>Bonus_trans</th>\n",
       "      <th>Flight_miles_12mo</th>\n",
       "      <th>Flight_trans_12</th>\n",
       "      <th>Days_since_enroll</th>\n",
       "      <th>Award?</th>\n",
       "    </tr>\n",
       "  </thead>\n",
       "  <tbody>\n",
       "    <tr>\n",
       "      <th>0</th>\n",
       "      <td>3</td>\n",
       "      <td>1</td>\n",
       "      <td>28143</td>\n",
       "      <td>0</td>\n",
       "      <td>1</td>\n",
       "      <td>1</td>\n",
       "      <td>1</td>\n",
       "      <td>174</td>\n",
       "      <td>1</td>\n",
       "      <td>0</td>\n",
       "      <td>0</td>\n",
       "      <td>7000</td>\n",
       "      <td>0</td>\n",
       "    </tr>\n",
       "    <tr>\n",
       "      <th>1</th>\n",
       "      <td>3</td>\n",
       "      <td>2</td>\n",
       "      <td>19244</td>\n",
       "      <td>0</td>\n",
       "      <td>1</td>\n",
       "      <td>1</td>\n",
       "      <td>1</td>\n",
       "      <td>215</td>\n",
       "      <td>2</td>\n",
       "      <td>0</td>\n",
       "      <td>0</td>\n",
       "      <td>6968</td>\n",
       "      <td>0</td>\n",
       "    </tr>\n",
       "    <tr>\n",
       "      <th>2</th>\n",
       "      <td>3</td>\n",
       "      <td>3</td>\n",
       "      <td>41354</td>\n",
       "      <td>0</td>\n",
       "      <td>1</td>\n",
       "      <td>1</td>\n",
       "      <td>1</td>\n",
       "      <td>4123</td>\n",
       "      <td>4</td>\n",
       "      <td>0</td>\n",
       "      <td>0</td>\n",
       "      <td>7034</td>\n",
       "      <td>0</td>\n",
       "    </tr>\n",
       "    <tr>\n",
       "      <th>3</th>\n",
       "      <td>0</td>\n",
       "      <td>4</td>\n",
       "      <td>14776</td>\n",
       "      <td>0</td>\n",
       "      <td>1</td>\n",
       "      <td>1</td>\n",
       "      <td>1</td>\n",
       "      <td>500</td>\n",
       "      <td>1</td>\n",
       "      <td>0</td>\n",
       "      <td>0</td>\n",
       "      <td>6952</td>\n",
       "      <td>0</td>\n",
       "    </tr>\n",
       "    <tr>\n",
       "      <th>4</th>\n",
       "      <td>1</td>\n",
       "      <td>5</td>\n",
       "      <td>97752</td>\n",
       "      <td>0</td>\n",
       "      <td>4</td>\n",
       "      <td>1</td>\n",
       "      <td>1</td>\n",
       "      <td>43300</td>\n",
       "      <td>26</td>\n",
       "      <td>2077</td>\n",
       "      <td>4</td>\n",
       "      <td>6935</td>\n",
       "      <td>1</td>\n",
       "    </tr>\n",
       "  </tbody>\n",
       "</table>\n",
       "</div>"
      ],
      "text/plain": [
       "   clust  ID#  Balance  Qual_miles  cc1_miles  cc2_miles  cc3_miles  \\\n",
       "0      3    1    28143           0          1          1          1   \n",
       "1      3    2    19244           0          1          1          1   \n",
       "2      3    3    41354           0          1          1          1   \n",
       "3      0    4    14776           0          1          1          1   \n",
       "4      1    5    97752           0          4          1          1   \n",
       "\n",
       "   Bonus_miles  Bonus_trans  Flight_miles_12mo  Flight_trans_12  \\\n",
       "0          174            1                  0                0   \n",
       "1          215            2                  0                0   \n",
       "2         4123            4                  0                0   \n",
       "3          500            1                  0                0   \n",
       "4        43300           26               2077                4   \n",
       "\n",
       "   Days_since_enroll  Award?  \n",
       "0               7000       0  \n",
       "1               6968       0  \n",
       "2               7034       0  \n",
       "3               6952       0  \n",
       "4               6935       1  "
      ]
     },
     "execution_count": 36,
     "metadata": {},
     "output_type": "execute_result"
    }
   ],
   "source": [
    "air = air1.iloc[:,[12,0,1,2,3,4,5,6,7,8,9,10,11]]\n",
    "air.head()"
   ]
  },
  {
   "cell_type": "code",
   "execution_count": 37,
   "id": "2d45f153",
   "metadata": {},
   "outputs": [],
   "source": [
    "# We can clearly see that we have the labels in the dataset in the form of a column called \"clust\", symbolizing the clusters"
   ]
  },
  {
   "cell_type": "code",
   "execution_count": 38,
   "id": "ffb0f9c9",
   "metadata": {},
   "outputs": [
    {
     "data": {
      "text/html": [
       "<div>\n",
       "<style scoped>\n",
       "    .dataframe tbody tr th:only-of-type {\n",
       "        vertical-align: middle;\n",
       "    }\n",
       "\n",
       "    .dataframe tbody tr th {\n",
       "        vertical-align: top;\n",
       "    }\n",
       "\n",
       "    .dataframe thead th {\n",
       "        text-align: right;\n",
       "    }\n",
       "</style>\n",
       "<table border=\"1\" class=\"dataframe\">\n",
       "  <thead>\n",
       "    <tr style=\"text-align: right;\">\n",
       "      <th></th>\n",
       "      <th>ID#</th>\n",
       "      <th>Balance</th>\n",
       "      <th>Qual_miles</th>\n",
       "      <th>cc1_miles</th>\n",
       "      <th>cc2_miles</th>\n",
       "      <th>cc3_miles</th>\n",
       "      <th>Bonus_miles</th>\n",
       "      <th>Bonus_trans</th>\n",
       "      <th>Flight_miles_12mo</th>\n",
       "      <th>Flight_trans_12</th>\n",
       "      <th>Days_since_enroll</th>\n",
       "    </tr>\n",
       "    <tr>\n",
       "      <th>clust</th>\n",
       "      <th></th>\n",
       "      <th></th>\n",
       "      <th></th>\n",
       "      <th></th>\n",
       "      <th></th>\n",
       "      <th></th>\n",
       "      <th></th>\n",
       "      <th></th>\n",
       "      <th></th>\n",
       "      <th></th>\n",
       "      <th></th>\n",
       "    </tr>\n",
       "  </thead>\n",
       "  <tbody>\n",
       "    <tr>\n",
       "      <th>0</th>\n",
       "      <td>2201.523897</td>\n",
       "      <td>7227.898897</td>\n",
       "      <td>29.080882</td>\n",
       "      <td>1.000000</td>\n",
       "      <td>1.000000</td>\n",
       "      <td>1.000000</td>\n",
       "      <td>829.773897</td>\n",
       "      <td>3.080882</td>\n",
       "      <td>75.216912</td>\n",
       "      <td>0.279412</td>\n",
       "      <td>3736.542279</td>\n",
       "    </tr>\n",
       "    <tr>\n",
       "      <th>1</th>\n",
       "      <td>1941.083682</td>\n",
       "      <td>99621.342259</td>\n",
       "      <td>158.640167</td>\n",
       "      <td>3.271130</td>\n",
       "      <td>1.025105</td>\n",
       "      <td>1.028452</td>\n",
       "      <td>36253.000837</td>\n",
       "      <td>18.362343</td>\n",
       "      <td>522.138912</td>\n",
       "      <td>1.562343</td>\n",
       "      <td>4257.007531</td>\n",
       "    </tr>\n",
       "    <tr>\n",
       "      <th>2</th>\n",
       "      <td>1927.505263</td>\n",
       "      <td>24112.665789</td>\n",
       "      <td>93.994737</td>\n",
       "      <td>3.113158</td>\n",
       "      <td>1.031579</td>\n",
       "      <td>1.036842</td>\n",
       "      <td>34303.892105</td>\n",
       "      <td>16.826316</td>\n",
       "      <td>574.371053</td>\n",
       "      <td>1.594737</td>\n",
       "      <td>4258.002632</td>\n",
       "    </tr>\n",
       "    <tr>\n",
       "      <th>3</th>\n",
       "      <td>2025.312234</td>\n",
       "      <td>86270.965426</td>\n",
       "      <td>178.298404</td>\n",
       "      <td>1.382979</td>\n",
       "      <td>1.008511</td>\n",
       "      <td>1.000532</td>\n",
       "      <td>6251.610638</td>\n",
       "      <td>8.714362</td>\n",
       "      <td>508.844681</td>\n",
       "      <td>1.525532</td>\n",
       "      <td>4112.912234</td>\n",
       "    </tr>\n",
       "  </tbody>\n",
       "</table>\n",
       "</div>"
      ],
      "text/plain": [
       "               ID#       Balance  Qual_miles  cc1_miles  cc2_miles  cc3_miles  \\\n",
       "clust                                                                           \n",
       "0      2201.523897   7227.898897   29.080882   1.000000   1.000000   1.000000   \n",
       "1      1941.083682  99621.342259  158.640167   3.271130   1.025105   1.028452   \n",
       "2      1927.505263  24112.665789   93.994737   3.113158   1.031579   1.036842   \n",
       "3      2025.312234  86270.965426  178.298404   1.382979   1.008511   1.000532   \n",
       "\n",
       "        Bonus_miles  Bonus_trans  Flight_miles_12mo  Flight_trans_12  \\\n",
       "clust                                                                  \n",
       "0        829.773897     3.080882          75.216912         0.279412   \n",
       "1      36253.000837    18.362343         522.138912         1.562343   \n",
       "2      34303.892105    16.826316         574.371053         1.594737   \n",
       "3       6251.610638     8.714362         508.844681         1.525532   \n",
       "\n",
       "       Days_since_enroll  \n",
       "clust                     \n",
       "0            3736.542279  \n",
       "1            4257.007531  \n",
       "2            4258.002632  \n",
       "3            4112.912234  "
      ]
     },
     "execution_count": 38,
     "metadata": {},
     "output_type": "execute_result"
    }
   ],
   "source": [
    "# In order to see the clusters we aggregate the records within the clusters and group them by the clusters to visualize the \n",
    "# 4 nos of clear cluster formed\n",
    "air.iloc[:, 1:12].groupby(air.clust).mean()"
   ]
  },
  {
   "cell_type": "markdown",
   "id": "21cc32b1",
   "metadata": {},
   "source": [
    "We can now clearly see the 4 number of clusters formed, which can be described as under\n",
    "\n",
    "   1. Cluster1, Tier 1 = \"1\" = Defines the group of fliers that earn the most out of the card and are frequent fliers\n",
    "   2. Cluster3, Tier 2 = \"3\" = Defines the group of fliers that earn but and are the second most frequent fliers\n",
    "   3. Cluster2, Tier 3 = \"2\" = Defines the group of fliers that earn the even less and are the third most frequent fliers\n",
    "   4. Cluster0, Tier 4 = \"0\" = Defines the group of fliers that earn the least and are the least frequent fliers"
   ]
  }
 ],
 "metadata": {
  "kernelspec": {
   "display_name": "Python 3",
   "language": "python",
   "name": "python3"
  },
  "language_info": {
   "codemirror_mode": {
    "name": "ipython",
    "version": 3
   },
   "file_extension": ".py",
   "mimetype": "text/x-python",
   "name": "python",
   "nbconvert_exporter": "python",
   "pygments_lexer": "ipython3",
   "version": "3.8.10"
  }
 },
 "nbformat": 4,
 "nbformat_minor": 5
}
