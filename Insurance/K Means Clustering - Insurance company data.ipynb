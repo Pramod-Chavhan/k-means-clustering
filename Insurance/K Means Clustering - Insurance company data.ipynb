{
 "cells": [
  {
   "cell_type": "markdown",
   "id": "9ef60dea",
   "metadata": {},
   "source": [
    "**K-Means CLUSTERING!! - 360DIGITMG**\n",
    "\n",
    "Clustering algorithms are unsupervised machine learning algorithms so there is no label associated with data points.\n",
    "Clustering algorithms look for similarities or dissimilarities among data points so that similar ones can be grouped together.\n",
    "\n",
    "K-means algorithm identifies k number of centroids, and then allocates every data point to the nearest cluster, while keeping the centroids as small as possible. The ‘means’ in the K-means refers to averaging of the data; that is, finding the centroid.\n",
    "\n",
    "To process the learning data, the K-means algorithm in data mining starts with a first group of randomly selected centroids, which are used as the beginning points for every cluster, and then performs iterative (repetitive) calculations to optimize the positions of the centroids\n",
    "\n",
    "It halts creating and optimizing clusters when either:\n",
    "\n",
    "    1. The centroids have stabilized — there is no change in their values because the clustering has been successful.\n",
    "    2. The defined number of iterations has been achieved."
   ]
  },
  {
   "cell_type": "markdown",
   "id": "8358c469",
   "metadata": {},
   "source": [
    "K-Means Clustering problem 1:\n",
    "\n",
    "    Analyze the information given in the following ‘Insurance Policy dataset’ to create clusters \n",
    "    of persons falling in the same type. Refer to Insurance Dataset.csv."
   ]
  },
  {
   "cell_type": "markdown",
   "id": "3ee8e580",
   "metadata": {},
   "source": [
    "As a first step towards your solution, we need to understand the data and hence we load the same and the libbraries required"
   ]
  },
  {
   "cell_type": "code",
   "execution_count": 1,
   "id": "4e306cfd",
   "metadata": {},
   "outputs": [],
   "source": [
    "import pandas as pd               # for Data Manipulation\n",
    "import matplotlib.pyplot as plt   # for Visualization\n",
    "import numpy as np                #for Mathematical calculations\n",
    "import seaborn as sns             #for Advanced visualizations\n",
    "\n",
    "ins = pd.read_csv(\"Insurance Dataset.csv\")"
   ]
  },
  {
   "cell_type": "code",
   "execution_count": 2,
   "id": "7c48fff7",
   "metadata": {},
   "outputs": [
    {
     "data": {
      "text/html": [
       "<div>\n",
       "<style scoped>\n",
       "    .dataframe tbody tr th:only-of-type {\n",
       "        vertical-align: middle;\n",
       "    }\n",
       "\n",
       "    .dataframe tbody tr th {\n",
       "        vertical-align: top;\n",
       "    }\n",
       "\n",
       "    .dataframe thead th {\n",
       "        text-align: right;\n",
       "    }\n",
       "</style>\n",
       "<table border=\"1\" class=\"dataframe\">\n",
       "  <thead>\n",
       "    <tr style=\"text-align: right;\">\n",
       "      <th></th>\n",
       "      <th>Premiums Paid</th>\n",
       "      <th>Age</th>\n",
       "      <th>Days to Renew</th>\n",
       "      <th>Claims made</th>\n",
       "      <th>Income</th>\n",
       "    </tr>\n",
       "  </thead>\n",
       "  <tbody>\n",
       "    <tr>\n",
       "      <th>0</th>\n",
       "      <td>2800</td>\n",
       "      <td>26</td>\n",
       "      <td>233</td>\n",
       "      <td>3890.076336</td>\n",
       "      <td>28000</td>\n",
       "    </tr>\n",
       "    <tr>\n",
       "      <th>1</th>\n",
       "      <td>2950</td>\n",
       "      <td>27</td>\n",
       "      <td>130</td>\n",
       "      <td>2294.444444</td>\n",
       "      <td>29500</td>\n",
       "    </tr>\n",
       "    <tr>\n",
       "      <th>2</th>\n",
       "      <td>3100</td>\n",
       "      <td>28</td>\n",
       "      <td>144</td>\n",
       "      <td>2564.545455</td>\n",
       "      <td>31000</td>\n",
       "    </tr>\n",
       "    <tr>\n",
       "      <th>3</th>\n",
       "      <td>3250</td>\n",
       "      <td>30</td>\n",
       "      <td>65</td>\n",
       "      <td>1978.260870</td>\n",
       "      <td>32500</td>\n",
       "    </tr>\n",
       "    <tr>\n",
       "      <th>4</th>\n",
       "      <td>3400</td>\n",
       "      <td>32</td>\n",
       "      <td>56</td>\n",
       "      <td>2009.090909</td>\n",
       "      <td>34000</td>\n",
       "    </tr>\n",
       "  </tbody>\n",
       "</table>\n",
       "</div>"
      ],
      "text/plain": [
       "   Premiums Paid  Age  Days to Renew  Claims made  Income\n",
       "0           2800   26            233  3890.076336   28000\n",
       "1           2950   27            130  2294.444444   29500\n",
       "2           3100   28            144  2564.545455   31000\n",
       "3           3250   30             65  1978.260870   32500\n",
       "4           3400   32             56  2009.090909   34000"
      ]
     },
     "execution_count": 2,
     "metadata": {},
     "output_type": "execute_result"
    }
   ],
   "source": [
    "ins.head()"
   ]
  },
  {
   "cell_type": "code",
   "execution_count": 3,
   "id": "67a26ac5",
   "metadata": {},
   "outputs": [
    {
     "data": {
      "text/plain": [
       "Index(['Premiums Paid', 'Age', 'Days to Renew', 'Claims made', 'Income'], dtype='object')"
      ]
     },
     "execution_count": 3,
     "metadata": {},
     "output_type": "execute_result"
    }
   ],
   "source": [
    "# We see the columns in the dataset\n",
    "ins.columns"
   ]
  },
  {
   "cell_type": "code",
   "execution_count": 4,
   "id": "0ea44627",
   "metadata": {},
   "outputs": [
    {
     "data": {
      "text/html": [
       "<div>\n",
       "<style scoped>\n",
       "    .dataframe tbody tr th:only-of-type {\n",
       "        vertical-align: middle;\n",
       "    }\n",
       "\n",
       "    .dataframe tbody tr th {\n",
       "        vertical-align: top;\n",
       "    }\n",
       "\n",
       "    .dataframe thead th {\n",
       "        text-align: right;\n",
       "    }\n",
       "</style>\n",
       "<table border=\"1\" class=\"dataframe\">\n",
       "  <thead>\n",
       "    <tr style=\"text-align: right;\">\n",
       "      <th></th>\n",
       "      <th>Premiums Paid</th>\n",
       "      <th>Age</th>\n",
       "      <th>Days to Renew</th>\n",
       "      <th>Claims made</th>\n",
       "      <th>Income</th>\n",
       "    </tr>\n",
       "  </thead>\n",
       "  <tbody>\n",
       "    <tr>\n",
       "      <th>0</th>\n",
       "      <td>2800</td>\n",
       "      <td>26</td>\n",
       "      <td>233</td>\n",
       "      <td>3890.076336</td>\n",
       "      <td>28000</td>\n",
       "    </tr>\n",
       "    <tr>\n",
       "      <th>1</th>\n",
       "      <td>2950</td>\n",
       "      <td>27</td>\n",
       "      <td>130</td>\n",
       "      <td>2294.444444</td>\n",
       "      <td>29500</td>\n",
       "    </tr>\n",
       "    <tr>\n",
       "      <th>2</th>\n",
       "      <td>3100</td>\n",
       "      <td>28</td>\n",
       "      <td>144</td>\n",
       "      <td>2564.545455</td>\n",
       "      <td>31000</td>\n",
       "    </tr>\n",
       "    <tr>\n",
       "      <th>3</th>\n",
       "      <td>3250</td>\n",
       "      <td>30</td>\n",
       "      <td>65</td>\n",
       "      <td>1978.260870</td>\n",
       "      <td>32500</td>\n",
       "    </tr>\n",
       "    <tr>\n",
       "      <th>4</th>\n",
       "      <td>3400</td>\n",
       "      <td>32</td>\n",
       "      <td>56</td>\n",
       "      <td>2009.090909</td>\n",
       "      <td>34000</td>\n",
       "    </tr>\n",
       "  </tbody>\n",
       "</table>\n",
       "</div>"
      ],
      "text/plain": [
       "   Premiums Paid  Age  Days to Renew  Claims made  Income\n",
       "0           2800   26            233  3890.076336   28000\n",
       "1           2950   27            130  2294.444444   29500\n",
       "2           3100   28            144  2564.545455   31000\n",
       "3           3250   30             65  1978.260870   32500\n",
       "4           3400   32             56  2009.090909   34000"
      ]
     },
     "execution_count": 4,
     "metadata": {},
     "output_type": "execute_result"
    }
   ],
   "source": [
    "ins.head()"
   ]
  },
  {
   "cell_type": "markdown",
   "id": "cf3630e4",
   "metadata": {},
   "source": [
    "**Data Description:**\n",
    "\n",
    "The file Insurance Dataset contains information on Insurance details of the people and the idea is to create a group of people based on the features given below:\n",
    "\n",
    "Premiums Paid -- Premium being paid by the Insured\n",
    "\n",
    "Age - Age of the Insured person\n",
    "\n",
    "Days to Renew -- Days left to renew the Insurance policy\n",
    "\n",
    "Claims made -- Claims made by the Insured, if any\n",
    "\n",
    "Income - Income bracket of the Insured person"
   ]
  },
  {
   "cell_type": "code",
   "execution_count": 5,
   "id": "7ba66168",
   "metadata": {},
   "outputs": [
    {
     "data": {
      "text/plain": [
       "Premiums Paid    0\n",
       "Age              0\n",
       "Days to Renew    0\n",
       "Claims made      0\n",
       "Income           0\n",
       "dtype: int64"
      ]
     },
     "execution_count": 5,
     "metadata": {},
     "output_type": "execute_result"
    }
   ],
   "source": [
    "# As a part of the Data cleansing we check the data for any missing/ na values\n",
    "ins.isna().sum()"
   ]
  },
  {
   "cell_type": "code",
   "execution_count": 6,
   "id": "fc3b6dfa",
   "metadata": {},
   "outputs": [
    {
     "data": {
      "text/plain": [
       "0"
      ]
     },
     "execution_count": 6,
     "metadata": {},
     "output_type": "execute_result"
    }
   ],
   "source": [
    "# Additionally we check the data for any duplicate values, now this can be an optional check depending on the data being used\n",
    "ins1 = ins.duplicated()\n",
    "sum(ins1)"
   ]
  },
  {
   "cell_type": "code",
   "execution_count": 7,
   "id": "65578b45",
   "metadata": {},
   "outputs": [
    {
     "data": {
      "text/plain": [
       "<bound method NDFrame.describe of     Premiums Paid  Age  Days to Renew   Claims made  Income\n",
       "0            2800   26            233   3890.076336   28000\n",
       "1            2950   27            130   2294.444444   29500\n",
       "2            3100   28            144   2564.545455   31000\n",
       "3            3250   30             65   1978.260870   32500\n",
       "4            3400   32             56   2009.090909   34000\n",
       "..            ...  ...            ...           ...     ...\n",
       "95          25575   63             76  16161.979170  170500\n",
       "96          25800   62            166  23715.151520  172000\n",
       "97          26025   59            167  24043.401020  173500\n",
       "98          26250   58            245  40147.058820  175000\n",
       "99          26475   52            261  46781.067960  176500\n",
       "\n",
       "[100 rows x 5 columns]>"
      ]
     },
     "execution_count": 7,
     "metadata": {},
     "output_type": "execute_result"
    }
   ],
   "source": [
    "# We see the data again now to check whether the data is in scale\n",
    "ins.describe\n",
    "\n",
    "# we notice that the data needs to be normalise, using normalization"
   ]
  },
  {
   "cell_type": "code",
   "execution_count": 8,
   "id": "ba82fec7",
   "metadata": {},
   "outputs": [],
   "source": [
    "def norm_func(i):\n",
    "    x = (i - i.min())\t/ (i.max() - i.min())\n",
    "    return (x)\n",
    "\n",
    "# Normalized data frame (considering the numerical part of data)\n",
    "df_norm = norm_func(ins.iloc[:,:])"
   ]
  },
  {
   "cell_type": "code",
   "execution_count": 9,
   "id": "fef4ae3c",
   "metadata": {},
   "outputs": [
    {
     "data": {
      "text/plain": [
       "Premiums Paid    -0.134543\n",
       "Age              -0.287800\n",
       "Days to Renew    -0.786621\n",
       "Claims made      17.254497\n",
       "Income           -1.200000\n",
       "dtype: float64"
      ]
     },
     "execution_count": 9,
     "metadata": {},
     "output_type": "execute_result"
    },
    {
     "data": {
      "image/png": "[encoded data removed]",
      "text/plain": [
       "<Figure size 432x288 with 1 Axes>"
      ]
     },
     "metadata": {
      "needs_background": "light"
     },
     "output_type": "display_data"
    }
   ],
   "source": [
    "##########################Univariate, Bivariate################\n",
    "plt.hist(ins)   #Univariate\n",
    "\n",
    "ins.skew(axis = 0, skipna = True) \n",
    "\n",
    "ins.kurtosis(axis = 0, skipna = True)"
   ]
  },
  {
   "cell_type": "markdown",
   "id": "9730eee7",
   "metadata": {},
   "source": [
    "After all the analyses we now start with the K-Means Clustering procedure\n",
    "\n",
    "K-means is a centroid-based algorithm, or a distance-based algorithm, where we calculate the distances to assign a point to a cluster. In K-Means, each cluster is associated with a centroid.\n",
    "\n",
    "The main objective of the K-Means algorithm is to minimize the sum of distances between the points and their respective cluster centroid. The first step in k-means is to pick the number of clusters, k. Then keep the iterations running until one of the below satisifes:\n",
    "\n",
    "    1. Centroids of newly formed clusters do not change\n",
    "    2. Points remain in the same cluster\n",
    "    3. Maximum number of iterations are reached\n",
    "\n",
    "In K Means clustering we need to first assign the K number of clusters which can be taken up using the thumb rule of \"Sqrt(n)/2\" or plotting the Elbow curve, aka Scree plot. "
   ]
  },
  {
   "cell_type": "code",
   "execution_count": 10,
   "id": "c9dd6f0d",
   "metadata": {},
   "outputs": [
    {
     "data": {
      "text/plain": [
       "[18.56906591852995,\n",
       " 14.476922604427537,\n",
       " 10.79969226270363,\n",
       " 8.989738347778546,\n",
       " 7.329507252294512,\n",
       " 6.575686222342304]"
      ]
     },
     "execution_count": 10,
     "metadata": {},
     "output_type": "execute_result"
    }
   ],
   "source": [
    "# calculating TWSS - Total within SS using different cluster range\n",
    "from sklearn.cluster import KMeans\n",
    "\n",
    "TWSS = []\n",
    "k = list(range(2, 8))\n",
    "\n",
    "for i in k:\n",
    "    kmeans = KMeans(n_clusters = i)\n",
    "    kmeans.fit(df_norm)\n",
    "    TWSS.append(kmeans.inertia_)\n",
    "    \n",
    "TWSS"
   ]
  },
  {
   "cell_type": "code",
   "execution_count": 11,
   "id": "9808a9f7",
   "metadata": {},
   "outputs": [
    {
     "data": {
      "text/plain": [
       "Text(0, 0.5, 'total_within_SS')"
      ]
     },
     "execution_count": 11,
     "metadata": {},
     "output_type": "execute_result"
    },
    {
     "data": {
      "image/png": "[encoded data removed]",
      "text/plain": [
       "<Figure size 432x288 with 1 Axes>"
      ]
     },
     "metadata": {
      "needs_background": "light"
     },
     "output_type": "display_data"
    }
   ],
   "source": [
    "# Plotting the Scree plot using the TWSS from above defined function\n",
    "plt.plot(k, TWSS, 'ro-');plt.xlabel(\"No_of_Clusters\");plt.ylabel(\"total_within_SS\")"
   ]
  },
  {
   "cell_type": "code",
   "execution_count": 12,
   "id": "0bab11ba",
   "metadata": {},
   "outputs": [
    {
     "data": {
      "text/plain": [
       "KMeans(n_clusters=4)"
      ]
     },
     "execution_count": 12,
     "metadata": {},
     "output_type": "execute_result"
    }
   ],
   "source": [
    "# Selecting 4 clusters from the above scree plot which is the optimum number of clusters, \n",
    "# as the curve is seemingly bent or showinf an elbow format at K = 4\n",
    "\n",
    "model = KMeans(n_clusters = 4)\n",
    "model.fit(df_norm)"
   ]
  },
  {
   "cell_type": "code",
   "execution_count": 13,
   "id": "262eb4d8",
   "metadata": {},
   "outputs": [
    {
     "data": {
      "text/plain": [
       "array([3, 2, 2, 2, 2, 2, 2, 2, 2, 3, 3, 3, 3, 3, 3, 2, 2, 2, 2, 2, 2, 2,\n",
       "       2, 2, 2, 2, 2, 2, 2, 2, 2, 3, 3, 3, 3, 3, 3, 1, 3, 1, 1, 1, 1, 1,\n",
       "       1, 1, 3, 3, 3, 3, 3, 1, 1, 1, 1, 1, 1, 1, 0, 1, 1, 1, 1, 1, 1, 1,\n",
       "       1, 1, 0, 3, 3, 3, 1, 1, 1, 1, 1, 1, 1, 1, 0, 0, 1, 0, 0, 0, 0, 0,\n",
       "       0, 1, 0, 1, 0, 1, 0, 0, 0, 0, 0, 0])"
      ]
     },
     "execution_count": 13,
     "metadata": {},
     "output_type": "execute_result"
    }
   ],
   "source": [
    "model.labels_ # getting the labels of clusters assigned to each row"
   ]
  },
  {
   "cell_type": "code",
   "execution_count": 14,
   "id": "7eff655d",
   "metadata": {},
   "outputs": [],
   "source": [
    "mb = pd.Series(model.labels_)  # converting numpy array into pandas series object "
   ]
  },
  {
   "cell_type": "code",
   "execution_count": 15,
   "id": "7f7afdef",
   "metadata": {},
   "outputs": [],
   "source": [
    "ins['clust'] = mb # creating a  new column and assigning it to new column "
   ]
  },
  {
   "cell_type": "code",
   "execution_count": 16,
   "id": "1a19de12",
   "metadata": {},
   "outputs": [
    {
     "data": {
      "text/html": [
       "<div>\n",
       "<style scoped>\n",
       "    .dataframe tbody tr th:only-of-type {\n",
       "        vertical-align: middle;\n",
       "    }\n",
       "\n",
       "    .dataframe tbody tr th {\n",
       "        vertical-align: top;\n",
       "    }\n",
       "\n",
       "    .dataframe thead th {\n",
       "        text-align: right;\n",
       "    }\n",
       "</style>\n",
       "<table border=\"1\" class=\"dataframe\">\n",
       "  <thead>\n",
       "    <tr style=\"text-align: right;\">\n",
       "      <th></th>\n",
       "      <th>Premiums Paid</th>\n",
       "      <th>Age</th>\n",
       "      <th>Days to Renew</th>\n",
       "      <th>Claims made</th>\n",
       "      <th>Income</th>\n",
       "      <th>clust</th>\n",
       "    </tr>\n",
       "  </thead>\n",
       "  <tbody>\n",
       "    <tr>\n",
       "      <th>0</th>\n",
       "      <td>2800</td>\n",
       "      <td>26</td>\n",
       "      <td>233</td>\n",
       "      <td>3890.076336</td>\n",
       "      <td>28000</td>\n",
       "      <td>3</td>\n",
       "    </tr>\n",
       "    <tr>\n",
       "      <th>1</th>\n",
       "      <td>2950</td>\n",
       "      <td>27</td>\n",
       "      <td>130</td>\n",
       "      <td>2294.444444</td>\n",
       "      <td>29500</td>\n",
       "      <td>2</td>\n",
       "    </tr>\n",
       "    <tr>\n",
       "      <th>2</th>\n",
       "      <td>3100</td>\n",
       "      <td>28</td>\n",
       "      <td>144</td>\n",
       "      <td>2564.545455</td>\n",
       "      <td>31000</td>\n",
       "      <td>2</td>\n",
       "    </tr>\n",
       "    <tr>\n",
       "      <th>3</th>\n",
       "      <td>3250</td>\n",
       "      <td>30</td>\n",
       "      <td>65</td>\n",
       "      <td>1978.260870</td>\n",
       "      <td>32500</td>\n",
       "      <td>2</td>\n",
       "    </tr>\n",
       "    <tr>\n",
       "      <th>4</th>\n",
       "      <td>3400</td>\n",
       "      <td>32</td>\n",
       "      <td>56</td>\n",
       "      <td>2009.090909</td>\n",
       "      <td>34000</td>\n",
       "      <td>2</td>\n",
       "    </tr>\n",
       "  </tbody>\n",
       "</table>\n",
       "</div>"
      ],
      "text/plain": [
       "   Premiums Paid  Age  Days to Renew  Claims made  Income  clust\n",
       "0           2800   26            233  3890.076336   28000      3\n",
       "1           2950   27            130  2294.444444   29500      2\n",
       "2           3100   28            144  2564.545455   31000      2\n",
       "3           3250   30             65  1978.260870   32500      2\n",
       "4           3400   32             56  2009.090909   34000      2"
      ]
     },
     "execution_count": 16,
     "metadata": {},
     "output_type": "execute_result"
    }
   ],
   "source": [
    "ins.head()"
   ]
  },
  {
   "cell_type": "code",
   "execution_count": 17,
   "id": "763272e3",
   "metadata": {},
   "outputs": [
    {
     "data": {
      "text/html": [
       "<div>\n",
       "<style scoped>\n",
       "    .dataframe tbody tr th:only-of-type {\n",
       "        vertical-align: middle;\n",
       "    }\n",
       "\n",
       "    .dataframe tbody tr th {\n",
       "        vertical-align: top;\n",
       "    }\n",
       "\n",
       "    .dataframe thead th {\n",
       "        text-align: right;\n",
       "    }\n",
       "</style>\n",
       "<table border=\"1\" class=\"dataframe\">\n",
       "  <thead>\n",
       "    <tr style=\"text-align: right;\">\n",
       "      <th></th>\n",
       "      <th>clust</th>\n",
       "      <th>Premiums Paid</th>\n",
       "      <th>Age</th>\n",
       "      <th>Days to Renew</th>\n",
       "      <th>Claims made</th>\n",
       "      <th>Income</th>\n",
       "    </tr>\n",
       "  </thead>\n",
       "  <tbody>\n",
       "    <tr>\n",
       "      <th>0</th>\n",
       "      <td>3</td>\n",
       "      <td>2800</td>\n",
       "      <td>26</td>\n",
       "      <td>233</td>\n",
       "      <td>3890.076336</td>\n",
       "      <td>28000</td>\n",
       "    </tr>\n",
       "    <tr>\n",
       "      <th>1</th>\n",
       "      <td>2</td>\n",
       "      <td>2950</td>\n",
       "      <td>27</td>\n",
       "      <td>130</td>\n",
       "      <td>2294.444444</td>\n",
       "      <td>29500</td>\n",
       "    </tr>\n",
       "    <tr>\n",
       "      <th>2</th>\n",
       "      <td>2</td>\n",
       "      <td>3100</td>\n",
       "      <td>28</td>\n",
       "      <td>144</td>\n",
       "      <td>2564.545455</td>\n",
       "      <td>31000</td>\n",
       "    </tr>\n",
       "    <tr>\n",
       "      <th>3</th>\n",
       "      <td>2</td>\n",
       "      <td>3250</td>\n",
       "      <td>30</td>\n",
       "      <td>65</td>\n",
       "      <td>1978.260870</td>\n",
       "      <td>32500</td>\n",
       "    </tr>\n",
       "    <tr>\n",
       "      <th>4</th>\n",
       "      <td>2</td>\n",
       "      <td>3400</td>\n",
       "      <td>32</td>\n",
       "      <td>56</td>\n",
       "      <td>2009.090909</td>\n",
       "      <td>34000</td>\n",
       "    </tr>\n",
       "  </tbody>\n",
       "</table>\n",
       "</div>"
      ],
      "text/plain": [
       "   clust  Premiums Paid  Age  Days to Renew  Claims made  Income\n",
       "0      3           2800   26            233  3890.076336   28000\n",
       "1      2           2950   27            130  2294.444444   29500\n",
       "2      2           3100   28            144  2564.545455   31000\n",
       "3      2           3250   30             65  1978.260870   32500\n",
       "4      2           3400   32             56  2009.090909   34000"
      ]
     },
     "execution_count": 17,
     "metadata": {},
     "output_type": "execute_result"
    }
   ],
   "source": [
    "ins = ins.iloc[:,[5,0,1,2,3,4]]\n",
    "ins.head()"
   ]
  },
  {
   "cell_type": "code",
   "execution_count": 18,
   "id": "2d45f153",
   "metadata": {},
   "outputs": [],
   "source": [
    "# We can clearly see that we have the labels in the dataset in the form of a column called \"clust\", symbolizing the clusters"
   ]
  },
  {
   "cell_type": "code",
   "execution_count": 19,
   "id": "ffb0f9c9",
   "metadata": {},
   "outputs": [
    {
     "data": {
      "text/html": [
       "<div>\n",
       "<style scoped>\n",
       "    .dataframe tbody tr th:only-of-type {\n",
       "        vertical-align: middle;\n",
       "    }\n",
       "\n",
       "    .dataframe tbody tr th {\n",
       "        vertical-align: top;\n",
       "    }\n",
       "\n",
       "    .dataframe thead th {\n",
       "        text-align: right;\n",
       "    }\n",
       "</style>\n",
       "<table border=\"1\" class=\"dataframe\">\n",
       "  <thead>\n",
       "    <tr style=\"text-align: right;\">\n",
       "      <th></th>\n",
       "      <th>Premiums Paid</th>\n",
       "      <th>Age</th>\n",
       "      <th>Days to Renew</th>\n",
       "      <th>Claims made</th>\n",
       "      <th>Income</th>\n",
       "    </tr>\n",
       "    <tr>\n",
       "      <th>clust</th>\n",
       "      <th></th>\n",
       "      <th></th>\n",
       "      <th></th>\n",
       "      <th></th>\n",
       "      <th></th>\n",
       "    </tr>\n",
       "  </thead>\n",
       "  <tbody>\n",
       "    <tr>\n",
       "      <th>0</th>\n",
       "      <td>23973.611111</td>\n",
       "      <td>61.944444</td>\n",
       "      <td>164.222222</td>\n",
       "      <td>28517.724814</td>\n",
       "      <td>158083.333333</td>\n",
       "    </tr>\n",
       "    <tr>\n",
       "      <th>1</th>\n",
       "      <td>13441.666667</td>\n",
       "      <td>44.250000</td>\n",
       "      <td>69.527778</td>\n",
       "      <td>8490.919439</td>\n",
       "      <td>121125.000000</td>\n",
       "    </tr>\n",
       "    <tr>\n",
       "      <th>2</th>\n",
       "      <td>5618.750000</td>\n",
       "      <td>37.708333</td>\n",
       "      <td>60.541667</td>\n",
       "      <td>3359.967387</td>\n",
       "      <td>52750.000000</td>\n",
       "    </tr>\n",
       "    <tr>\n",
       "      <th>3</th>\n",
       "      <td>9270.454545</td>\n",
       "      <td>45.363636</td>\n",
       "      <td>233.090909</td>\n",
       "      <td>16284.907860</td>\n",
       "      <td>79681.818182</td>\n",
       "    </tr>\n",
       "  </tbody>\n",
       "</table>\n",
       "</div>"
      ],
      "text/plain": [
       "       Premiums Paid        Age  Days to Renew   Claims made         Income\n",
       "clust                                                                      \n",
       "0       23973.611111  61.944444     164.222222  28517.724814  158083.333333\n",
       "1       13441.666667  44.250000      69.527778   8490.919439  121125.000000\n",
       "2        5618.750000  37.708333      60.541667   3359.967387   52750.000000\n",
       "3        9270.454545  45.363636     233.090909  16284.907860   79681.818182"
      ]
     },
     "execution_count": 19,
     "metadata": {},
     "output_type": "execute_result"
    }
   ],
   "source": [
    "# In order to see the clusters we aggregate the records within the clusters and group them by the clusters to visualize the \n",
    "# 4 nos of clear cluster formed\n",
    "ins.iloc[:, 1:6].groupby(ins.clust).mean()"
   ]
  },
  {
   "cell_type": "markdown",
   "id": "21cc32b1",
   "metadata": {},
   "source": [
    "We can now clearly see the 4 number of clusters formed, which can be described as under\n",
    "\n",
    " 1. Cluster1, \"0\" = Defines the group of People who have high income and pay high premiums with average age of 60\n",
    "                      \n",
    " 2. Cluster2, \"1\" = Defines the group of People who have relative high income and pay high premiums with average age of 44\n",
    "   \n",
    " 3. Cluster4, \"3\" = Defines the group of People who have lesser income and pay medium premiums with average age of 45\n",
    "                      \n",
    " 4. Cluster3, \"2\" = Defines the group of People who have low income and pay lowest premiums with average age of 37"
   ]
  }
 ],
 "metadata": {
  "kernelspec": {
   "display_name": "Python 3",
   "language": "python",
   "name": "python3"
  },
  "language_info": {
   "codemirror_mode": {
    "name": "ipython",
    "version": 3
   },
   "file_extension": ".py",
   "mimetype": "text/x-python",
   "name": "python",
   "nbconvert_exporter": "python",
   "pygments_lexer": "ipython3",
   "version": "3.8.10"
  }
 },
 "nbformat": 4,
 "nbformat_minor": 5
}
