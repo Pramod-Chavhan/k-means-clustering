{
 "cells": [
  {
   "cell_type": "markdown",
   "metadata": {
    "id": "N751yDMq7Uoj"
   },
   "source": [
    "**K-Means CLUSTERING!! - 360DIGITMG**\n",
    "\n",
    "Clustering algorithms are unsupervised machine learning algorithms so there is no label associated with data points. Clustering algorithms look for similarities or dissimilarities among data points so that similar ones can be grouped together.\n",
    "\n",
    "K-means algorithm identifies k number of centroids, and then allocates every data point to the nearest cluster, while keeping the centroids as small as possible. The ‘means’ in the K-means refers to averaging of the data; that is, finding the centroid.\n",
    "\n",
    "To process the learning data, the K-means algorithm in data mining starts with a first group of randomly selected centroids, which are used as the beginning points for every cluster, and then performs iterative (repetitive) calculations to optimize the positions of the centroids\n",
    "\n",
    "It halts creating and optimizing clusters when either:\n",
    "\n",
    "    1. The centroids have stabilized — there is no change in their values because the clustering has been successful.\n",
    "    2. The defined number of iterations has been achieved."
   ]
  },
  {
   "cell_type": "markdown",
   "metadata": {
    "id": "kT_--Y268OQ6"
   },
   "source": [
    "**K-Means Clustering Problem 4:**\n",
    "\n",
    "Perform clustering analysis on the telecom data set. The data is a mixture of both categorical and numerical data. It consists of the number of customers who churn out. Derive insights and get possible information on factors that may affect the churn decision. Refer to Telco_customer_churn.xlsx dataset."
   ]
  },
  {
   "cell_type": "code",
   "execution_count": 1,
   "metadata": {
    "id": "WU_zWzT06b1q"
   },
   "outputs": [],
   "source": [
    "# As a first step towards your solution, we need to understand the data and hence we load the same and the libraries required\n",
    "import pandas as pd               # for Data Manipulation\n",
    "import matplotlib.pyplot as plt   # for Visualization\n",
    "import numpy as np                #for Mathematical calculations\n",
    "import seaborn as sns             #for Advanced visualizations"
   ]
  },
  {
   "cell_type": "code",
   "execution_count": 2,
   "metadata": {
    "colab": {
     "base_uri": "https://localhost:8080/",
     "height": 176,
     "resources": {
      "http://localhost:8080/nbextensions/google.colab/files.js": {
       "data": "Ly8gQ29weXJpZ2h0IDIwMTcgR29vZ2xlIExMQwovLwovLyBMaWNlbnNlZCB1bmRlciB0aGUgQXBhY2hlIExpY2Vuc2UsIFZlcnNpb24gMi4wICh0aGUgIkxpY2Vuc2UiKTsKLy8geW91IG1heSBub3QgdXNlIHRoaXMgZmlsZSBleGNlcHQgaW4gY29tcGxpYW5jZSB3aXRoIHRoZSBMaWNlbnNlLgovLyBZb3UgbWF5IG9idGFpbiBhIGNvcHkgb2YgdGhlIExpY2Vuc2UgYXQKLy8KLy8gICAgICBodHRwOi8vd3d3LmFwYWNoZS5vcmcvbGljZW5zZXMvTElDRU5TRS0yLjAKLy8KLy8gVW5sZXNzIHJlcXVpcmVkIGJ5IGFwcGxpY2FibGUgbGF3IG9yIGFncmVlZCB0byBpbiB3cml0aW5nLCBzb2Z0d2FyZQovLyBkaXN0cmlidXRlZCB1bmRlciB0aGUgTGljZW5zZSBpcyBkaXN0cmlidXRlZCBvbiBhbiAiQVMgSVMiIEJBU0lTLAovLyBXSVRIT1VUIFdBUlJBTlRJRVMgT1IgQ09ORElUSU9OUyBPRiBBTlkgS0lORCwgZWl0aGVyIGV4cHJlc3Mgb3IgaW1wbGllZC4KLy8gU2VlIHRoZSBMaWNlbnNlIGZvciB0aGUgc3BlY2lmaWMgbGFuZ3VhZ2UgZ292ZXJuaW5nIHBlcm1pc3Npb25zIGFuZAovLyBsaW1pdGF0aW9ucyB1bmRlciB0aGUgTGljZW5zZS4KCi8qKgogKiBAZmlsZW92ZXJ2aWV3IEhlbHBlcnMgZm9yIGdvb2dsZS5jb2xhYiBQeXRob24gbW9kdWxlLgogKi8KKGZ1bmN0aW9uKHNjb3BlKSB7CmZ1bmN0aW9uIHNwYW4odGV4dCwgc3R5bGVBdHRyaWJ1dGVzID0ge30pIHsKICBjb25zdCBlbGVtZW50ID0gZG9jdW1lbnQuY3JlYXRlRWxlbWVudCgnc3BhbicpOwogIGVsZW1lbnQudGV4dENvbnRlbnQgPSB0ZXh0OwogIGZvciAoY29uc3Qga2V5IG9mIE9iamVjdC5rZXlzKHN0eWxlQXR0cmlidXRlcykpIHsKICAgIGVsZW1lbnQuc3R5bGVba2V5XSA9IHN0eWxlQXR0cmlidXRlc1trZXldOwogIH0KICByZXR1cm4gZWxlbWVudDsKfQoKLy8gTWF4IG51bWJlciBvZiBieXRlcyB3aGljaCB3aWxsIGJlIHVwbG9hZGVkIGF0IGEgdGltZS4KY29uc3QgTUFYX1BBWUxPQURfU0laRSA9IDEwMCAqIDEwMjQ7CgpmdW5jdGlvbiBfdXBsb2FkRmlsZXMoaW5wdXRJZCwgb3V0cHV0SWQpIHsKICBjb25zdCBzdGVwcyA9IHVwbG9hZEZpbGVzU3RlcChpbnB1dElkLCBvdXRwdXRJZCk7CiAgY29uc3Qgb3V0cHV0RWxlbWVudCA9IGRvY3VtZW50LmdldEVsZW1lbnRCeUlkKG91dHB1dElkKTsKICAvLyBDYWNoZSBzdGVwcyBvbiB0aGUgb3V0cHV0RWxlbWVudCB0byBtYWtlIGl0IGF2YWlsYWJsZSBmb3IgdGhlIG5leHQgY2FsbAogIC8vIHRvIHVwbG9hZEZpbGVzQ29udGludWUgZnJvbSBQeXRob24uCiAgb3V0cHV0RWxlbWVudC5zdGVwcyA9IHN0ZXBzOwoKICByZXR1cm4gX3VwbG9hZEZpbGVzQ29udGludWUob3V0cHV0SWQpOwp9CgovLyBUaGlzIGlzIHJvdWdobHkgYW4gYXN5bmMgZ2VuZXJhdG9yIChub3Qgc3VwcG9ydGVkIGluIHRoZSBicm93c2VyIHlldCksCi8vIHdoZXJlIHRoZXJlIGFyZSBtdWx0aXBsZSBhc3luY2hyb25vdXMgc3RlcHMgYW5kIHRoZSBQeXRob24gc2lkZSBpcyBnb2luZwovLyB0byBwb2xsIGZvciBjb21wbGV0aW9uIG9mIGVhY2ggc3RlcC4KLy8gVGhpcyB1c2VzIGEgUHJvbWlzZSB0byBibG9jayB0aGUgcHl0aG9uIHNpZGUgb24gY29tcGxldGlvbiBvZiBlYWNoIHN0ZXAsCi8vIHRoZW4gcGFzc2VzIHRoZSByZXN1bHQgb2YgdGhlIHByZXZpb3VzIHN0ZXAgYXMgdGhlIGlucHV0IHRvIHRoZSBuZXh0IHN0ZXAuCmZ1bmN0aW9uIF91cGxvYWRGaWxlc0NvbnRpbnVlKG91dHB1dElkKSB7CiAgY29uc3Qgb3V0cHV0RWxlbWVudCA9IGRvY3VtZW50LmdldEVsZW1lbnRCeUlkKG91dHB1dElkKTsKICBjb25zdCBzdGVwcyA9IG91dHB1dEVsZW1lbnQuc3RlcHM7CgogIGNvbnN0IG5leHQgPSBzdGVwcy5uZXh0KG91dHB1dEVsZW1lbnQubGFzdFByb21pc2VWYWx1ZSk7CiAgcmV0dXJuIFByb21pc2UucmVzb2x2ZShuZXh0LnZhbHVlLnByb21pc2UpLnRoZW4oKHZhbHVlKSA9PiB7CiAgICAvLyBDYWNoZSB0aGUgbGFzdCBwcm9taXNlIHZhbHVlIHRvIG1ha2UgaXQgYXZhaWxhYmxlIHRvIHRoZSBuZXh0CiAgICAvLyBzdGVwIG9mIHRoZSBnZW5lcmF0b3IuCiAgICBvdXRwdXRFbGVtZW50Lmxhc3RQcm9taXNlVmFsdWUgPSB2YWx1ZTsKICAgIHJldHVybiBuZXh0LnZhbHVlLnJlc3BvbnNlOwogIH0pOwp9CgovKioKICogR2VuZXJhdG9yIGZ1bmN0aW9uIHdoaWNoIGlzIGNhbGxlZCBiZXR3ZWVuIGVhY2ggYXN5bmMgc3RlcCBvZiB0aGUgdXBsb2FkCiAqIHByb2Nlc3MuCiAqIEBwYXJhbSB7c3RyaW5nfSBpbnB1dElkIEVsZW1lbnQgSUQgb2YgdGhlIGlucHV0IGZpbGUgcGlja2VyIGVsZW1lbnQuCiAqIEBwYXJhbSB7c3RyaW5nfSBvdXRwdXRJZCBFbGVtZW50IElEIG9mIHRoZSBvdXRwdXQgZGlzcGxheS4KICogQHJldHVybiB7IUl0ZXJhYmxlPCFPYmplY3Q+fSBJdGVyYWJsZSBvZiBuZXh0IHN0ZXBzLgogKi8KZnVuY3Rpb24qIHVwbG9hZEZpbGVzU3RlcChpbnB1dElkLCBvdXRwdXRJZCkgewogIGNvbnN0IGlucHV0RWxlbWVudCA9IGRvY3VtZW50LmdldEVsZW1lbnRCeUlkKGlucHV0SWQpOwogIGlucHV0RWxlbWVudC5kaXNhYmxlZCA9IGZhbHNlOwoKICBjb25zdCBvdXRwdXRFbGVtZW50ID0gZG9jdW1lbnQuZ2V0RWxlbWVudEJ5SWQob3V0cHV0SWQpOwogIG91dHB1dEVsZW1lbnQuaW5uZXJIVE1MID0gJyc7CgogIGNvbnN0IHBpY2tlZFByb21pc2UgPSBuZXcgUHJvbWlzZSgocmVzb2x2ZSkgPT4gewogICAgaW5wdXRFbGVtZW50LmFkZEV2ZW50TGlzdGVuZXIoJ2NoYW5nZScsIChlKSA9PiB7CiAgICAgIHJlc29sdmUoZS50YXJnZXQuZmlsZXMpOwogICAgfSk7CiAgfSk7CgogIGNvbnN0IGNhbmNlbCA9IGRvY3VtZW50LmNyZWF0ZUVsZW1lbnQoJ2J1dHRvbicpOwogIGlucHV0RWxlbWVudC5wYXJlbnRFbGVtZW50LmFwcGVuZENoaWxkKGNhbmNlbCk7CiAgY2FuY2VsLnRleHRDb250ZW50ID0gJ0NhbmNlbCB1cGxvYWQnOwogIGNvbnN0IGNhbmNlbFByb21pc2UgPSBuZXcgUHJvbWlzZSgocmVzb2x2ZSkgPT4gewogICAgY2FuY2VsLm9uY2xpY2sgPSAoKSA9PiB7CiAgICAgIHJlc29sdmUobnVsbCk7CiAgICB9OwogIH0pOwoKICAvLyBXYWl0IGZvciB0aGUgdXNlciB0byBwaWNrIHRoZSBmaWxlcy4KICBjb25zdCBmaWxlcyA9IHlpZWxkIHsKICAgIHByb21pc2U6IFByb21pc2UucmFjZShbcGlja2VkUHJvbWlzZSwgY2FuY2VsUHJvbWlzZV0pLAogICAgcmVzcG9uc2U6IHsKICAgICAgYWN0aW9uOiAnc3RhcnRpbmcnLAogICAgfQogIH07CgogIGNhbmNlbC5yZW1vdmUoKTsKCiAgLy8gRGlzYWJsZSB0aGUgaW5wdXQgZWxlbWVudCBzaW5jZSBmdXJ0aGVyIHBpY2tzIGFyZSBub3QgYWxsb3dlZC4KICBpbnB1dEVsZW1lbnQuZGlzYWJsZWQgPSB0cnVlOwoKICBpZiAoIWZpbGVzKSB7CiAgICByZXR1cm4gewogICAgICByZXNwb25zZTogewogICAgICAgIGFjdGlvbjogJ2NvbXBsZXRlJywKICAgICAgfQogICAgfTsKICB9CgogIGZvciAoY29uc3QgZmlsZSBvZiBmaWxlcykgewogICAgY29uc3QgbGkgPSBkb2N1bWVudC5jcmVhdGVFbGVtZW50KCdsaScpOwogICAgbGkuYXBwZW5kKHNwYW4oZmlsZS5uYW1lLCB7Zm9udFdlaWdodDogJ2JvbGQnfSkpOwogICAgbGkuYXBwZW5kKHNwYW4oCiAgICAgICAgYCgke2ZpbGUudHlwZSB8fCAnbi9hJ30pIC0gJHtmaWxlLnNpemV9IGJ5dGVzLCBgICsKICAgICAgICBgbGFzdCBtb2RpZmllZDogJHsKICAgICAgICAgICAgZmlsZS5sYXN0TW9kaWZpZWREYXRlID8gZmlsZS5sYXN0TW9kaWZpZWREYXRlLnRvTG9jYWxlRGF0ZVN0cmluZygpIDoKICAgICAgICAgICAgICAgICAgICAgICAgICAgICAgICAgICAgJ24vYSd9IC0gYCkpOwogICAgY29uc3QgcGVyY2VudCA9IHNwYW4oJzAlIGRvbmUnKTsKICAgIGxpLmFwcGVuZENoaWxkKHBlcmNlbnQpOwoKICAgIG91dHB1dEVsZW1lbnQuYXBwZW5kQ2hpbGQobGkpOwoKICAgIGNvbnN0IGZpbGVEYXRhUHJvbWlzZSA9IG5ldyBQcm9taXNlKChyZXNvbHZlKSA9PiB7CiAgICAgIGNvbnN0IHJlYWRlciA9IG5ldyBGaWxlUmVhZGVyKCk7CiAgICAgIHJlYWRlci5vbmxvYWQgPSAoZSkgPT4gewogICAgICAgIHJlc29sdmUoZS50YXJnZXQucmVzdWx0KTsKICAgICAgfTsKICAgICAgcmVhZGVyLnJlYWRBc0FycmF5QnVmZmVyKGZpbGUpOwogICAgfSk7CiAgICAvLyBXYWl0IGZvciB0aGUgZGF0YSB0byBiZSByZWFkeS4KICAgIGxldCBmaWxlRGF0YSA9IHlpZWxkIHsKICAgICAgcHJvbWlzZTogZmlsZURhdGFQcm9taXNlLAogICAgICByZXNwb25zZTogewogICAgICAgIGFjdGlvbjogJ2NvbnRpbnVlJywKICAgICAgfQogICAgfTsKCiAgICAvLyBVc2UgYSBjaHVua2VkIHNlbmRpbmcgdG8gYXZvaWQgbWVzc2FnZSBzaXplIGxpbWl0cy4gU2VlIGIvNjIxMTU2NjAuCiAgICBsZXQgcG9zaXRpb24gPSAwOwogICAgZG8gewogICAgICBjb25zdCBsZW5ndGggPSBNYXRoLm1pbihmaWxlRGF0YS5ieXRlTGVuZ3RoIC0gcG9zaXRpb24sIE1BWF9QQVlMT0FEX1NJWkUpOwogICAgICBjb25zdCBjaHVuayA9IG5ldyBVaW50OEFycmF5KGZpbGVEYXRhLCBwb3NpdGlvbiwgbGVuZ3RoKTsKICAgICAgcG9zaXRpb24gKz0gbGVuZ3RoOwoKICAgICAgY29uc3QgYmFzZTY0ID0gYnRvYShTdHJpbmcuZnJvbUNoYXJDb2RlLmFwcGx5KG51bGwsIGNodW5rKSk7CiAgICAgIHlpZWxkIHsKICAgICAgICByZXNwb25zZTogewogICAgICAgICAgYWN0aW9uOiAnYXBwZW5kJywKICAgICAgICAgIGZpbGU6IGZpbGUubmFtZSwKICAgICAgICAgIGRhdGE6IGJhc2U2NCwKICAgICAgICB9LAogICAgICB9OwoKICAgICAgbGV0IHBlcmNlbnREb25lID0gZmlsZURhdGEuYnl0ZUxlbmd0aCA9PT0gMCA/CiAgICAgICAgICAxMDAgOgogICAgICAgICAgTWF0aC5yb3VuZCgocG9zaXRpb24gLyBmaWxlRGF0YS5ieXRlTGVuZ3RoKSAqIDEwMCk7CiAgICAgIHBlcmNlbnQudGV4dENvbnRlbnQgPSBgJHtwZXJjZW50RG9uZX0lIGRvbmVgOwoKICAgIH0gd2hpbGUgKHBvc2l0aW9uIDwgZmlsZURhdGEuYnl0ZUxlbmd0aCk7CiAgfQoKICAvLyBBbGwgZG9uZS4KICB5aWVsZCB7CiAgICByZXNwb25zZTogewogICAgICBhY3Rpb246ICdjb21wbGV0ZScsCiAgICB9CiAgfTsKfQoKc2NvcGUuZ29vZ2xlID0gc2NvcGUuZ29vZ2xlIHx8IHt9OwpzY29wZS5nb29nbGUuY29sYWIgPSBzY29wZS5nb29nbGUuY29sYWIgfHwge307CnNjb3BlLmdvb2dsZS5jb2xhYi5fZmlsZXMgPSB7CiAgX3VwbG9hZEZpbGVzLAogIF91cGxvYWRGaWxlc0NvbnRpbnVlLAp9Owp9KShzZWxmKTsK",
       "headers": [
        [
         "content-type",
         "application/javascript"
        ]
       ],
       "ok": true,
       "status": 200,
       "status_text": ""
      }
     }
    },
    "id": "REQgdX3O7RO-",
    "outputId": "05b97e74-3a18-4d1c-ce30-9a150bb20c38"
   },
   "outputs": [],
   "source": [
    "tele = pd.read_excel(\"Telco_customer_churn.xlsx\")"
   ]
  },
  {
   "cell_type": "code",
   "execution_count": 3,
   "metadata": {
    "colab": {
     "base_uri": "https://localhost:8080/"
    },
    "id": "LB_WZ_jU_77x",
    "outputId": "e163f2ad-3554-43ff-ed8a-9539e0b2f1ea"
   },
   "outputs": [
    {
     "name": "stdout",
     "output_type": "stream",
     "text": [
      "<class 'pandas.core.frame.DataFrame'>\n",
      "RangeIndex: 7043 entries, 0 to 7042\n",
      "Data columns (total 30 columns):\n",
      " #   Column                             Non-Null Count  Dtype  \n",
      "---  ------                             --------------  -----  \n",
      " 0   Customer ID                        7043 non-null   object \n",
      " 1   Count                              7043 non-null   int64  \n",
      " 2   Quarter                            7043 non-null   object \n",
      " 3   Referred a Friend                  7043 non-null   object \n",
      " 4   Number of Referrals                7043 non-null   int64  \n",
      " 5   Tenure in Months                   7043 non-null   int64  \n",
      " 6   Offer                              7043 non-null   object \n",
      " 7   Phone Service                      7043 non-null   object \n",
      " 8   Avg Monthly Long Distance Charges  7043 non-null   float64\n",
      " 9   Multiple Lines                     7043 non-null   object \n",
      " 10  Internet Service                   7043 non-null   object \n",
      " 11  Internet Type                      7043 non-null   object \n",
      " 12  Avg Monthly GB Download            7043 non-null   int64  \n",
      " 13  Online Security                    7043 non-null   object \n",
      " 14  Online Backup                      7043 non-null   object \n",
      " 15  Device Protection Plan             7043 non-null   object \n",
      " 16  Premium Tech Support               7043 non-null   object \n",
      " 17  Streaming TV                       7043 non-null   object \n",
      " 18  Streaming Movies                   7043 non-null   object \n",
      " 19  Streaming Music                    7043 non-null   object \n",
      " 20  Unlimited Data                     7043 non-null   object \n",
      " 21  Contract                           7043 non-null   object \n",
      " 22  Paperless Billing                  7043 non-null   object \n",
      " 23  Payment Method                     7043 non-null   object \n",
      " 24  Monthly Charge                     7043 non-null   float64\n",
      " 25  Total Charges                      7043 non-null   float64\n",
      " 26  Total Refunds                      7043 non-null   float64\n",
      " 27  Total Extra Data Charges           7043 non-null   int64  \n",
      " 28  Total Long Distance Charges        7043 non-null   float64\n",
      " 29  Total Revenue                      7043 non-null   float64\n",
      "dtypes: float64(6), int64(5), object(19)\n",
      "memory usage: 1.6+ MB\n"
     ]
    }
   ],
   "source": [
    "tele.info()"
   ]
  },
  {
   "cell_type": "code",
   "execution_count": 4,
   "metadata": {
    "colab": {
     "base_uri": "https://localhost:8080/"
    },
    "id": "xh41mvwFA_rI",
    "outputId": "4ee13d71-77d4-42c2-dcc3-0ba1fbdaac42"
   },
   "outputs": [
    {
     "data": {
      "text/plain": [
       "Customer ID                          0\n",
       "Count                                0\n",
       "Quarter                              0\n",
       "Referred a Friend                    0\n",
       "Number of Referrals                  0\n",
       "Tenure in Months                     0\n",
       "Offer                                0\n",
       "Phone Service                        0\n",
       "Avg Monthly Long Distance Charges    0\n",
       "Multiple Lines                       0\n",
       "Internet Service                     0\n",
       "Internet Type                        0\n",
       "Avg Monthly GB Download              0\n",
       "Online Security                      0\n",
       "Online Backup                        0\n",
       "Device Protection Plan               0\n",
       "Premium Tech Support                 0\n",
       "Streaming TV                         0\n",
       "Streaming Movies                     0\n",
       "Streaming Music                      0\n",
       "Unlimited Data                       0\n",
       "Contract                             0\n",
       "Paperless Billing                    0\n",
       "Payment Method                       0\n",
       "Monthly Charge                       0\n",
       "Total Charges                        0\n",
       "Total Refunds                        0\n",
       "Total Extra Data Charges             0\n",
       "Total Long Distance Charges          0\n",
       "Total Revenue                        0\n",
       "dtype: int64"
      ]
     },
     "execution_count": 4,
     "metadata": {},
     "output_type": "execute_result"
    }
   ],
   "source": [
    "# As a part of the Data cleansing we check the data for any missing/ na values\n",
    "tele.isna().sum()"
   ]
  },
  {
   "cell_type": "code",
   "execution_count": 5,
   "metadata": {
    "colab": {
     "base_uri": "https://localhost:8080/"
    },
    "id": "EIhdnEF8BNXP",
    "outputId": "f9fbd245-bad4-41ce-a38f-7e4fcf7ab319"
   },
   "outputs": [
    {
     "data": {
      "text/plain": [
       "0"
      ]
     },
     "execution_count": 5,
     "metadata": {},
     "output_type": "execute_result"
    }
   ],
   "source": [
    "# Additionally we check the data for any duplicate values, now this can be an optional check depending on the data being used\n",
    "tele1 = tele.duplicated()\n",
    "sum(tele1)"
   ]
  },
  {
   "cell_type": "markdown",
   "metadata": {
    "id": "7v8kxdSaElH6"
   },
   "source": [
    "Looking at the data we note that we have most of the data in the form of category which needs to be changed to work on. \n",
    "\n",
    "Hence we do label encoding for the features to encode the labesl within the features"
   ]
  },
  {
   "cell_type": "code",
   "execution_count": 6,
   "metadata": {
    "id": "jJfRT9bGCuje"
   },
   "outputs": [],
   "source": [
    "# Now we import the label encoder function from scikit learn\n",
    "from sklearn.preprocessing import LabelEncoder\n",
    "\n",
    "#creating instance of labelencoder\n",
    "labelencoder=LabelEncoder()\n",
    "\n",
    "x = tele.iloc[:, [3,6,7,9,10,11,13,14,15,16,17,18,19,20,21,22,23]]   # moving columns neede for encoding into x\n",
    "x.isna().sum()       \n",
    "y = tele.iloc[:, [0,1,2,4,5,8,12,24,25,26,27,28,29]]     # moving columns which are not needed for encoding into y\n"
   ]
  },
  {
   "cell_type": "code",
   "execution_count": 7,
   "metadata": {
    "colab": {
     "base_uri": "https://localhost:8080/"
    },
    "id": "KDbo1LrAFDEn",
    "outputId": "ad153149-3472-49fb-d058-3b47416e415c"
   },
   "outputs": [
    {
     "name": "stderr",
     "output_type": "stream",
     "text": [
      "<ipython-input-7-6c4051583d0c>:4: SettingWithCopyWarning: \n",
      "A value is trying to be set on a copy of a slice from a DataFrame.\n",
      "Try using .loc[row_indexer,col_indexer] = value instead\n",
      "\n",
      "See the caveats in the documentation: https://pandas.pydata.org/pandas-docs/stable/user_guide/indexing.html#returning-a-view-versus-a-copy\n",
      "  x['Referred a Friend']=labelencoder.fit_transform(x['Referred a Friend'])\n",
      "<ipython-input-7-6c4051583d0c>:5: SettingWithCopyWarning: \n",
      "A value is trying to be set on a copy of a slice from a DataFrame.\n",
      "Try using .loc[row_indexer,col_indexer] = value instead\n",
      "\n",
      "See the caveats in the documentation: https://pandas.pydata.org/pandas-docs/stable/user_guide/indexing.html#returning-a-view-versus-a-copy\n",
      "  x['Offer']=labelencoder.fit_transform(x['Offer'])\n",
      "<ipython-input-7-6c4051583d0c>:6: SettingWithCopyWarning: \n",
      "A value is trying to be set on a copy of a slice from a DataFrame.\n",
      "Try using .loc[row_indexer,col_indexer] = value instead\n",
      "\n",
      "See the caveats in the documentation: https://pandas.pydata.org/pandas-docs/stable/user_guide/indexing.html#returning-a-view-versus-a-copy\n",
      "  x['Phone Service']=labelencoder.fit_transform(x['Phone Service'])\n",
      "<ipython-input-7-6c4051583d0c>:7: SettingWithCopyWarning: \n",
      "A value is trying to be set on a copy of a slice from a DataFrame.\n",
      "Try using .loc[row_indexer,col_indexer] = value instead\n",
      "\n",
      "See the caveats in the documentation: https://pandas.pydata.org/pandas-docs/stable/user_guide/indexing.html#returning-a-view-versus-a-copy\n",
      "  x['Multiple Lines']=labelencoder.fit_transform(x['Multiple Lines'])\n",
      "<ipython-input-7-6c4051583d0c>:8: SettingWithCopyWarning: \n",
      "A value is trying to be set on a copy of a slice from a DataFrame.\n",
      "Try using .loc[row_indexer,col_indexer] = value instead\n",
      "\n",
      "See the caveats in the documentation: https://pandas.pydata.org/pandas-docs/stable/user_guide/indexing.html#returning-a-view-versus-a-copy\n",
      "  x['Internet Service']=labelencoder.fit_transform(x['Internet Service'])\n",
      "<ipython-input-7-6c4051583d0c>:9: SettingWithCopyWarning: \n",
      "A value is trying to be set on a copy of a slice from a DataFrame.\n",
      "Try using .loc[row_indexer,col_indexer] = value instead\n",
      "\n",
      "See the caveats in the documentation: https://pandas.pydata.org/pandas-docs/stable/user_guide/indexing.html#returning-a-view-versus-a-copy\n",
      "  x['Internet Type']=labelencoder.fit_transform(x['Internet Type'])\n",
      "<ipython-input-7-6c4051583d0c>:10: SettingWithCopyWarning: \n",
      "A value is trying to be set on a copy of a slice from a DataFrame.\n",
      "Try using .loc[row_indexer,col_indexer] = value instead\n",
      "\n",
      "See the caveats in the documentation: https://pandas.pydata.org/pandas-docs/stable/user_guide/indexing.html#returning-a-view-versus-a-copy\n",
      "  x['Online Backup']=labelencoder.fit_transform(x['Online Backup'])\n",
      "<ipython-input-7-6c4051583d0c>:11: SettingWithCopyWarning: \n",
      "A value is trying to be set on a copy of a slice from a DataFrame.\n",
      "Try using .loc[row_indexer,col_indexer] = value instead\n",
      "\n",
      "See the caveats in the documentation: https://pandas.pydata.org/pandas-docs/stable/user_guide/indexing.html#returning-a-view-versus-a-copy\n",
      "  x['Online Security']=labelencoder.fit_transform(x['Online Security'])\n",
      "<ipython-input-7-6c4051583d0c>:12: SettingWithCopyWarning: \n",
      "A value is trying to be set on a copy of a slice from a DataFrame.\n",
      "Try using .loc[row_indexer,col_indexer] = value instead\n",
      "\n",
      "See the caveats in the documentation: https://pandas.pydata.org/pandas-docs/stable/user_guide/indexing.html#returning-a-view-versus-a-copy\n",
      "  x['Device Protection Plan']=labelencoder.fit_transform(x['Device Protection Plan'])\n",
      "<ipython-input-7-6c4051583d0c>:13: SettingWithCopyWarning: \n",
      "A value is trying to be set on a copy of a slice from a DataFrame.\n",
      "Try using .loc[row_indexer,col_indexer] = value instead\n",
      "\n",
      "See the caveats in the documentation: https://pandas.pydata.org/pandas-docs/stable/user_guide/indexing.html#returning-a-view-versus-a-copy\n",
      "  x['Premium Tech Support']=labelencoder.fit_transform(x['Premium Tech Support'])\n",
      "<ipython-input-7-6c4051583d0c>:14: SettingWithCopyWarning: \n",
      "A value is trying to be set on a copy of a slice from a DataFrame.\n",
      "Try using .loc[row_indexer,col_indexer] = value instead\n",
      "\n",
      "See the caveats in the documentation: https://pandas.pydata.org/pandas-docs/stable/user_guide/indexing.html#returning-a-view-versus-a-copy\n",
      "  x['Streaming TV']=labelencoder.fit_transform(x['Streaming TV'])\n",
      "<ipython-input-7-6c4051583d0c>:15: SettingWithCopyWarning: \n",
      "A value is trying to be set on a copy of a slice from a DataFrame.\n",
      "Try using .loc[row_indexer,col_indexer] = value instead\n",
      "\n",
      "See the caveats in the documentation: https://pandas.pydata.org/pandas-docs/stable/user_guide/indexing.html#returning-a-view-versus-a-copy\n",
      "  x['Streaming Movies']=labelencoder.fit_transform(x['Streaming Movies'])\n",
      "<ipython-input-7-6c4051583d0c>:16: SettingWithCopyWarning: \n",
      "A value is trying to be set on a copy of a slice from a DataFrame.\n",
      "Try using .loc[row_indexer,col_indexer] = value instead\n",
      "\n",
      "See the caveats in the documentation: https://pandas.pydata.org/pandas-docs/stable/user_guide/indexing.html#returning-a-view-versus-a-copy\n",
      "  x['Streaming Music']=labelencoder.fit_transform(x['Streaming Music'])\n",
      "<ipython-input-7-6c4051583d0c>:17: SettingWithCopyWarning: \n",
      "A value is trying to be set on a copy of a slice from a DataFrame.\n",
      "Try using .loc[row_indexer,col_indexer] = value instead\n",
      "\n",
      "See the caveats in the documentation: https://pandas.pydata.org/pandas-docs/stable/user_guide/indexing.html#returning-a-view-versus-a-copy\n",
      "  x['Unlimited Data']=labelencoder.fit_transform(x['Unlimited Data'])\n",
      "<ipython-input-7-6c4051583d0c>:18: SettingWithCopyWarning: \n",
      "A value is trying to be set on a copy of a slice from a DataFrame.\n",
      "Try using .loc[row_indexer,col_indexer] = value instead\n",
      "\n",
      "See the caveats in the documentation: https://pandas.pydata.org/pandas-docs/stable/user_guide/indexing.html#returning-a-view-versus-a-copy\n",
      "  x['Contract']=labelencoder.fit_transform(x['Contract'])\n",
      "<ipython-input-7-6c4051583d0c>:19: SettingWithCopyWarning: \n",
      "A value is trying to be set on a copy of a slice from a DataFrame.\n",
      "Try using .loc[row_indexer,col_indexer] = value instead\n",
      "\n",
      "See the caveats in the documentation: https://pandas.pydata.org/pandas-docs/stable/user_guide/indexing.html#returning-a-view-versus-a-copy\n",
      "  x['Paperless Billing']=labelencoder.fit_transform(x['Paperless Billing'])\n",
      "<ipython-input-7-6c4051583d0c>:20: SettingWithCopyWarning: \n",
      "A value is trying to be set on a copy of a slice from a DataFrame.\n",
      "Try using .loc[row_indexer,col_indexer] = value instead\n",
      "\n",
      "See the caveats in the documentation: https://pandas.pydata.org/pandas-docs/stable/user_guide/indexing.html#returning-a-view-versus-a-copy\n",
      "  x['Payment Method']=labelencoder.fit_transform(x['Payment Method'])\n"
     ]
    }
   ],
   "source": [
    "# We start creating labels for the categorical features for the ease of working on the data,\n",
    "# in other words easier for the system or program to understand and interpret\n",
    "\n",
    "x['Referred a Friend']=labelencoder.fit_transform(x['Referred a Friend'])\n",
    "x['Offer']=labelencoder.fit_transform(x['Offer'])\n",
    "x['Phone Service']=labelencoder.fit_transform(x['Phone Service'])\n",
    "x['Multiple Lines']=labelencoder.fit_transform(x['Multiple Lines'])\n",
    "x['Internet Service']=labelencoder.fit_transform(x['Internet Service'])\n",
    "x['Internet Type']=labelencoder.fit_transform(x['Internet Type'])\n",
    "x['Online Backup']=labelencoder.fit_transform(x['Online Backup'])\n",
    "x['Online Security']=labelencoder.fit_transform(x['Online Security'])\n",
    "x['Device Protection Plan']=labelencoder.fit_transform(x['Device Protection Plan'])\n",
    "x['Premium Tech Support']=labelencoder.fit_transform(x['Premium Tech Support'])\n",
    "x['Streaming TV']=labelencoder.fit_transform(x['Streaming TV'])\n",
    "x['Streaming Movies']=labelencoder.fit_transform(x['Streaming Movies'])\n",
    "x['Streaming Music']=labelencoder.fit_transform(x['Streaming Music'])\n",
    "x['Unlimited Data']=labelencoder.fit_transform(x['Unlimited Data'])\n",
    "x['Contract']=labelencoder.fit_transform(x['Contract'])\n",
    "x['Paperless Billing']=labelencoder.fit_transform(x['Paperless Billing'])\n",
    "x['Payment Method']=labelencoder.fit_transform(x['Payment Method'])"
   ]
  },
  {
   "cell_type": "code",
   "execution_count": 8,
   "metadata": {
    "id": "0d5pHHcyFb2f"
   },
   "outputs": [],
   "source": [
    "# label encode y ##\n",
    "y = pd.DataFrame(y)"
   ]
  },
  {
   "cell_type": "code",
   "execution_count": 9,
   "metadata": {
    "colab": {
     "base_uri": "https://localhost:8080/"
    },
    "id": "sbpYoMQGFmK_",
    "outputId": "085ab4b5-3cef-445e-91e0-c2a78cf2b1f2"
   },
   "outputs": [
    {
     "name": "stdout",
     "output_type": "stream",
     "text": [
      "<class 'pandas.core.frame.DataFrame'>\n",
      "RangeIndex: 7043 entries, 0 to 7042\n",
      "Data columns (total 30 columns):\n",
      " #   Column                             Non-Null Count  Dtype  \n",
      "---  ------                             --------------  -----  \n",
      " 0   Referred a Friend                  7043 non-null   int32  \n",
      " 1   Offer                              7043 non-null   int32  \n",
      " 2   Phone Service                      7043 non-null   int32  \n",
      " 3   Multiple Lines                     7043 non-null   int32  \n",
      " 4   Internet Service                   7043 non-null   int32  \n",
      " 5   Internet Type                      7043 non-null   int32  \n",
      " 6   Online Security                    7043 non-null   int32  \n",
      " 7   Online Backup                      7043 non-null   int32  \n",
      " 8   Device Protection Plan             7043 non-null   int32  \n",
      " 9   Premium Tech Support               7043 non-null   int32  \n",
      " 10  Streaming TV                       7043 non-null   int32  \n",
      " 11  Streaming Movies                   7043 non-null   int32  \n",
      " 12  Streaming Music                    7043 non-null   int32  \n",
      " 13  Unlimited Data                     7043 non-null   int32  \n",
      " 14  Contract                           7043 non-null   int32  \n",
      " 15  Paperless Billing                  7043 non-null   int32  \n",
      " 16  Payment Method                     7043 non-null   int32  \n",
      " 17  Customer ID                        7043 non-null   object \n",
      " 18  Count                              7043 non-null   int64  \n",
      " 19  Quarter                            7043 non-null   object \n",
      " 20  Number of Referrals                7043 non-null   int64  \n",
      " 21  Tenure in Months                   7043 non-null   int64  \n",
      " 22  Avg Monthly Long Distance Charges  7043 non-null   float64\n",
      " 23  Avg Monthly GB Download            7043 non-null   int64  \n",
      " 24  Monthly Charge                     7043 non-null   float64\n",
      " 25  Total Charges                      7043 non-null   float64\n",
      " 26  Total Refunds                      7043 non-null   float64\n",
      " 27  Total Extra Data Charges           7043 non-null   int64  \n",
      " 28  Total Long Distance Charges        7043 non-null   float64\n",
      " 29  Total Revenue                      7043 non-null   float64\n",
      "dtypes: float64(6), int32(17), int64(5), object(2)\n",
      "memory usage: 1.2+ MB\n"
     ]
    }
   ],
   "source": [
    "# concatenate x and y\n",
    "tele_new=pd.concat([x,y],axis=1)\n",
    "tele_new.columns\n",
    "tele_new.isna().sum()\n",
    "tele_new.describe()\n",
    "tele_new.info()"
   ]
  },
  {
   "cell_type": "markdown",
   "metadata": {
    "id": "agZLkChtM5hx"
   },
   "source": [
    "The data is bound to have outliers, but depending on the data we know that not all outliers are to be treated. The data given might require the data for proper interpretation and hence we don't treat the outliers here."
   ]
  },
  {
   "cell_type": "markdown",
   "metadata": {
    "id": "d7wxKjSHK2_O"
   },
   "source": [
    "**Univariate and Bivariate analysis**"
   ]
  },
  {
   "cell_type": "code",
   "execution_count": 10,
   "metadata": {
    "colab": {
     "base_uri": "https://localhost:8080/",
     "height": 340
    },
    "id": "_gRA6M76GQqG",
    "outputId": "72d2a9ab-399d-409c-eb06-9e2b357c7008"
   },
   "outputs": [
    {
     "data": {
      "text/plain": [
       "(array([3821.,    0.,    0.,    0.,    0.,    0.,    0.,    0.,    0.,\n",
       "        3222.]),\n",
       " array([0. , 0.1, 0.2, 0.3, 0.4, 0.5, 0.6, 0.7, 0.8, 0.9, 1. ]),\n",
       " <BarContainer object of 10 artists>)"
      ]
     },
     "execution_count": 10,
     "metadata": {},
     "output_type": "execute_result"
    },
    {
     "data": {
      "image/png": "[encoded data removed]",
      "text/plain": [
       "<Figure size 432x288 with 1 Axes>"
      ]
     },
     "metadata": {
      "needs_background": "light"
     },
     "output_type": "display_data"
    }
   ],
   "source": [
    "# Univariate and Bivariate analysis on the dataset\n",
    "plt.hist(tele[\"Referred a Friend\"])   #Univariate"
   ]
  },
  {
   "cell_type": "code",
   "execution_count": 11,
   "metadata": {
    "colab": {
     "base_uri": "https://localhost:8080/",
     "height": 336
    },
    "id": "jYGq1JRMGkhT",
    "outputId": "80be1ec5-aca8-4b2f-c630-0c9f7f0c68fb"
   },
   "outputs": [
    {
     "data": {
      "text/plain": [
       "(array([3877.,    0.,  805.,    0.,  602.,    0.,  415.,    0.,  824.,\n",
       "         520.]),\n",
       " array([0. , 0.5, 1. , 1.5, 2. , 2.5, 3. , 3.5, 4. , 4.5, 5. ]),\n",
       " <BarContainer object of 10 artists>)"
      ]
     },
     "execution_count": 11,
     "metadata": {},
     "output_type": "execute_result"
    },
    {
     "data": {
      "image/png": "[encoded data removed]",
      "text/plain": [
       "<Figure size 432x288 with 1 Axes>"
      ]
     },
     "metadata": {
      "needs_background": "light"
     },
     "output_type": "display_data"
    }
   ],
   "source": [
    "plt.hist(tele[\"Offer\"])"
   ]
  },
  {
   "cell_type": "code",
   "execution_count": 12,
   "metadata": {
    "colab": {
     "base_uri": "https://localhost:8080/",
     "height": 335
    },
    "id": "KgFjLUOZGmXL",
    "outputId": "8b6737e1-cc0d-4bc1-c3ce-616bf3a55fd4"
   },
   "outputs": [
    {
     "data": {
      "text/plain": [
       "(array([ 682.,    0.,    0.,    0.,    0.,    0.,    0.,    0.,    0.,\n",
       "        6361.]),\n",
       " array([0. , 0.1, 0.2, 0.3, 0.4, 0.5, 0.6, 0.7, 0.8, 0.9, 1. ]),\n",
       " <BarContainer object of 10 artists>)"
      ]
     },
     "execution_count": 12,
     "metadata": {},
     "output_type": "execute_result"
    },
    {
     "data": {
      "image/png": "[encoded data removed]",
      "text/plain": [
       "<Figure size 432x288 with 1 Axes>"
      ]
     },
     "metadata": {
      "needs_background": "light"
     },
     "output_type": "display_data"
    }
   ],
   "source": [
    "plt.hist(tele[\"Phone Service\"])"
   ]
  },
  {
   "cell_type": "code",
   "execution_count": 13,
   "metadata": {
    "colab": {
     "base_uri": "https://localhost:8080/",
     "height": 335
    },
    "id": "25oRwdF0GoVm",
    "outputId": "32729d53-46c8-4ed0-dada-5dd9f5c55bff"
   },
   "outputs": [
    {
     "data": {
      "text/plain": [
       "(array([4072.,    0.,    0.,    0.,    0.,    0.,    0.,    0.,    0.,\n",
       "        2971.]),\n",
       " array([0. , 0.1, 0.2, 0.3, 0.4, 0.5, 0.6, 0.7, 0.8, 0.9, 1. ]),\n",
       " <BarContainer object of 10 artists>)"
      ]
     },
     "execution_count": 13,
     "metadata": {},
     "output_type": "execute_result"
    },
    {
     "data": {
      "image/png": "[encoded data removed]",
      "text/plain": [
       "<Figure size 432x288 with 1 Axes>"
      ]
     },
     "metadata": {
      "needs_background": "light"
     },
     "output_type": "display_data"
    }
   ],
   "source": [
    "plt.hist(tele[\"Multiple Lines\"])"
   ]
  },
  {
   "cell_type": "code",
   "execution_count": 14,
   "metadata": {
    "colab": {
     "base_uri": "https://localhost:8080/",
     "height": 335
    },
    "id": "USuCXpO_GrJN",
    "outputId": "e70e9ff8-7127-44ca-96ed-90bc104ede0f"
   },
   "outputs": [
    {
     "data": {
      "text/plain": [
       "(array([5517.,    0.,    0.,    0.,    0.,    0.,    0.,    0.,    0.,\n",
       "        1526.]),\n",
       " array([0. , 0.1, 0.2, 0.3, 0.4, 0.5, 0.6, 0.7, 0.8, 0.9, 1. ]),\n",
       " <BarContainer object of 10 artists>)"
      ]
     },
     "execution_count": 14,
     "metadata": {},
     "output_type": "execute_result"
    },
    {
     "data": {
      "image/png": "[encoded data removed]",
      "text/plain": [
       "<Figure size 432x288 with 1 Axes>"
      ]
     },
     "metadata": {
      "needs_background": "light"
     },
     "output_type": "display_data"
    }
   ],
   "source": [
    "plt.hist(tele[\"Internet Service\"])"
   ]
  },
  {
   "cell_type": "code",
   "execution_count": 15,
   "metadata": {
    "colab": {
     "base_uri": "https://localhost:8080/",
     "height": 335
    },
    "id": "erRzJJnHGrHD",
    "outputId": "a20299c9-5882-4ed3-db59-34d137af47df"
   },
   "outputs": [
    {
     "data": {
      "text/plain": [
       "(array([1652.,    0.,    0., 3035.,    0.,    0.,  830.,    0.,    0.,\n",
       "        1526.]),\n",
       " array([0. , 0.3, 0.6, 0.9, 1.2, 1.5, 1.8, 2.1, 2.4, 2.7, 3. ]),\n",
       " <BarContainer object of 10 artists>)"
      ]
     },
     "execution_count": 15,
     "metadata": {},
     "output_type": "execute_result"
    },
    {
     "data": {
      "image/png": "[encoded data removed]",
      "text/plain": [
       "<Figure size 432x288 with 1 Axes>"
      ]
     },
     "metadata": {
      "needs_background": "light"
     },
     "output_type": "display_data"
    }
   ],
   "source": [
    "plt.hist(tele[\"Internet Type\"])"
   ]
  },
  {
   "cell_type": "code",
   "execution_count": 16,
   "metadata": {
    "colab": {
     "base_uri": "https://localhost:8080/",
     "height": 335
    },
    "id": "E6m_gjHCGrD0",
    "outputId": "ae14a36a-6022-4234-97b8-e341f91ee4f9"
   },
   "outputs": [
    {
     "data": {
      "text/plain": [
       "(array([5024.,    0.,    0.,    0.,    0.,    0.,    0.,    0.,    0.,\n",
       "        2019.]),\n",
       " array([0. , 0.1, 0.2, 0.3, 0.4, 0.5, 0.6, 0.7, 0.8, 0.9, 1. ]),\n",
       " <BarContainer object of 10 artists>)"
      ]
     },
     "execution_count": 16,
     "metadata": {},
     "output_type": "execute_result"
    },
    {
     "data": {
      "image/png": "[encoded data removed]",
      "text/plain": [
       "<Figure size 432x288 with 1 Axes>"
      ]
     },
     "metadata": {
      "needs_background": "light"
     },
     "output_type": "display_data"
    }
   ],
   "source": [
    "plt.hist(tele[\"Online Security\"])"
   ]
  },
  {
   "cell_type": "code",
   "execution_count": 17,
   "metadata": {
    "colab": {
     "base_uri": "https://localhost:8080/",
     "height": 335
    },
    "id": "DIEdJiJgGrAI",
    "outputId": "a05c63de-79cb-4a27-e075-8f7652df6958"
   },
   "outputs": [
    {
     "data": {
      "text/plain": [
       "(array([4614.,    0.,    0.,    0.,    0.,    0.,    0.,    0.,    0.,\n",
       "        2429.]),\n",
       " array([0. , 0.1, 0.2, 0.3, 0.4, 0.5, 0.6, 0.7, 0.8, 0.9, 1. ]),\n",
       " <BarContainer object of 10 artists>)"
      ]
     },
     "execution_count": 17,
     "metadata": {},
     "output_type": "execute_result"
    },
    {
     "data": {
      "image/png": "[encoded data removed]",
      "text/plain": [
       "<Figure size 432x288 with 1 Axes>"
      ]
     },
     "metadata": {
      "needs_background": "light"
     },
     "output_type": "display_data"
    }
   ],
   "source": [
    "plt.hist(tele[\"Online Backup\"])"
   ]
  },
  {
   "cell_type": "code",
   "execution_count": 18,
   "metadata": {
    "id": "ccxgkGrQGq9H"
   },
   "outputs": [
    {
     "data": {
      "text/plain": [
       "(array([2422.,    0.,    0.,    0.,    0.,    0.,    0.,    0.,    0.,\n",
       "        4621.]),\n",
       " array([0. , 0.1, 0.2, 0.3, 0.4, 0.5, 0.6, 0.7, 0.8, 0.9, 1. ]),\n",
       " <BarContainer object of 10 artists>)"
      ]
     },
     "execution_count": 18,
     "metadata": {},
     "output_type": "execute_result"
    },
    {
     "data": {
      "image/png": "[encoded data removed]",
      "text/plain": [
       "<Figure size 432x288 with 1 Axes>"
      ]
     },
     "metadata": {
      "needs_background": "light"
     },
     "output_type": "display_data"
    }
   ],
   "source": [
    "plt.hist(tele[\"Device Protection Plan\"])"
   ]
  },
  {
   "cell_type": "code",
   "execution_count": 19,
   "metadata": {
    "id": "DhJoUL0-Gq6q"
   },
   "outputs": [
    {
     "data": {
      "text/plain": [
       "(array([4999.,    0.,    0.,    0.,    0.,    0.,    0.,    0.,    0.,\n",
       "        2044.]),\n",
       " array([0. , 0.1, 0.2, 0.3, 0.4, 0.5, 0.6, 0.7, 0.8, 0.9, 1. ]),\n",
       " <BarContainer object of 10 artists>)"
      ]
     },
     "execution_count": 19,
     "metadata": {},
     "output_type": "execute_result"
    },
    {
     "data": {
      "image/png": "[encoded data removed]",
      "text/plain": [
       "<Figure size 432x288 with 1 Axes>"
      ]
     },
     "metadata": {
      "needs_background": "light"
     },
     "output_type": "display_data"
    }
   ],
   "source": [
    "plt.hist(tele[\"Premium Tech Support\"])"
   ]
  },
  {
   "cell_type": "code",
   "execution_count": 20,
   "metadata": {
    "id": "6a7BINrsGq4E"
   },
   "outputs": [
    {
     "data": {
      "text/plain": [
       "(array([4336.,    0.,    0.,    0.,    0.,    0.,    0.,    0.,    0.,\n",
       "        2707.]),\n",
       " array([0. , 0.1, 0.2, 0.3, 0.4, 0.5, 0.6, 0.7, 0.8, 0.9, 1. ]),\n",
       " <BarContainer object of 10 artists>)"
      ]
     },
     "execution_count": 20,
     "metadata": {},
     "output_type": "execute_result"
    },
    {
     "data": {
      "image/png": "[encoded data removed]",
      "text/plain": [
       "<Figure size 432x288 with 1 Axes>"
      ]
     },
     "metadata": {
      "needs_background": "light"
     },
     "output_type": "display_data"
    }
   ],
   "source": [
    "plt.hist(tele[\"Streaming TV\"])"
   ]
  },
  {
   "cell_type": "code",
   "execution_count": 21,
   "metadata": {
    "id": "osxvkfeKGq1X"
   },
   "outputs": [
    {
     "data": {
      "text/plain": [
       "(array([2732.,    0.,    0.,    0.,    0.,    0.,    0.,    0.,    0.,\n",
       "        4311.]),\n",
       " array([0. , 0.1, 0.2, 0.3, 0.4, 0.5, 0.6, 0.7, 0.8, 0.9, 1. ]),\n",
       " <BarContainer object of 10 artists>)"
      ]
     },
     "execution_count": 21,
     "metadata": {},
     "output_type": "execute_result"
    },
    {
     "data": {
      "image/png": "[encoded data removed]",
      "text/plain": [
       "<Figure size 432x288 with 1 Axes>"
      ]
     },
     "metadata": {
      "needs_background": "light"
     },
     "output_type": "display_data"
    }
   ],
   "source": [
    "plt.hist(tele[\"Streaming Movies\"])"
   ]
  },
  {
   "cell_type": "code",
   "execution_count": 22,
   "metadata": {
    "id": "TFGZ0IdbGqyo"
   },
   "outputs": [
    {
     "data": {
      "text/plain": [
       "(array([4555.,    0.,    0.,    0.,    0.,    0.,    0.,    0.,    0.,\n",
       "        2488.]),\n",
       " array([0. , 0.1, 0.2, 0.3, 0.4, 0.5, 0.6, 0.7, 0.8, 0.9, 1. ]),\n",
       " <BarContainer object of 10 artists>)"
      ]
     },
     "execution_count": 22,
     "metadata": {},
     "output_type": "execute_result"
    },
    {
     "data": {
      "image/png": "[encoded data removed]",
      "text/plain": [
       "<Figure size 432x288 with 1 Axes>"
      ]
     },
     "metadata": {
      "needs_background": "light"
     },
     "output_type": "display_data"
    }
   ],
   "source": [
    "plt.hist(tele[\"Streaming Music\"])"
   ]
  },
  {
   "cell_type": "code",
   "execution_count": 23,
   "metadata": {
    "id": "2-EV3ZaMGqv8"
   },
   "outputs": [
    {
     "data": {
      "text/plain": [
       "(array([2298.,    0.,    0.,    0.,    0.,    0.,    0.,    0.,    0.,\n",
       "        4745.]),\n",
       " array([0. , 0.1, 0.2, 0.3, 0.4, 0.5, 0.6, 0.7, 0.8, 0.9, 1. ]),\n",
       " <BarContainer object of 10 artists>)"
      ]
     },
     "execution_count": 23,
     "metadata": {},
     "output_type": "execute_result"
    },
    {
     "data": {
      "image/png": "[encoded data removed]",
      "text/plain": [
       "<Figure size 432x288 with 1 Axes>"
      ]
     },
     "metadata": {
      "needs_background": "light"
     },
     "output_type": "display_data"
    }
   ],
   "source": [
    "plt.hist(tele[\"Unlimited Data\"])"
   ]
  },
  {
   "cell_type": "code",
   "execution_count": 24,
   "metadata": {
    "id": "ss8OXF2-GqtG"
   },
   "outputs": [
    {
     "data": {
      "text/plain": [
       "(array([3610.,    0.,    0.,    0.,    0., 1550.,    0.,    0.,    0.,\n",
       "        1883.]),\n",
       " array([0. , 0.2, 0.4, 0.6, 0.8, 1. , 1.2, 1.4, 1.6, 1.8, 2. ]),\n",
       " <BarContainer object of 10 artists>)"
      ]
     },
     "execution_count": 24,
     "metadata": {},
     "output_type": "execute_result"
    },
    {
     "data": {
      "image/png": "[encoded data removed]",
      "text/plain": [
       "<Figure size 432x288 with 1 Axes>"
      ]
     },
     "metadata": {
      "needs_background": "light"
     },
     "output_type": "display_data"
    }
   ],
   "source": [
    "plt.hist(tele[\"Contract\"])"
   ]
  },
  {
   "cell_type": "code",
   "execution_count": 25,
   "metadata": {
    "id": "7Y4IOsNwGqq6"
   },
   "outputs": [
    {
     "data": {
      "text/plain": [
       "(array([4171.,    0.,    0.,    0.,    0.,    0.,    0.,    0.,    0.,\n",
       "        2872.]),\n",
       " array([0. , 0.1, 0.2, 0.3, 0.4, 0.5, 0.6, 0.7, 0.8, 0.9, 1. ]),\n",
       " <BarContainer object of 10 artists>)"
      ]
     },
     "execution_count": 25,
     "metadata": {},
     "output_type": "execute_result"
    },
    {
     "data": {
      "image/png": "[encoded data removed]",
      "text/plain": [
       "<Figure size 432x288 with 1 Axes>"
      ]
     },
     "metadata": {
      "needs_background": "light"
     },
     "output_type": "display_data"
    }
   ],
   "source": [
    "plt.hist(tele[\"Paperless Billing\"])"
   ]
  },
  {
   "cell_type": "code",
   "execution_count": 26,
   "metadata": {
    "id": "et-urFJ1Gqo9"
   },
   "outputs": [
    {
     "data": {
      "text/plain": [
       "(array([3909.,    0.,    0.,    0.,    0., 2749.,    0.,    0.,    0.,\n",
       "         385.]),\n",
       " array([0. , 0.2, 0.4, 0.6, 0.8, 1. , 1.2, 1.4, 1.6, 1.8, 2. ]),\n",
       " <BarContainer object of 10 artists>)"
      ]
     },
     "execution_count": 26,
     "metadata": {},
     "output_type": "execute_result"
    },
    {
     "data": {
      "image/png": "[encoded data removed]",
      "text/plain": [
       "<Figure size 432x288 with 1 Axes>"
      ]
     },
     "metadata": {
      "needs_background": "light"
     },
     "output_type": "display_data"
    }
   ],
   "source": [
    "plt.hist(tele[\"Payment Method\"])"
   ]
  },
  {
   "cell_type": "code",
   "execution_count": 27,
   "metadata": {
    "id": "Q4d6h32dGqmP"
   },
   "outputs": [
    {
     "data": {
      "text/plain": [
       "(array([4907.,  236.,  255.,  236.,  264.,  221.,  248.,  213.,  238.,\n",
       "         225.]),\n",
       " array([ 0. ,  1.1,  2.2,  3.3,  4.4,  5.5,  6.6,  7.7,  8.8,  9.9, 11. ]),\n",
       " <BarContainer object of 10 artists>)"
      ]
     },
     "execution_count": 27,
     "metadata": {},
     "output_type": "execute_result"
    },
    {
     "data": {
      "image/png": "[encoded data removed]",
      "text/plain": [
       "<Figure size 432x288 with 1 Axes>"
      ]
     },
     "metadata": {
      "needs_background": "light"
     },
     "output_type": "display_data"
    }
   ],
   "source": [
    "plt.hist(tele[\"Number of Referrals\"])"
   ]
  },
  {
   "cell_type": "code",
   "execution_count": 28,
   "metadata": {
    "id": "hCdMdp6rGqiM"
   },
   "outputs": [
    {
     "data": {
      "text/plain": [
       "(array([1724.,  746.,  561.,  538.,  473.,  444.,  452.,  495.,  501.,\n",
       "        1109.]),\n",
       " array([ 1. ,  8.1, 15.2, 22.3, 29.4, 36.5, 43.6, 50.7, 57.8, 64.9, 72. ]),\n",
       " <BarContainer object of 10 artists>)"
      ]
     },
     "execution_count": 28,
     "metadata": {},
     "output_type": "execute_result"
    },
    {
     "data": {
      "image/png": "[encoded data removed]",
      "text/plain": [
       "<Figure size 432x288 with 1 Axes>"
      ]
     },
     "metadata": {
      "needs_background": "light"
     },
     "output_type": "display_data"
    }
   ],
   "source": [
    "plt.hist(tele[\"Tenure in Months\"])"
   ]
  },
  {
   "cell_type": "code",
   "execution_count": 29,
   "metadata": {
    "id": "keIDFR28Gqfk"
   },
   "outputs": [
    {
     "data": {
      "text/plain": [
       "(array([1211.,  657.,  646.,  665.,  601.,  659.,  660.,  659.,  647.,\n",
       "         638.]),\n",
       " array([ 0.   ,  4.999,  9.998, 14.997, 19.996, 24.995, 29.994, 34.993,\n",
       "        39.992, 44.991, 49.99 ]),\n",
       " <BarContainer object of 10 artists>)"
      ]
     },
     "execution_count": 29,
     "metadata": {},
     "output_type": "execute_result"
    },
    {
     "data": {
      "image/png": "[encoded data removed]",
      "text/plain": [
       "<Figure size 432x288 with 1 Axes>"
      ]
     },
     "metadata": {
      "needs_background": "light"
     },
     "output_type": "display_data"
    }
   ],
   "source": [
    "plt.hist(tele[\"Avg Monthly Long Distance Charges\"])"
   ]
  },
  {
   "cell_type": "code",
   "execution_count": 30,
   "metadata": {
    "id": "U5uM7bw2Gqcc"
   },
   "outputs": [
    {
     "data": {
      "text/plain": [
       "(array([2365., 1118., 1490.,  868.,  113.,  141.,  586.,    0.,  271.,\n",
       "          91.]),\n",
       " array([ 0. ,  8.5, 17. , 25.5, 34. , 42.5, 51. , 59.5, 68. , 76.5, 85. ]),\n",
       " <BarContainer object of 10 artists>)"
      ]
     },
     "execution_count": 30,
     "metadata": {},
     "output_type": "execute_result"
    },
    {
     "data": {
      "image/png": "[encoded data removed]",
      "text/plain": [
       "<Figure size 432x288 with 1 Axes>"
      ]
     },
     "metadata": {
      "needs_background": "light"
     },
     "output_type": "display_data"
    }
   ],
   "source": [
    "plt.hist(tele[\"Avg Monthly GB Download\"])"
   ]
  },
  {
   "cell_type": "code",
   "execution_count": 31,
   "metadata": {
    "id": "H_Uzo1W8GqZb"
   },
   "outputs": [
    {
     "data": {
      "text/plain": [
       "(array([1606.,  191.,  365.,  639.,  473.,  895.,  953.,  869.,  758.,\n",
       "         294.]),\n",
       " array([ 18.25,  28.3 ,  38.35,  48.4 ,  58.45,  68.5 ,  78.55,  88.6 ,\n",
       "         98.65, 108.7 , 118.75]),\n",
       " <BarContainer object of 10 artists>)"
      ]
     },
     "execution_count": 31,
     "metadata": {},
     "output_type": "execute_result"
    },
    {
     "data": {
      "image/png": "[encoded data removed]",
      "text/plain": [
       "<Figure size 432x288 with 1 Axes>"
      ]
     },
     "metadata": {
      "needs_background": "light"
     },
     "output_type": "display_data"
    }
   ],
   "source": [
    "plt.hist(tele[\"Monthly Charge\"])"
   ]
  },
  {
   "cell_type": "code",
   "execution_count": 32,
   "metadata": {
    "id": "orpm6Y0-Gp8s"
   },
   "outputs": [
    {
     "data": {
      "text/plain": [
       "(array([2720., 1228.,  671.,  508.,  454.,  412.,  395.,  310.,  223.,\n",
       "         122.]),\n",
       " array([  18.8,  885.4, 1752. , 2618.6, 3485.2, 4351.8, 5218.4, 6085. ,\n",
       "        6951.6, 7818.2, 8684.8]),\n",
       " <BarContainer object of 10 artists>)"
      ]
     },
     "execution_count": 32,
     "metadata": {},
     "output_type": "execute_result"
    },
    {
     "data": {
      "image/png": "[encoded data removed]",
      "text/plain": [
       "<Figure size 432x288 with 1 Axes>"
      ]
     },
     "metadata": {
      "needs_background": "light"
     },
     "output_type": "display_data"
    }
   ],
   "source": [
    "plt.hist(tele[\"Total Charges\"])"
   ]
  },
  {
   "cell_type": "code",
   "execution_count": 33,
   "metadata": {
    "id": "zE1C6-BaHGuO"
   },
   "outputs": [
    {
     "data": {
      "text/plain": [
       "(array([6558.,   40.,   48.,   68.,   50.,   61.,   47.,   54.,   49.,\n",
       "          68.]),\n",
       " array([ 0.   ,  4.979,  9.958, 14.937, 19.916, 24.895, 29.874, 34.853,\n",
       "        39.832, 44.811, 49.79 ]),\n",
       " <BarContainer object of 10 artists>)"
      ]
     },
     "execution_count": 33,
     "metadata": {},
     "output_type": "execute_result"
    },
    {
     "data": {
      "image/png": "[encoded data removed]",
      "text/plain": [
       "<Figure size 432x288 with 1 Axes>"
      ]
     },
     "metadata": {
      "needs_background": "light"
     },
     "output_type": "display_data"
    }
   ],
   "source": [
    "plt.hist(tele[\"Total Refunds\"])"
   ]
  },
  {
   "cell_type": "code",
   "execution_count": 34,
   "metadata": {
    "id": "7fDEjnb7HGrZ"
   },
   "outputs": [
    {
     "data": {
      "text/plain": [
       "(array([6453.,   51.,  120.,   43.,   70.,   47.,   79.,   32.,   68.,\n",
       "          80.]),\n",
       " array([  0.,  15.,  30.,  45.,  60.,  75.,  90., 105., 120., 135., 150.]),\n",
       " <BarContainer object of 10 artists>)"
      ]
     },
     "execution_count": 34,
     "metadata": {},
     "output_type": "execute_result"
    },
    {
     "data": {
      "image/png": "[encoded data removed]",
      "text/plain": [
       "<Figure size 432x288 with 1 Axes>"
      ]
     },
     "metadata": {
      "needs_background": "light"
     },
     "output_type": "display_data"
    }
   ],
   "source": [
    "plt.hist(tele[\"Total Extra Data Charges\"])"
   ]
  },
  {
   "cell_type": "code",
   "execution_count": 35,
   "metadata": {
    "id": "hNrGny9FHGpQ"
   },
   "outputs": [
    {
     "data": {
      "text/plain": [
       "(array([3359., 1026.,  687.,  518.,  455.,  332.,  261.,  200.,  124.,\n",
       "          81.]),\n",
       " array([   0.   ,  356.472,  712.944, 1069.416, 1425.888, 1782.36 ,\n",
       "        2138.832, 2495.304, 2851.776, 3208.248, 3564.72 ]),\n",
       " <BarContainer object of 10 artists>)"
      ]
     },
     "execution_count": 35,
     "metadata": {},
     "output_type": "execute_result"
    },
    {
     "data": {
      "image/png": "[encoded data removed]",
      "text/plain": [
       "<Figure size 432x288 with 1 Axes>"
      ]
     },
     "metadata": {
      "needs_background": "light"
     },
     "output_type": "display_data"
    }
   ],
   "source": [
    "plt.hist(tele[\"Total Long Distance Charges\"])"
   ]
  },
  {
   "cell_type": "code",
   "execution_count": 36,
   "metadata": {
    "id": "5e5Ir7InHGmN"
   },
   "outputs": [
    {
     "data": {
      "text/plain": [
       "(array([2612., 1162.,  876.,  633.,  451.,  457.,  384.,  274.,  152.,\n",
       "          42.]),\n",
       " array([   21.36 ,  1217.158,  2412.956,  3608.754,  4804.552,  6000.35 ,\n",
       "         7196.148,  8391.946,  9587.744, 10783.542, 11979.34 ]),\n",
       " <BarContainer object of 10 artists>)"
      ]
     },
     "execution_count": 36,
     "metadata": {},
     "output_type": "execute_result"
    },
    {
     "data": {
      "image/png": "[encoded data removed]",
      "text/plain": [
       "<Figure size 432x288 with 1 Axes>"
      ]
     },
     "metadata": {
      "needs_background": "light"
     },
     "output_type": "display_data"
    }
   ],
   "source": [
    "plt.hist(tele[\"Total Revenue\"])"
   ]
  },
  {
   "cell_type": "code",
   "execution_count": 37,
   "metadata": {
    "id": "OAj-4R_CHGjq"
   },
   "outputs": [
    {
     "data": {
      "text/plain": [
       "Text(0, 0.5, 'Total Revenue')"
      ]
     },
     "execution_count": 37,
     "metadata": {},
     "output_type": "execute_result"
    },
    {
     "data": {
      "image/png": "[encoded data removed]",
      "text/plain": [
       "<Figure size 432x288 with 1 Axes>"
      ]
     },
     "metadata": {
      "needs_background": "light"
     },
     "output_type": "display_data"
    }
   ],
   "source": [
    "plt.scatter(tele[\"Tenure in Months\"], tele[\"Total Revenue\"]);plt.xlabel('Tenure in Months');plt.ylabel('Total Revenue')   #Bivariate"
   ]
  },
  {
   "cell_type": "code",
   "execution_count": 38,
   "metadata": {
    "id": "UzvQsyOXHGg0"
   },
   "outputs": [
    {
     "name": "stderr",
     "output_type": "stream",
     "text": [
      "<ipython-input-38-0a4bec0deae6>:1: FutureWarning: Dropping of nuisance columns in DataFrame reductions (with 'numeric_only=None') is deprecated; in a future version this will raise TypeError.  Select only valid columns before calling the reduction.\n",
      "  tele_new.skew(axis = 0, skipna = True)   #skewness\n"
     ]
    },
    {
     "data": {
      "text/plain": [
       "Referred a Friend                    0.170753\n",
       "Offer                                0.917537\n",
       "Phone Service                       -2.727153\n",
       "Multiple Lines                       0.316610\n",
       "Internet Service                    -1.375769\n",
       "Internet Type                       -0.366530\n",
       "Online Security                      0.943722\n",
       "Online Backup                        0.652817\n",
       "Device Protection Plan               0.657450\n",
       "Premium Tech Support                 0.924630\n",
       "Streaming TV                         0.475581\n",
       "Streaming Movies                     0.460199\n",
       "Streaming Music                      0.614135\n",
       "Unlimited Data                      -0.741196\n",
       "Contract                             0.489779\n",
       "Paperless Billing                   -0.375396\n",
       "Payment Method                       0.762882\n",
       "Count                                0.000000\n",
       "Number of Referrals                  1.446060\n",
       "Tenure in Months                     0.240543\n",
       "Avg Monthly Long Distance Charges    0.049176\n",
       "Avg Monthly GB Download              1.216584\n",
       "Monthly Charge                      -0.220524\n",
       "Total Charges                        0.963791\n",
       "Total Refunds                        4.328517\n",
       "Total Extra Data Charges             4.091209\n",
       "Total Long Distance Charges          1.238282\n",
       "Total Revenue                        0.919410\n",
       "dtype: float64"
      ]
     },
     "execution_count": 38,
     "metadata": {},
     "output_type": "execute_result"
    }
   ],
   "source": [
    "tele_new.skew(axis = 0, skipna = True)   #skewness"
   ]
  },
  {
   "cell_type": "code",
   "execution_count": 39,
   "metadata": {
    "id": "CKkCaTIgHGd5"
   },
   "outputs": [
    {
     "name": "stderr",
     "output_type": "stream",
     "text": [
      "<ipython-input-39-b80cadc04469>:1: FutureWarning: Dropping of nuisance columns in DataFrame reductions (with 'numeric_only=None') is deprecated; in a future version this will raise TypeError.  Select only valid columns before calling the reduction.\n",
      "  tele_new.kurtosis(axis = 0, skipna = True)    #kurtosis\n"
     ]
    },
    {
     "data": {
      "text/plain": [
       "Referred a Friend                    -1.971403\n",
       "Offer                                -0.702730\n",
       "Phone Service                         5.438908\n",
       "Multiple Lines                       -1.900298\n",
       "Internet Service                     -0.107291\n",
       "Internet Type                        -0.684023\n",
       "Online Security                      -1.109704\n",
       "Online Backup                        -1.574277\n",
       "Device Protection Plan               -1.568205\n",
       "Premium Tech Support                 -1.145385\n",
       "Streaming TV                         -1.774326\n",
       "Streaming Movies                     -1.788725\n",
       "Streaming Music                      -1.623300\n",
       "Unlimited Data                       -1.451040\n",
       "Contract                             -1.436907\n",
       "Paperless Billing                    -1.859606\n",
       "Payment Method                       -0.396717\n",
       "Count                                 0.000000\n",
       "Number of Referrals                   0.721964\n",
       "Tenure in Months                     -1.387052\n",
       "Avg Monthly Long Distance Charges    -1.254654\n",
       "Avg Monthly GB Download               0.881502\n",
       "Monthly Charge                       -1.257260\n",
       "Total Charges                        -0.227693\n",
       "Total Refunds                        18.350658\n",
       "Total Extra Data Charges             16.458874\n",
       "Total Long Distance Charges           0.644092\n",
       "Total Revenue                        -0.203457\n",
       "dtype: float64"
      ]
     },
     "execution_count": 39,
     "metadata": {},
     "output_type": "execute_result"
    }
   ],
   "source": [
    "tele_new.kurtosis(axis = 0, skipna = True)    #kurtosis"
   ]
  },
  {
   "cell_type": "code",
   "execution_count": 40,
   "metadata": {},
   "outputs": [
    {
     "data": {
      "text/html": [
       "<div>\n",
       "<style scoped>\n",
       "    .dataframe tbody tr th:only-of-type {\n",
       "        vertical-align: middle;\n",
       "    }\n",
       "\n",
       "    .dataframe tbody tr th {\n",
       "        vertical-align: top;\n",
       "    }\n",
       "\n",
       "    .dataframe thead th {\n",
       "        text-align: right;\n",
       "    }\n",
       "</style>\n",
       "<table border=\"1\" class=\"dataframe\">\n",
       "  <thead>\n",
       "    <tr style=\"text-align: right;\">\n",
       "      <th></th>\n",
       "      <th>Referred a Friend</th>\n",
       "      <th>Offer</th>\n",
       "      <th>Phone Service</th>\n",
       "      <th>Multiple Lines</th>\n",
       "      <th>Internet Service</th>\n",
       "      <th>Internet Type</th>\n",
       "      <th>Online Security</th>\n",
       "      <th>Online Backup</th>\n",
       "      <th>Device Protection Plan</th>\n",
       "      <th>Premium Tech Support</th>\n",
       "      <th>...</th>\n",
       "      <th>Number of Referrals</th>\n",
       "      <th>Tenure in Months</th>\n",
       "      <th>Avg Monthly Long Distance Charges</th>\n",
       "      <th>Avg Monthly GB Download</th>\n",
       "      <th>Monthly Charge</th>\n",
       "      <th>Total Charges</th>\n",
       "      <th>Total Refunds</th>\n",
       "      <th>Total Extra Data Charges</th>\n",
       "      <th>Total Long Distance Charges</th>\n",
       "      <th>Total Revenue</th>\n",
       "    </tr>\n",
       "  </thead>\n",
       "  <tbody>\n",
       "    <tr>\n",
       "      <th>count</th>\n",
       "      <td>7043.000000</td>\n",
       "      <td>7043.000000</td>\n",
       "      <td>7043.000000</td>\n",
       "      <td>7043.000000</td>\n",
       "      <td>7043.000000</td>\n",
       "      <td>7043.000000</td>\n",
       "      <td>7043.000000</td>\n",
       "      <td>7043.000000</td>\n",
       "      <td>7043.000000</td>\n",
       "      <td>7043.000000</td>\n",
       "      <td>...</td>\n",
       "      <td>7043.000000</td>\n",
       "      <td>7043.000000</td>\n",
       "      <td>7043.000000</td>\n",
       "      <td>7043.000000</td>\n",
       "      <td>7043.000000</td>\n",
       "      <td>7043.000000</td>\n",
       "      <td>7043.000000</td>\n",
       "      <td>7043.000000</td>\n",
       "      <td>7043.000000</td>\n",
       "      <td>7043.000000</td>\n",
       "    </tr>\n",
       "    <tr>\n",
       "      <th>mean</th>\n",
       "      <td>0.457476</td>\n",
       "      <td>1.397984</td>\n",
       "      <td>0.903166</td>\n",
       "      <td>0.421837</td>\n",
       "      <td>0.783331</td>\n",
       "      <td>1.746415</td>\n",
       "      <td>0.286668</td>\n",
       "      <td>0.344881</td>\n",
       "      <td>0.343888</td>\n",
       "      <td>0.290217</td>\n",
       "      <td>...</td>\n",
       "      <td>1.951867</td>\n",
       "      <td>32.386767</td>\n",
       "      <td>22.958954</td>\n",
       "      <td>20.515405</td>\n",
       "      <td>64.761692</td>\n",
       "      <td>2280.381264</td>\n",
       "      <td>1.962182</td>\n",
       "      <td>6.860713</td>\n",
       "      <td>749.099262</td>\n",
       "      <td>3034.379056</td>\n",
       "    </tr>\n",
       "    <tr>\n",
       "      <th>std</th>\n",
       "      <td>0.498224</td>\n",
       "      <td>1.828467</td>\n",
       "      <td>0.295752</td>\n",
       "      <td>0.493888</td>\n",
       "      <td>0.412004</td>\n",
       "      <td>0.926517</td>\n",
       "      <td>0.452237</td>\n",
       "      <td>0.475363</td>\n",
       "      <td>0.475038</td>\n",
       "      <td>0.453895</td>\n",
       "      <td>...</td>\n",
       "      <td>3.001199</td>\n",
       "      <td>24.542061</td>\n",
       "      <td>15.448113</td>\n",
       "      <td>20.418940</td>\n",
       "      <td>30.090047</td>\n",
       "      <td>2266.220462</td>\n",
       "      <td>7.902614</td>\n",
       "      <td>25.104978</td>\n",
       "      <td>846.660055</td>\n",
       "      <td>2865.204542</td>\n",
       "    </tr>\n",
       "    <tr>\n",
       "      <th>min</th>\n",
       "      <td>0.000000</td>\n",
       "      <td>0.000000</td>\n",
       "      <td>0.000000</td>\n",
       "      <td>0.000000</td>\n",
       "      <td>0.000000</td>\n",
       "      <td>0.000000</td>\n",
       "      <td>0.000000</td>\n",
       "      <td>0.000000</td>\n",
       "      <td>0.000000</td>\n",
       "      <td>0.000000</td>\n",
       "      <td>...</td>\n",
       "      <td>0.000000</td>\n",
       "      <td>1.000000</td>\n",
       "      <td>0.000000</td>\n",
       "      <td>0.000000</td>\n",
       "      <td>18.250000</td>\n",
       "      <td>18.800000</td>\n",
       "      <td>0.000000</td>\n",
       "      <td>0.000000</td>\n",
       "      <td>0.000000</td>\n",
       "      <td>21.360000</td>\n",
       "    </tr>\n",
       "    <tr>\n",
       "      <th>25%</th>\n",
       "      <td>0.000000</td>\n",
       "      <td>0.000000</td>\n",
       "      <td>1.000000</td>\n",
       "      <td>0.000000</td>\n",
       "      <td>1.000000</td>\n",
       "      <td>1.000000</td>\n",
       "      <td>0.000000</td>\n",
       "      <td>0.000000</td>\n",
       "      <td>0.000000</td>\n",
       "      <td>0.000000</td>\n",
       "      <td>...</td>\n",
       "      <td>0.000000</td>\n",
       "      <td>9.000000</td>\n",
       "      <td>9.210000</td>\n",
       "      <td>3.000000</td>\n",
       "      <td>35.500000</td>\n",
       "      <td>400.150000</td>\n",
       "      <td>0.000000</td>\n",
       "      <td>0.000000</td>\n",
       "      <td>70.545000</td>\n",
       "      <td>605.610000</td>\n",
       "    </tr>\n",
       "    <tr>\n",
       "      <th>50%</th>\n",
       "      <td>0.000000</td>\n",
       "      <td>0.000000</td>\n",
       "      <td>1.000000</td>\n",
       "      <td>0.000000</td>\n",
       "      <td>1.000000</td>\n",
       "      <td>2.000000</td>\n",
       "      <td>0.000000</td>\n",
       "      <td>0.000000</td>\n",
       "      <td>0.000000</td>\n",
       "      <td>0.000000</td>\n",
       "      <td>...</td>\n",
       "      <td>0.000000</td>\n",
       "      <td>29.000000</td>\n",
       "      <td>22.890000</td>\n",
       "      <td>17.000000</td>\n",
       "      <td>70.350000</td>\n",
       "      <td>1394.550000</td>\n",
       "      <td>0.000000</td>\n",
       "      <td>0.000000</td>\n",
       "      <td>401.440000</td>\n",
       "      <td>2108.640000</td>\n",
       "    </tr>\n",
       "    <tr>\n",
       "      <th>75%</th>\n",
       "      <td>1.000000</td>\n",
       "      <td>3.000000</td>\n",
       "      <td>1.000000</td>\n",
       "      <td>1.000000</td>\n",
       "      <td>1.000000</td>\n",
       "      <td>2.000000</td>\n",
       "      <td>1.000000</td>\n",
       "      <td>1.000000</td>\n",
       "      <td>1.000000</td>\n",
       "      <td>1.000000</td>\n",
       "      <td>...</td>\n",
       "      <td>3.000000</td>\n",
       "      <td>55.000000</td>\n",
       "      <td>36.395000</td>\n",
       "      <td>27.000000</td>\n",
       "      <td>89.850000</td>\n",
       "      <td>3786.600000</td>\n",
       "      <td>0.000000</td>\n",
       "      <td>0.000000</td>\n",
       "      <td>1191.100000</td>\n",
       "      <td>4801.145000</td>\n",
       "    </tr>\n",
       "    <tr>\n",
       "      <th>max</th>\n",
       "      <td>1.000000</td>\n",
       "      <td>5.000000</td>\n",
       "      <td>1.000000</td>\n",
       "      <td>1.000000</td>\n",
       "      <td>1.000000</td>\n",
       "      <td>3.000000</td>\n",
       "      <td>1.000000</td>\n",
       "      <td>1.000000</td>\n",
       "      <td>1.000000</td>\n",
       "      <td>1.000000</td>\n",
       "      <td>...</td>\n",
       "      <td>11.000000</td>\n",
       "      <td>72.000000</td>\n",
       "      <td>49.990000</td>\n",
       "      <td>85.000000</td>\n",
       "      <td>118.750000</td>\n",
       "      <td>8684.800000</td>\n",
       "      <td>49.790000</td>\n",
       "      <td>150.000000</td>\n",
       "      <td>3564.720000</td>\n",
       "      <td>11979.340000</td>\n",
       "    </tr>\n",
       "  </tbody>\n",
       "</table>\n",
       "<p>8 rows × 28 columns</p>\n",
       "</div>"
      ],
      "text/plain": [
       "       Referred a Friend        Offer  Phone Service  Multiple Lines  \\\n",
       "count        7043.000000  7043.000000    7043.000000     7043.000000   \n",
       "mean            0.457476     1.397984       0.903166        0.421837   \n",
       "std             0.498224     1.828467       0.295752        0.493888   \n",
       "min             0.000000     0.000000       0.000000        0.000000   \n",
       "25%             0.000000     0.000000       1.000000        0.000000   \n",
       "50%             0.000000     0.000000       1.000000        0.000000   \n",
       "75%             1.000000     3.000000       1.000000        1.000000   \n",
       "max             1.000000     5.000000       1.000000        1.000000   \n",
       "\n",
       "       Internet Service  Internet Type  Online Security  Online Backup  \\\n",
       "count       7043.000000    7043.000000      7043.000000    7043.000000   \n",
       "mean           0.783331       1.746415         0.286668       0.344881   \n",
       "std            0.412004       0.926517         0.452237       0.475363   \n",
       "min            0.000000       0.000000         0.000000       0.000000   \n",
       "25%            1.000000       1.000000         0.000000       0.000000   \n",
       "50%            1.000000       2.000000         0.000000       0.000000   \n",
       "75%            1.000000       2.000000         1.000000       1.000000   \n",
       "max            1.000000       3.000000         1.000000       1.000000   \n",
       "\n",
       "       Device Protection Plan  Premium Tech Support  ...  Number of Referrals  \\\n",
       "count             7043.000000           7043.000000  ...          7043.000000   \n",
       "mean                 0.343888              0.290217  ...             1.951867   \n",
       "std                  0.475038              0.453895  ...             3.001199   \n",
       "min                  0.000000              0.000000  ...             0.000000   \n",
       "25%                  0.000000              0.000000  ...             0.000000   \n",
       "50%                  0.000000              0.000000  ...             0.000000   \n",
       "75%                  1.000000              1.000000  ...             3.000000   \n",
       "max                  1.000000              1.000000  ...            11.000000   \n",
       "\n",
       "       Tenure in Months  Avg Monthly Long Distance Charges  \\\n",
       "count       7043.000000                        7043.000000   \n",
       "mean          32.386767                          22.958954   \n",
       "std           24.542061                          15.448113   \n",
       "min            1.000000                           0.000000   \n",
       "25%            9.000000                           9.210000   \n",
       "50%           29.000000                          22.890000   \n",
       "75%           55.000000                          36.395000   \n",
       "max           72.000000                          49.990000   \n",
       "\n",
       "       Avg Monthly GB Download  Monthly Charge  Total Charges  Total Refunds  \\\n",
       "count              7043.000000     7043.000000    7043.000000    7043.000000   \n",
       "mean                 20.515405       64.761692    2280.381264       1.962182   \n",
       "std                  20.418940       30.090047    2266.220462       7.902614   \n",
       "min                   0.000000       18.250000      18.800000       0.000000   \n",
       "25%                   3.000000       35.500000     400.150000       0.000000   \n",
       "50%                  17.000000       70.350000    1394.550000       0.000000   \n",
       "75%                  27.000000       89.850000    3786.600000       0.000000   \n",
       "max                  85.000000      118.750000    8684.800000      49.790000   \n",
       "\n",
       "       Total Extra Data Charges  Total Long Distance Charges  Total Revenue  \n",
       "count               7043.000000                  7043.000000    7043.000000  \n",
       "mean                   6.860713                   749.099262    3034.379056  \n",
       "std                   25.104978                   846.660055    2865.204542  \n",
       "min                    0.000000                     0.000000      21.360000  \n",
       "25%                    0.000000                    70.545000     605.610000  \n",
       "50%                    0.000000                   401.440000    2108.640000  \n",
       "75%                    0.000000                  1191.100000    4801.145000  \n",
       "max                  150.000000                  3564.720000   11979.340000  \n",
       "\n",
       "[8 rows x 28 columns]"
      ]
     },
     "execution_count": 40,
     "metadata": {},
     "output_type": "execute_result"
    }
   ],
   "source": [
    "tele_new.describe()"
   ]
  },
  {
   "cell_type": "code",
   "execution_count": 41,
   "metadata": {},
   "outputs": [
    {
     "name": "stdout",
     "output_type": "stream",
     "text": [
      "<class 'pandas.core.frame.DataFrame'>\n",
      "RangeIndex: 7043 entries, 0 to 7042\n",
      "Data columns (total 30 columns):\n",
      " #   Column                             Non-Null Count  Dtype  \n",
      "---  ------                             --------------  -----  \n",
      " 0   Referred a Friend                  7043 non-null   int32  \n",
      " 1   Offer                              7043 non-null   int32  \n",
      " 2   Phone Service                      7043 non-null   int32  \n",
      " 3   Multiple Lines                     7043 non-null   int32  \n",
      " 4   Internet Service                   7043 non-null   int32  \n",
      " 5   Internet Type                      7043 non-null   int32  \n",
      " 6   Online Security                    7043 non-null   int32  \n",
      " 7   Online Backup                      7043 non-null   int32  \n",
      " 8   Device Protection Plan             7043 non-null   int32  \n",
      " 9   Premium Tech Support               7043 non-null   int32  \n",
      " 10  Streaming TV                       7043 non-null   int32  \n",
      " 11  Streaming Movies                   7043 non-null   int32  \n",
      " 12  Streaming Music                    7043 non-null   int32  \n",
      " 13  Unlimited Data                     7043 non-null   int32  \n",
      " 14  Contract                           7043 non-null   int32  \n",
      " 15  Paperless Billing                  7043 non-null   int32  \n",
      " 16  Payment Method                     7043 non-null   int32  \n",
      " 17  Customer ID                        7043 non-null   object \n",
      " 18  Count                              7043 non-null   int64  \n",
      " 19  Quarter                            7043 non-null   object \n",
      " 20  Number of Referrals                7043 non-null   int64  \n",
      " 21  Tenure in Months                   7043 non-null   int64  \n",
      " 22  Avg Monthly Long Distance Charges  7043 non-null   float64\n",
      " 23  Avg Monthly GB Download            7043 non-null   int64  \n",
      " 24  Monthly Charge                     7043 non-null   float64\n",
      " 25  Total Charges                      7043 non-null   float64\n",
      " 26  Total Refunds                      7043 non-null   float64\n",
      " 27  Total Extra Data Charges           7043 non-null   int64  \n",
      " 28  Total Long Distance Charges        7043 non-null   float64\n",
      " 29  Total Revenue                      7043 non-null   float64\n",
      "dtypes: float64(6), int32(17), int64(5), object(2)\n",
      "memory usage: 1.2+ MB\n"
     ]
    }
   ],
   "source": [
    "tele_new.info()"
   ]
  },
  {
   "cell_type": "code",
   "execution_count": 42,
   "metadata": {
    "scrolled": true
   },
   "outputs": [],
   "source": [
    "tele_new = tele_new.drop(['Customer ID','Count','Quarter'], axis = 1)"
   ]
  },
  {
   "cell_type": "code",
   "execution_count": 43,
   "metadata": {},
   "outputs": [
    {
     "name": "stdout",
     "output_type": "stream",
     "text": [
      "<class 'pandas.core.frame.DataFrame'>\n",
      "RangeIndex: 7043 entries, 0 to 7042\n",
      "Data columns (total 27 columns):\n",
      " #   Column                             Non-Null Count  Dtype  \n",
      "---  ------                             --------------  -----  \n",
      " 0   Referred a Friend                  7043 non-null   int32  \n",
      " 1   Offer                              7043 non-null   int32  \n",
      " 2   Phone Service                      7043 non-null   int32  \n",
      " 3   Multiple Lines                     7043 non-null   int32  \n",
      " 4   Internet Service                   7043 non-null   int32  \n",
      " 5   Internet Type                      7043 non-null   int32  \n",
      " 6   Online Security                    7043 non-null   int32  \n",
      " 7   Online Backup                      7043 non-null   int32  \n",
      " 8   Device Protection Plan             7043 non-null   int32  \n",
      " 9   Premium Tech Support               7043 non-null   int32  \n",
      " 10  Streaming TV                       7043 non-null   int32  \n",
      " 11  Streaming Movies                   7043 non-null   int32  \n",
      " 12  Streaming Music                    7043 non-null   int32  \n",
      " 13  Unlimited Data                     7043 non-null   int32  \n",
      " 14  Contract                           7043 non-null   int32  \n",
      " 15  Paperless Billing                  7043 non-null   int32  \n",
      " 16  Payment Method                     7043 non-null   int32  \n",
      " 17  Number of Referrals                7043 non-null   int64  \n",
      " 18  Tenure in Months                   7043 non-null   int64  \n",
      " 19  Avg Monthly Long Distance Charges  7043 non-null   float64\n",
      " 20  Avg Monthly GB Download            7043 non-null   int64  \n",
      " 21  Monthly Charge                     7043 non-null   float64\n",
      " 22  Total Charges                      7043 non-null   float64\n",
      " 23  Total Refunds                      7043 non-null   float64\n",
      " 24  Total Extra Data Charges           7043 non-null   int64  \n",
      " 25  Total Long Distance Charges        7043 non-null   float64\n",
      " 26  Total Revenue                      7043 non-null   float64\n",
      "dtypes: float64(6), int32(17), int64(4)\n",
      "memory usage: 1018.1 KB\n"
     ]
    }
   ],
   "source": [
    "tele_new.info()"
   ]
  },
  {
   "cell_type": "code",
   "execution_count": 44,
   "metadata": {},
   "outputs": [
    {
     "data": {
      "text/html": [
       "<div>\n",
       "<style scoped>\n",
       "    .dataframe tbody tr th:only-of-type {\n",
       "        vertical-align: middle;\n",
       "    }\n",
       "\n",
       "    .dataframe tbody tr th {\n",
       "        vertical-align: top;\n",
       "    }\n",
       "\n",
       "    .dataframe thead th {\n",
       "        text-align: right;\n",
       "    }\n",
       "</style>\n",
       "<table border=\"1\" class=\"dataframe\">\n",
       "  <thead>\n",
       "    <tr style=\"text-align: right;\">\n",
       "      <th></th>\n",
       "      <th>Referred a Friend</th>\n",
       "      <th>Offer</th>\n",
       "      <th>Phone Service</th>\n",
       "      <th>Multiple Lines</th>\n",
       "      <th>Internet Service</th>\n",
       "      <th>Internet Type</th>\n",
       "      <th>Online Security</th>\n",
       "      <th>Online Backup</th>\n",
       "      <th>Device Protection Plan</th>\n",
       "      <th>Premium Tech Support</th>\n",
       "      <th>...</th>\n",
       "      <th>Number of Referrals</th>\n",
       "      <th>Tenure in Months</th>\n",
       "      <th>Avg Monthly Long Distance Charges</th>\n",
       "      <th>Avg Monthly GB Download</th>\n",
       "      <th>Monthly Charge</th>\n",
       "      <th>Total Charges</th>\n",
       "      <th>Total Refunds</th>\n",
       "      <th>Total Extra Data Charges</th>\n",
       "      <th>Total Long Distance Charges</th>\n",
       "      <th>Total Revenue</th>\n",
       "    </tr>\n",
       "  </thead>\n",
       "  <tbody>\n",
       "    <tr>\n",
       "      <th>0</th>\n",
       "      <td>0.0</td>\n",
       "      <td>0.0</td>\n",
       "      <td>0.0</td>\n",
       "      <td>0.0</td>\n",
       "      <td>1.0</td>\n",
       "      <td>0.333333</td>\n",
       "      <td>0.0</td>\n",
       "      <td>0.0</td>\n",
       "      <td>1.0</td>\n",
       "      <td>0.0</td>\n",
       "      <td>...</td>\n",
       "      <td>0.000000</td>\n",
       "      <td>0.000000</td>\n",
       "      <td>0.000000</td>\n",
       "      <td>0.094118</td>\n",
       "      <td>0.212935</td>\n",
       "      <td>0.002406</td>\n",
       "      <td>0.000000</td>\n",
       "      <td>0.133333</td>\n",
       "      <td>0.000000</td>\n",
       "      <td>0.003202</td>\n",
       "    </tr>\n",
       "    <tr>\n",
       "      <th>1</th>\n",
       "      <td>1.0</td>\n",
       "      <td>1.0</td>\n",
       "      <td>1.0</td>\n",
       "      <td>1.0</td>\n",
       "      <td>1.0</td>\n",
       "      <td>0.666667</td>\n",
       "      <td>0.0</td>\n",
       "      <td>1.0</td>\n",
       "      <td>0.0</td>\n",
       "      <td>0.0</td>\n",
       "      <td>...</td>\n",
       "      <td>0.090909</td>\n",
       "      <td>0.098592</td>\n",
       "      <td>0.977195</td>\n",
       "      <td>0.200000</td>\n",
       "      <td>0.620896</td>\n",
       "      <td>0.070909</td>\n",
       "      <td>0.000000</td>\n",
       "      <td>0.000000</td>\n",
       "      <td>0.109630</td>\n",
       "      <td>0.083855</td>\n",
       "    </tr>\n",
       "    <tr>\n",
       "      <th>2</th>\n",
       "      <td>0.0</td>\n",
       "      <td>0.8</td>\n",
       "      <td>1.0</td>\n",
       "      <td>1.0</td>\n",
       "      <td>1.0</td>\n",
       "      <td>0.666667</td>\n",
       "      <td>0.0</td>\n",
       "      <td>0.0</td>\n",
       "      <td>0.0</td>\n",
       "      <td>0.0</td>\n",
       "      <td>...</td>\n",
       "      <td>0.000000</td>\n",
       "      <td>0.239437</td>\n",
       "      <td>0.226645</td>\n",
       "      <td>0.611765</td>\n",
       "      <td>0.768159</td>\n",
       "      <td>0.200063</td>\n",
       "      <td>0.916047</td>\n",
       "      <td>0.000000</td>\n",
       "      <td>0.057211</td>\n",
       "      <td>0.158013</td>\n",
       "    </tr>\n",
       "    <tr>\n",
       "      <th>3</th>\n",
       "      <td>1.0</td>\n",
       "      <td>0.6</td>\n",
       "      <td>1.0</td>\n",
       "      <td>0.0</td>\n",
       "      <td>1.0</td>\n",
       "      <td>0.666667</td>\n",
       "      <td>0.0</td>\n",
       "      <td>1.0</td>\n",
       "      <td>1.0</td>\n",
       "      <td>0.0</td>\n",
       "      <td>...</td>\n",
       "      <td>0.090909</td>\n",
       "      <td>0.338028</td>\n",
       "      <td>0.395279</td>\n",
       "      <td>0.141176</td>\n",
       "      <td>0.798507</td>\n",
       "      <td>0.287988</td>\n",
       "      <td>0.269733</td>\n",
       "      <td>0.000000</td>\n",
       "      <td>0.138580</td>\n",
       "      <td>0.248680</td>\n",
       "    </tr>\n",
       "    <tr>\n",
       "      <th>4</th>\n",
       "      <td>1.0</td>\n",
       "      <td>0.6</td>\n",
       "      <td>1.0</td>\n",
       "      <td>1.0</td>\n",
       "      <td>1.0</td>\n",
       "      <td>0.666667</td>\n",
       "      <td>0.0</td>\n",
       "      <td>0.0</td>\n",
       "      <td>0.0</td>\n",
       "      <td>0.0</td>\n",
       "      <td>...</td>\n",
       "      <td>0.090909</td>\n",
       "      <td>0.507042</td>\n",
       "      <td>0.126625</td>\n",
       "      <td>0.164706</td>\n",
       "      <td>0.579602</td>\n",
       "      <td>0.328796</td>\n",
       "      <td>0.000000</td>\n",
       "      <td>0.000000</td>\n",
       "      <td>0.065702</td>\n",
       "      <td>0.257652</td>\n",
       "    </tr>\n",
       "  </tbody>\n",
       "</table>\n",
       "<p>5 rows × 27 columns</p>\n",
       "</div>"
      ],
      "text/plain": [
       "   Referred a Friend  Offer  Phone Service  Multiple Lines  Internet Service  \\\n",
       "0                0.0    0.0            0.0             0.0               1.0   \n",
       "1                1.0    1.0            1.0             1.0               1.0   \n",
       "2                0.0    0.8            1.0             1.0               1.0   \n",
       "3                1.0    0.6            1.0             0.0               1.0   \n",
       "4                1.0    0.6            1.0             1.0               1.0   \n",
       "\n",
       "   Internet Type  Online Security  Online Backup  Device Protection Plan  \\\n",
       "0       0.333333              0.0            0.0                     1.0   \n",
       "1       0.666667              0.0            1.0                     0.0   \n",
       "2       0.666667              0.0            0.0                     0.0   \n",
       "3       0.666667              0.0            1.0                     1.0   \n",
       "4       0.666667              0.0            0.0                     0.0   \n",
       "\n",
       "   Premium Tech Support  ...  Number of Referrals  Tenure in Months  \\\n",
       "0                   0.0  ...             0.000000          0.000000   \n",
       "1                   0.0  ...             0.090909          0.098592   \n",
       "2                   0.0  ...             0.000000          0.239437   \n",
       "3                   0.0  ...             0.090909          0.338028   \n",
       "4                   0.0  ...             0.090909          0.507042   \n",
       "\n",
       "   Avg Monthly Long Distance Charges  Avg Monthly GB Download  Monthly Charge  \\\n",
       "0                           0.000000                 0.094118        0.212935   \n",
       "1                           0.977195                 0.200000        0.620896   \n",
       "2                           0.226645                 0.611765        0.768159   \n",
       "3                           0.395279                 0.141176        0.798507   \n",
       "4                           0.126625                 0.164706        0.579602   \n",
       "\n",
       "   Total Charges  Total Refunds  Total Extra Data Charges  \\\n",
       "0       0.002406       0.000000                  0.133333   \n",
       "1       0.070909       0.000000                  0.000000   \n",
       "2       0.200063       0.916047                  0.000000   \n",
       "3       0.287988       0.269733                  0.000000   \n",
       "4       0.328796       0.000000                  0.000000   \n",
       "\n",
       "   Total Long Distance Charges  Total Revenue  \n",
       "0                     0.000000       0.003202  \n",
       "1                     0.109630       0.083855  \n",
       "2                     0.057211       0.158013  \n",
       "3                     0.138580       0.248680  \n",
       "4                     0.065702       0.257652  \n",
       "\n",
       "[5 rows x 27 columns]"
      ]
     },
     "execution_count": 44,
     "metadata": {},
     "output_type": "execute_result"
    }
   ],
   "source": [
    "# Since the data is with different scales we Normalize the same by defining and running the Norm function\n",
    "def norm(i):\n",
    "    x = (i - i.min())/(i.max() - i.min())\n",
    "    return x\n",
    "\n",
    "df_norm = norm(tele_new.iloc[:,:])\n",
    "df_norm.head()"
   ]
  },
  {
   "cell_type": "markdown",
   "metadata": {
    "id": "TSU55NDiJMIS"
   },
   "source": [
    "After all the analyses we now start with the K-Means Clustering procedure\n",
    "\n",
    "K-means is a centroid-based algorithm, or a distance-based algorithm, where we calculate the distances to assign a point to a cluster. In K-Means, each cluster is associated with a centroid.\n",
    "\n",
    "The main objective of the K-Means algorithm is to minimize the sum of distances between the points and their respective cluster centroid. The first step in k-means is to pick the number of clusters, k. Then keep the iterations running until one of the below satisifes:\n",
    "\n",
    "    1. Centroids of newly formed clusters do not change\n",
    "    2. Points remain in the same cluster\n",
    "    3. Maximum number of iterations are reached\n",
    "\n",
    "In K Means clustering we need to first assign the K number of clusters which can be taken up using the thumb rule of \"Sqrt(n)/2\" or plotting the Elbow curve, aka Scree plot. "
   ]
  },
  {
   "cell_type": "code",
   "execution_count": 45,
   "metadata": {},
   "outputs": [
    {
     "data": {
      "text/plain": [
       "[22112.96089083438,\n",
       " 19182.46386987886,\n",
       " 17819.847641015913,\n",
       " 16925.365301793918,\n",
       " 16397.208473540977,\n",
       " 15932.955759906386]"
      ]
     },
     "execution_count": 45,
     "metadata": {},
     "output_type": "execute_result"
    }
   ],
   "source": [
    "# calculating TWSS - Total within SS using different cluster range\n",
    "from sklearn.cluster import KMeans\n",
    "\n",
    "TWSS = []\n",
    "k = list(range(2, 8))\n",
    "\n",
    "for i in k:\n",
    "    kmeans = KMeans(n_clusters = i)\n",
    "    kmeans.fit(df_norm)\n",
    "    TWSS.append(kmeans.inertia_)\n",
    "    \n",
    "TWSS"
   ]
  },
  {
   "cell_type": "code",
   "execution_count": 48,
   "metadata": {},
   "outputs": [
    {
     "data": {
      "text/plain": [
       "Text(0, 0.5, 'total_within_SS')"
      ]
     },
     "execution_count": 48,
     "metadata": {},
     "output_type": "execute_result"
    },
    {
     "data": {
      "image/png": "[encoded data removed]",
      "text/plain": [
       "<Figure size 432x288 with 1 Axes>"
      ]
     },
     "metadata": {
      "needs_background": "light"
     },
     "output_type": "display_data"
    }
   ],
   "source": [
    "# Plotting the Scree plot using the TWSS from above defined function\n",
    "plt.plot(k, TWSS, 'ro-');plt.xlabel(\"No_of_Clusters\");plt.ylabel(\"total_within_SS\")"
   ]
  },
  {
   "cell_type": "code",
   "execution_count": 49,
   "metadata": {},
   "outputs": [
    {
     "data": {
      "text/plain": [
       "KMeans(n_clusters=3)"
      ]
     },
     "execution_count": 49,
     "metadata": {},
     "output_type": "execute_result"
    }
   ],
   "source": [
    "# Selecting 3 clusters from the above scree plot which is the optimum number of clusters \n",
    "model = KMeans(n_clusters = 3)\n",
    "model.fit(df_norm)\n"
   ]
  },
  {
   "cell_type": "code",
   "execution_count": 50,
   "metadata": {},
   "outputs": [],
   "source": [
    "model.labels_ # getting the labels of clusters assigned to each row \n",
    "mb = pd.Series(model.labels_)  # converting numpy array into pandas series object \n",
    "df_norm['clust'] = mb # creating a  new column and assigning it to new column "
   ]
  },
  {
   "cell_type": "code",
   "execution_count": 51,
   "metadata": {},
   "outputs": [
    {
     "data": {
      "text/html": [
       "<div>\n",
       "<style scoped>\n",
       "    .dataframe tbody tr th:only-of-type {\n",
       "        vertical-align: middle;\n",
       "    }\n",
       "\n",
       "    .dataframe tbody tr th {\n",
       "        vertical-align: top;\n",
       "    }\n",
       "\n",
       "    .dataframe thead th {\n",
       "        text-align: right;\n",
       "    }\n",
       "</style>\n",
       "<table border=\"1\" class=\"dataframe\">\n",
       "  <thead>\n",
       "    <tr style=\"text-align: right;\">\n",
       "      <th></th>\n",
       "      <th>Referred a Friend</th>\n",
       "      <th>Offer</th>\n",
       "      <th>Phone Service</th>\n",
       "      <th>Multiple Lines</th>\n",
       "      <th>Internet Service</th>\n",
       "      <th>Internet Type</th>\n",
       "      <th>Online Security</th>\n",
       "      <th>Online Backup</th>\n",
       "      <th>Device Protection Plan</th>\n",
       "      <th>Premium Tech Support</th>\n",
       "      <th>...</th>\n",
       "      <th>Tenure in Months</th>\n",
       "      <th>Avg Monthly Long Distance Charges</th>\n",
       "      <th>Avg Monthly GB Download</th>\n",
       "      <th>Monthly Charge</th>\n",
       "      <th>Total Charges</th>\n",
       "      <th>Total Refunds</th>\n",
       "      <th>Total Extra Data Charges</th>\n",
       "      <th>Total Long Distance Charges</th>\n",
       "      <th>Total Revenue</th>\n",
       "      <th>clust</th>\n",
       "    </tr>\n",
       "  </thead>\n",
       "  <tbody>\n",
       "    <tr>\n",
       "      <th>0</th>\n",
       "      <td>0.0</td>\n",
       "      <td>0.0</td>\n",
       "      <td>0.0</td>\n",
       "      <td>0.0</td>\n",
       "      <td>1.0</td>\n",
       "      <td>0.333333</td>\n",
       "      <td>0.0</td>\n",
       "      <td>0.0</td>\n",
       "      <td>1.0</td>\n",
       "      <td>0.0</td>\n",
       "      <td>...</td>\n",
       "      <td>0.000000</td>\n",
       "      <td>0.000000</td>\n",
       "      <td>0.094118</td>\n",
       "      <td>0.212935</td>\n",
       "      <td>0.002406</td>\n",
       "      <td>0.000000</td>\n",
       "      <td>0.133333</td>\n",
       "      <td>0.000000</td>\n",
       "      <td>0.003202</td>\n",
       "      <td>1</td>\n",
       "    </tr>\n",
       "    <tr>\n",
       "      <th>1</th>\n",
       "      <td>1.0</td>\n",
       "      <td>1.0</td>\n",
       "      <td>1.0</td>\n",
       "      <td>1.0</td>\n",
       "      <td>1.0</td>\n",
       "      <td>0.666667</td>\n",
       "      <td>0.0</td>\n",
       "      <td>1.0</td>\n",
       "      <td>0.0</td>\n",
       "      <td>0.0</td>\n",
       "      <td>...</td>\n",
       "      <td>0.098592</td>\n",
       "      <td>0.977195</td>\n",
       "      <td>0.200000</td>\n",
       "      <td>0.620896</td>\n",
       "      <td>0.070909</td>\n",
       "      <td>0.000000</td>\n",
       "      <td>0.000000</td>\n",
       "      <td>0.109630</td>\n",
       "      <td>0.083855</td>\n",
       "      <td>1</td>\n",
       "    </tr>\n",
       "    <tr>\n",
       "      <th>2</th>\n",
       "      <td>0.0</td>\n",
       "      <td>0.8</td>\n",
       "      <td>1.0</td>\n",
       "      <td>1.0</td>\n",
       "      <td>1.0</td>\n",
       "      <td>0.666667</td>\n",
       "      <td>0.0</td>\n",
       "      <td>0.0</td>\n",
       "      <td>0.0</td>\n",
       "      <td>0.0</td>\n",
       "      <td>...</td>\n",
       "      <td>0.239437</td>\n",
       "      <td>0.226645</td>\n",
       "      <td>0.611765</td>\n",
       "      <td>0.768159</td>\n",
       "      <td>0.200063</td>\n",
       "      <td>0.916047</td>\n",
       "      <td>0.000000</td>\n",
       "      <td>0.057211</td>\n",
       "      <td>0.158013</td>\n",
       "      <td>1</td>\n",
       "    </tr>\n",
       "    <tr>\n",
       "      <th>3</th>\n",
       "      <td>1.0</td>\n",
       "      <td>0.6</td>\n",
       "      <td>1.0</td>\n",
       "      <td>0.0</td>\n",
       "      <td>1.0</td>\n",
       "      <td>0.666667</td>\n",
       "      <td>0.0</td>\n",
       "      <td>1.0</td>\n",
       "      <td>1.0</td>\n",
       "      <td>0.0</td>\n",
       "      <td>...</td>\n",
       "      <td>0.338028</td>\n",
       "      <td>0.395279</td>\n",
       "      <td>0.141176</td>\n",
       "      <td>0.798507</td>\n",
       "      <td>0.287988</td>\n",
       "      <td>0.269733</td>\n",
       "      <td>0.000000</td>\n",
       "      <td>0.138580</td>\n",
       "      <td>0.248680</td>\n",
       "      <td>0</td>\n",
       "    </tr>\n",
       "    <tr>\n",
       "      <th>4</th>\n",
       "      <td>1.0</td>\n",
       "      <td>0.6</td>\n",
       "      <td>1.0</td>\n",
       "      <td>1.0</td>\n",
       "      <td>1.0</td>\n",
       "      <td>0.666667</td>\n",
       "      <td>0.0</td>\n",
       "      <td>0.0</td>\n",
       "      <td>0.0</td>\n",
       "      <td>0.0</td>\n",
       "      <td>...</td>\n",
       "      <td>0.507042</td>\n",
       "      <td>0.126625</td>\n",
       "      <td>0.164706</td>\n",
       "      <td>0.579602</td>\n",
       "      <td>0.328796</td>\n",
       "      <td>0.000000</td>\n",
       "      <td>0.000000</td>\n",
       "      <td>0.065702</td>\n",
       "      <td>0.257652</td>\n",
       "      <td>1</td>\n",
       "    </tr>\n",
       "  </tbody>\n",
       "</table>\n",
       "<p>5 rows × 28 columns</p>\n",
       "</div>"
      ],
      "text/plain": [
       "   Referred a Friend  Offer  Phone Service  Multiple Lines  Internet Service  \\\n",
       "0                0.0    0.0            0.0             0.0               1.0   \n",
       "1                1.0    1.0            1.0             1.0               1.0   \n",
       "2                0.0    0.8            1.0             1.0               1.0   \n",
       "3                1.0    0.6            1.0             0.0               1.0   \n",
       "4                1.0    0.6            1.0             1.0               1.0   \n",
       "\n",
       "   Internet Type  Online Security  Online Backup  Device Protection Plan  \\\n",
       "0       0.333333              0.0            0.0                     1.0   \n",
       "1       0.666667              0.0            1.0                     0.0   \n",
       "2       0.666667              0.0            0.0                     0.0   \n",
       "3       0.666667              0.0            1.0                     1.0   \n",
       "4       0.666667              0.0            0.0                     0.0   \n",
       "\n",
       "   Premium Tech Support  ...  Tenure in Months  \\\n",
       "0                   0.0  ...          0.000000   \n",
       "1                   0.0  ...          0.098592   \n",
       "2                   0.0  ...          0.239437   \n",
       "3                   0.0  ...          0.338028   \n",
       "4                   0.0  ...          0.507042   \n",
       "\n",
       "   Avg Monthly Long Distance Charges  Avg Monthly GB Download  Monthly Charge  \\\n",
       "0                           0.000000                 0.094118        0.212935   \n",
       "1                           0.977195                 0.200000        0.620896   \n",
       "2                           0.226645                 0.611765        0.768159   \n",
       "3                           0.395279                 0.141176        0.798507   \n",
       "4                           0.126625                 0.164706        0.579602   \n",
       "\n",
       "   Total Charges  Total Refunds  Total Extra Data Charges  \\\n",
       "0       0.002406       0.000000                  0.133333   \n",
       "1       0.070909       0.000000                  0.000000   \n",
       "2       0.200063       0.916047                  0.000000   \n",
       "3       0.287988       0.269733                  0.000000   \n",
       "4       0.328796       0.000000                  0.000000   \n",
       "\n",
       "   Total Long Distance Charges  Total Revenue  clust  \n",
       "0                     0.000000       0.003202      1  \n",
       "1                     0.109630       0.083855      1  \n",
       "2                     0.057211       0.158013      1  \n",
       "3                     0.138580       0.248680      0  \n",
       "4                     0.065702       0.257652      1  \n",
       "\n",
       "[5 rows x 28 columns]"
      ]
     },
     "execution_count": 51,
     "metadata": {},
     "output_type": "execute_result"
    }
   ],
   "source": [
    "df_norm.head()"
   ]
  },
  {
   "cell_type": "code",
   "execution_count": 55,
   "metadata": {},
   "outputs": [
    {
     "data": {
      "text/html": [
       "<div>\n",
       "<style scoped>\n",
       "    .dataframe tbody tr th:only-of-type {\n",
       "        vertical-align: middle;\n",
       "    }\n",
       "\n",
       "    .dataframe tbody tr th {\n",
       "        vertical-align: top;\n",
       "    }\n",
       "\n",
       "    .dataframe thead th {\n",
       "        text-align: right;\n",
       "    }\n",
       "</style>\n",
       "<table border=\"1\" class=\"dataframe\">\n",
       "  <thead>\n",
       "    <tr style=\"text-align: right;\">\n",
       "      <th></th>\n",
       "      <th>Referred a Friend</th>\n",
       "      <th>Offer</th>\n",
       "      <th>Phone Service</th>\n",
       "      <th>Multiple Lines</th>\n",
       "      <th>Internet Service</th>\n",
       "      <th>Internet Type</th>\n",
       "      <th>Online Security</th>\n",
       "      <th>Online Backup</th>\n",
       "      <th>Device Protection Plan</th>\n",
       "      <th>Premium Tech Support</th>\n",
       "      <th>...</th>\n",
       "      <th>Tenure in Months</th>\n",
       "      <th>Avg Monthly Long Distance Charges</th>\n",
       "      <th>Avg Monthly GB Download</th>\n",
       "      <th>Monthly Charge</th>\n",
       "      <th>Total Charges</th>\n",
       "      <th>Total Refunds</th>\n",
       "      <th>Total Extra Data Charges</th>\n",
       "      <th>Total Long Distance Charges</th>\n",
       "      <th>Total Revenue</th>\n",
       "      <th>clust</th>\n",
       "    </tr>\n",
       "    <tr>\n",
       "      <th>clust</th>\n",
       "      <th></th>\n",
       "      <th></th>\n",
       "      <th></th>\n",
       "      <th></th>\n",
       "      <th></th>\n",
       "      <th></th>\n",
       "      <th></th>\n",
       "      <th></th>\n",
       "      <th></th>\n",
       "      <th></th>\n",
       "      <th></th>\n",
       "      <th></th>\n",
       "      <th></th>\n",
       "      <th></th>\n",
       "      <th></th>\n",
       "      <th></th>\n",
       "      <th></th>\n",
       "      <th></th>\n",
       "      <th></th>\n",
       "      <th></th>\n",
       "      <th></th>\n",
       "    </tr>\n",
       "  </thead>\n",
       "  <tbody>\n",
       "    <tr>\n",
       "      <th>0</th>\n",
       "      <td>0.661879</td>\n",
       "      <td>0.177267</td>\n",
       "      <td>0.923266</td>\n",
       "      <td>0.682807</td>\n",
       "      <td>1.000000</td>\n",
       "      <td>0.494871</td>\n",
       "      <td>0.512515</td>\n",
       "      <td>0.654493</td>\n",
       "      <td>0.718096</td>\n",
       "      <td>0.56668</td>\n",
       "      <td>...</td>\n",
       "      <td>0.714230</td>\n",
       "      <td>0.481988</td>\n",
       "      <td>0.321142</td>\n",
       "      <td>0.720365</td>\n",
       "      <td>0.539475</td>\n",
       "      <td>0.045981</td>\n",
       "      <td>0.067816</td>\n",
       "      <td>0.345510</td>\n",
       "      <td>0.494402</td>\n",
       "      <td>0.0</td>\n",
       "    </tr>\n",
       "    <tr>\n",
       "      <th>1</th>\n",
       "      <td>0.296031</td>\n",
       "      <td>0.357580</td>\n",
       "      <td>0.838972</td>\n",
       "      <td>0.313273</td>\n",
       "      <td>1.000000</td>\n",
       "      <td>0.443830</td>\n",
       "      <td>0.249512</td>\n",
       "      <td>0.271308</td>\n",
       "      <td>0.218282</td>\n",
       "      <td>0.21568</td>\n",
       "      <td>...</td>\n",
       "      <td>0.238552</td>\n",
       "      <td>0.421089</td>\n",
       "      <td>0.297952</td>\n",
       "      <td>0.474274</td>\n",
       "      <td>0.132588</td>\n",
       "      <td>0.037349</td>\n",
       "      <td>0.049816</td>\n",
       "      <td>0.099734</td>\n",
       "      <td>0.126074</td>\n",
       "      <td>1.0</td>\n",
       "    </tr>\n",
       "    <tr>\n",
       "      <th>2</th>\n",
       "      <td>0.456266</td>\n",
       "      <td>0.285901</td>\n",
       "      <td>1.000000</td>\n",
       "      <td>0.224543</td>\n",
       "      <td>0.003916</td>\n",
       "      <td>0.998477</td>\n",
       "      <td>0.001958</td>\n",
       "      <td>0.000000</td>\n",
       "      <td>0.000653</td>\n",
       "      <td>0.00000</td>\n",
       "      <td>...</td>\n",
       "      <td>0.417488</td>\n",
       "      <td>0.499748</td>\n",
       "      <td>0.000883</td>\n",
       "      <td>0.030074</td>\n",
       "      <td>0.075554</td>\n",
       "      <td>0.033088</td>\n",
       "      <td>0.002437</td>\n",
       "      <td>0.216347</td>\n",
       "      <td>0.118927</td>\n",
       "      <td>2.0</td>\n",
       "    </tr>\n",
       "  </tbody>\n",
       "</table>\n",
       "<p>3 rows × 28 columns</p>\n",
       "</div>"
      ],
      "text/plain": [
       "       Referred a Friend     Offer  Phone Service  Multiple Lines  \\\n",
       "clust                                                               \n",
       "0               0.661879  0.177267       0.923266        0.682807   \n",
       "1               0.296031  0.357580       0.838972        0.313273   \n",
       "2               0.456266  0.285901       1.000000        0.224543   \n",
       "\n",
       "       Internet Service  Internet Type  Online Security  Online Backup  \\\n",
       "clust                                                                    \n",
       "0              1.000000       0.494871         0.512515       0.654493   \n",
       "1              1.000000       0.443830         0.249512       0.271308   \n",
       "2              0.003916       0.998477         0.001958       0.000000   \n",
       "\n",
       "       Device Protection Plan  Premium Tech Support  ...  Tenure in Months  \\\n",
       "clust                                                ...                     \n",
       "0                    0.718096               0.56668  ...          0.714230   \n",
       "1                    0.218282               0.21568  ...          0.238552   \n",
       "2                    0.000653               0.00000  ...          0.417488   \n",
       "\n",
       "       Avg Monthly Long Distance Charges  Avg Monthly GB Download  \\\n",
       "clust                                                               \n",
       "0                               0.481988                 0.321142   \n",
       "1                               0.421089                 0.297952   \n",
       "2                               0.499748                 0.000883   \n",
       "\n",
       "       Monthly Charge  Total Charges  Total Refunds  Total Extra Data Charges  \\\n",
       "clust                                                                           \n",
       "0            0.720365       0.539475       0.045981                  0.067816   \n",
       "1            0.474274       0.132588       0.037349                  0.049816   \n",
       "2            0.030074       0.075554       0.033088                  0.002437   \n",
       "\n",
       "       Total Long Distance Charges  Total Revenue  clust  \n",
       "clust                                                     \n",
       "0                         0.345510       0.494402    0.0  \n",
       "1                         0.099734       0.126074    1.0  \n",
       "2                         0.216347       0.118927    2.0  \n",
       "\n",
       "[3 rows x 28 columns]"
      ]
     },
     "execution_count": 55,
     "metadata": {},
     "output_type": "execute_result"
    }
   ],
   "source": [
    "# We can clearly see that we have the labels in the dataset in the form of a column called \"clust\", symbolizing the clusters\n",
    "# In order to see the clusters we aggregate the records within the clusters and group them by the clusters to visualize the \n",
    "# 3 nos of clear cluster formed\n",
    "df_norm.iloc[:, 0:53].groupby(df_norm.clust).mean()"
   ]
  },
  {
   "cell_type": "markdown",
   "metadata": {},
   "source": [
    "We see that the three cluster were formed and the classification could be inferred as follows:\n",
    "\n",
    "Cluster 1 = These are the customers that are frequent users and take up the offers as well, Internet used by them is moderate to heavy, but take on offers as well. The revenue earned through these is also the best. Hence, these are the customers that are least likely to churn.\n",
    "\n",
    "Cluster 2 = These are the customers that are least on all the criterias whether being using the services, to net usage, and dont take up the offers as well, additionally the revenue earned through them is the least. Hence we infer that these are the ones that churn the most.\n",
    "\n",
    "Cluster 3 = These are the customers that stand in the middle of the two extremes and may or may not churn that frequently."
   ]
  }
 ],
 "metadata": {
  "colab": {
   "name": "Heirarchical Clustering - Telco_customer_churn data.ipynb",
   "provenance": []
  },
  "kernelspec": {
   "display_name": "Python 3",
   "language": "python",
   "name": "python3"
  }
 },
 "nbformat": 4,
 "nbformat_minor": 1
}
